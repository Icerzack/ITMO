{
  "nbformat": 4,
  "nbformat_minor": 0,
  "metadata": {
    "colab": {
      "provenance": []
    },
    "kernelspec": {
      "name": "python3",
      "display_name": "Python 3"
    },
    "language_info": {
      "name": "python"
    }
  },
  "cells": [
    {
      "cell_type": "code",
      "source": [
        "import numpy as np\n",
        "import matplotlib.pyplot as plt\n",
        "from keras.datasets import mnist\n",
        "from sklearn.decomposition import PCA\n",
        "from sklearn.model_selection import train_test_split\n",
        "from sklearn.multiclass import OneVsRestClassifier\n",
        "from sklearn.ensemble import RandomForestClassifier\n",
        "from sklearn.metrics import confusion_matrix\n",
        "from sklearn.metrics import classification_report, accuracy_score\n",
        "import random"
      ],
      "metadata": {
        "id": "iNVuS5NoctL3"
      },
      "execution_count": 122,
      "outputs": []
    },
    {
      "cell_type": "code",
      "execution_count": 123,
      "metadata": {
        "id": "jD2o40Q1apWU",
        "colab": {
          "base_uri": "https://localhost:8080/"
        },
        "outputId": "a121a72d-0b9a-459c-8538-3b5ae7b19fe2"
      },
      "outputs": [
        {
          "output_type": "stream",
          "name": "stdout",
          "text": [
            "[0.098 0.168 0.23  0.284 0.333 0.375 0.408 0.437 0.464 0.488 0.509 0.53\n",
            " 0.547 0.564 0.579 0.594 0.608 0.62  0.632 0.644 0.654 0.664 0.674 0.683\n",
            " 0.692 0.7   0.708 0.716 0.724 0.731 0.737 0.744 0.75  0.756 0.761 0.767\n",
            " 0.772 0.777 0.781 0.786 0.791 0.795 0.799 0.803 0.807 0.811 0.815 0.818\n",
            " 0.821 0.825 0.828 0.831 0.834 0.837 0.84  0.842 0.845 0.848 0.85  0.853\n",
            " 0.855 0.858 0.86  0.862 0.864 0.866 0.868 0.87  0.872 0.874 0.876 0.878\n",
            " 0.879 0.881 0.883 0.885 0.886 0.888 0.889 0.891 0.892 0.893 0.895 0.896\n",
            " 0.898 0.899 0.9   0.901 0.903 0.904 0.905 0.906 0.907 0.908 0.91  0.911\n",
            " 0.912 0.913 0.914 0.915 0.916 0.917 0.918 0.918 0.919 0.92  0.921 0.922\n",
            " 0.923 0.924 0.924 0.925 0.926 0.927 0.928 0.928 0.929 0.93  0.93  0.931\n",
            " 0.932 0.933 0.933 0.934 0.935 0.935 0.936 0.937 0.937 0.938 0.938 0.939\n",
            " 0.94  0.94  0.941 0.941 0.942 0.942 0.943 0.943 0.944 0.945 0.945 0.946\n",
            " 0.946 0.946 0.947 0.947 0.948 0.948 0.949 0.949 0.95  0.95  0.951 0.951\n",
            " 0.952 0.952 0.952 0.953 0.953 0.954 0.954 0.954 0.955 0.955 0.956 0.956\n",
            " 0.956 0.957 0.957 0.958 0.958 0.958 0.959 0.959 0.959 0.96  0.96  0.96\n",
            " 0.961 0.961 0.961 0.962 0.962 0.962 0.963 0.963 0.963 0.964 0.964 0.964\n",
            " 0.964 0.965 0.965 0.965 0.966 0.966 0.966 0.966 0.967 0.967 0.967 0.968\n",
            " 0.968 0.968 0.968 0.969 0.969 0.969 0.969 0.97  0.97  0.97  0.97  0.971\n",
            " 0.971 0.971 0.971 0.972 0.972 0.972 0.972 0.973 0.973 0.973 0.973 0.974\n",
            " 0.974 0.974 0.974 0.974 0.975 0.975 0.975 0.975 0.976 0.976 0.976 0.976\n",
            " 0.976 0.977 0.977 0.977 0.977 0.977 0.978 0.978 0.978 0.978 0.978 0.979\n",
            " 0.979 0.979 0.979 0.979 0.979 0.98  0.98  0.98  0.98  0.98  0.981 0.981\n",
            " 0.981 0.981 0.981 0.981 0.982 0.982 0.982 0.982 0.982 0.982 0.983 0.983\n",
            " 0.983 0.983 0.983 0.983 0.983 0.984 0.984 0.984 0.984 0.984 0.984 0.985\n",
            " 0.985 0.985 0.985 0.985 0.985 0.985 0.986 0.986 0.986 0.986 0.986 0.986\n",
            " 0.986 0.987 0.987 0.987 0.987 0.987 0.987 0.987 0.987 0.988 0.988 0.988\n",
            " 0.988 0.988 0.988 0.988 0.988 0.989 0.989 0.989 0.989 0.989 0.989 0.989\n",
            " 0.989 0.989 0.99  0.99  0.99  0.99  0.99  0.99  0.99  0.99  0.99  0.991\n",
            " 0.991 0.991 0.991 0.991 0.991 0.991 0.991 0.991 0.991 0.992 0.992 0.992\n",
            " 0.992 0.992 0.992 0.992 0.992 0.992 0.992 0.993 0.993 0.993 0.993 0.993\n",
            " 0.993 0.993 0.993 0.993 0.993 0.993 0.993 0.994 0.994 0.994 0.994 0.994\n",
            " 0.994 0.994 0.994 0.994 0.994 0.994 0.994 0.994 0.995 0.995 0.995 0.995\n",
            " 0.995 0.995 0.995 0.995 0.995 0.995 0.995 0.995 0.995 0.995 0.996 0.996\n",
            " 0.996 0.996 0.996 0.996 0.996 0.996 0.996 0.996 0.996 0.996 0.996 0.996\n",
            " 0.996 0.996 0.996 0.996 0.997 0.997 0.997 0.997 0.997 0.997 0.997 0.997\n",
            " 0.997 0.997 0.997 0.997 0.997 0.997 0.997 0.997 0.997 0.997 0.997 0.997\n",
            " 0.997 0.998 0.998 0.998 0.998 0.998 0.998 0.998 0.998 0.998 0.998 0.998\n",
            " 0.998 0.998 0.998 0.998 0.998 0.998 0.998 0.998 0.998 0.998 0.998 0.998\n",
            " 0.998 0.998 0.998 0.998 0.998 0.998 0.998 0.999 0.999 0.999 0.999 0.999\n",
            " 0.999 0.999 0.999 0.999 0.999 0.999 0.999 0.999 0.999 0.999 0.999 0.999\n",
            " 0.999 0.999 0.999 0.999 0.999 0.999 0.999 0.999 0.999 0.999 0.999 0.999\n",
            " 0.999 0.999 0.999 0.999 0.999 0.999 0.999 0.999 0.999 0.999 0.999 0.999\n",
            " 0.999 0.999 0.999 0.999 0.999 0.999 0.999 0.999 0.999 0.999 0.999 0.999\n",
            " 0.999 0.999 1.    1.    1.    1.    1.    1.    1.    1.    1.    1.\n",
            " 1.    1.    1.    1.    1.    1.    1.    1.    1.    1.    1.    1.\n",
            " 1.    1.    1.    1.    1.    1.    1.    1.    1.    1.    1.    1.\n",
            " 1.    1.    1.    1.    1.    1.    1.    1.    1.    1.    1.    1.\n",
            " 1.    1.    1.    1.    1.    1.    1.    1.    1.    1.    1.    1.\n",
            " 1.    1.    1.    1.    1.    1.    1.    1.    1.    1.    1.    1.\n",
            " 1.    1.    1.    1.    1.    1.    1.    1.    1.    1.    1.    1.\n",
            " 1.    1.    1.    1.    1.    1.    1.    1.    1.    1.    1.    1.\n",
            " 1.    1.    1.    1.    1.    1.    1.    1.    1.    1.    1.    1.\n",
            " 1.    1.    1.    1.    1.    1.    1.    1.    1.    1.    1.    1.\n",
            " 1.    1.    1.    1.    1.    1.    1.    1.    1.    1.    1.    1.\n",
            " 1.    1.    1.    1.    1.    1.    1.    1.    1.    1.    1.    1.\n",
            " 1.    1.    1.    1.    1.    1.    1.    1.    1.    1.    1.    1.\n",
            " 1.    1.    1.    1.    1.    1.    1.    1.    1.    1.    1.    1.\n",
            " 1.    1.    1.    1.    1.    1.    1.    1.    1.    1.    1.    1.\n",
            " 1.    1.    1.    1.    1.    1.    1.    1.    1.    1.    1.    1.\n",
            " 1.    1.    1.    1.    1.    1.    1.    1.    1.    1.    1.    1.\n",
            " 1.    1.    1.    1.    1.    1.    1.    1.    1.    1.    1.    1.\n",
            " 1.    1.    1.    1.    1.    1.    1.    1.    1.    1.    1.    1.\n",
            " 1.    1.    1.    1.    1.    1.    1.    1.    1.    1.    1.    1.\n",
            " 1.    1.    1.    1.    1.    1.    1.    1.    1.    1.    1.    1.\n",
            " 1.    1.    1.    1.    1.    1.    1.    1.    1.    1.    1.    1.\n",
            " 1.    1.    1.    1.   ]\n"
          ]
        }
      ],
      "source": [
        "(X_train, y_train), (X_pred, y_pred) = mnist.load_data()\n",
        "\n",
        "X_train, X_test, y_train, y_test = train_test_split(X_train, y_train, test_size=0.3, random_state = 2020)\n",
        "\n",
        "dim = 784\n",
        "X_train = X_train.reshape(len(X_train), dim)\n",
        "X_test = X_test.reshape(len(X_test), dim)\n",
        "\n",
        "# уменьшение размерности\n",
        "pca = PCA(svd_solver='full')\n",
        "modelPCA = pca.fit(X_train)\n",
        "X_train = modelPCA.transform(X_train)\n",
        "\n",
        "# доля объясненной дисперсии\n",
        "explained_variance = np.round(np.cumsum(pca.explained_variance_ratio_), 3)\n",
        "print(explained_variance)"
      ]
    },
    {
      "cell_type": "markdown",
      "source": [
        "1. Определите, какое минимальное количество главных компонент необходимо использовать, чтобы доля объясненной дисперсии превышала 0.81. Построить график зависимости доли объясненной дисперсии от количества используемых ГК"
      ],
      "metadata": {
        "id": "nDjtw75tI6ML"
      }
    },
    {
      "cell_type": "code",
      "source": [
        "exp = 0.81\n",
        "\n",
        "pca = PCA(n_components=exp, svd_solver='full')\n",
        "X_train = X_train.reshape(len(X_train), dim)\n",
        "modelPCA = pca.fit(X_train)\n",
        "\n",
        "explained_variance = np.round(np.cumsum(pca.explained_variance_ratio_), 3)\n",
        "count = explained_variance.size\n",
        "\n",
        "plt.plot(np.arange(count), explained_variance, ls='-')\n",
        "print(\"Доля объясненной дисперсии: \" + str(round(exp, 2)) + \" \\nМинимальное количество ГК: \" + str(count))\n"
      ],
      "metadata": {
        "colab": {
          "base_uri": "https://localhost:8080/",
          "height": 301
        },
        "id": "y4ROEmiEI1hy",
        "outputId": "985d141f-7aad-4ce3-8f5c-4c8d0a340777"
      },
      "execution_count": 124,
      "outputs": [
        {
          "output_type": "stream",
          "name": "stdout",
          "text": [
            "Доля объясненной дисперсии: 0.81 \n",
            "Минимальное количество ГК: 46\n"
          ]
        },
        {
          "output_type": "display_data",
          "data": {
            "text/plain": [
              "<Figure size 432x288 with 1 Axes>"
            ],
            "image/png": "[encoded data removed]"
          },
          "metadata": {
            "needs_background": "light"
          }
        }
      ]
    },
    {
      "cell_type": "markdown",
      "source": [
        "2. Выведите количество верно классифицированных объектов класса 2 для тестовых данных"
      ],
      "metadata": {
        "id": "Bc_ZCGxiK0OZ"
      }
    },
    {
      "cell_type": "code",
      "source": [
        "pca = PCA(n_components=count, svd_solver='full')\n",
        "modelPCA = pca.fit(X_train) \n",
        "\n",
        "X_train = modelPCA.transform(X_train)\n",
        "\n",
        "tree = RandomForestClassifier(criterion='gini', min_samples_leaf=10, max_depth=20, n_estimators=10, random_state = 2020)\n",
        "clf = OneVsRestClassifier(tree).fit(X_train, y_train)\n",
        "\n",
        "# применим полученное раннее преобразование к тестовым данным\n",
        "modelPCA = pca.fit(X_test) \n",
        "X_test_transf = modelPCA.transform(X_test)\n",
        "\n",
        "y_pred = clf.predict(X_test_transf)\n",
        "\n",
        "m_conf = confusion_matrix(y_test, y_pred)\n",
        "print(m_conf)\n",
        "print(\"Количество верно классифицированных изображений: \" + str(\n",
        "    m_conf[2][2]))"
      ],
      "metadata": {
        "colab": {
          "base_uri": "https://localhost:8080/"
        },
        "id": "uYc5GY85LzY5",
        "outputId": "c1c4e152-76fc-44a7-c5a1-893eae18a55a"
      },
      "execution_count": 125,
      "outputs": [
        {
          "output_type": "stream",
          "name": "stdout",
          "text": [
            "[[1376    0  100   59    2   50   42   24   37    3]\n",
            " [   0 1836   32   10    8    8   50  121    8    2]\n",
            " [  63   11  867   77   68   81  434   11  136   15]\n",
            " [  23    6   65 1493   17  103   10   19  106   31]\n",
            " [  13   12   87    7 1325   17   50   39   68  138]\n",
            " [  91    9  175  213   55  699   11   38  267   33]\n",
            " [  40   24  727   29   41   32  684   23  135   31]\n",
            " [  55   57   22   18   59   34  167 1282   32  160]\n",
            " [  46   46  134  286   64  433   43   28  589  104]\n",
            " [  21   15   39   63  349   43   34  148  214  898]]\n",
            "Количество верно классифицированных изображений: 867\n"
          ]
        }
      ]
    },
    {
      "cell_type": "markdown",
      "source": [
        "3. Введите вероятность отнесения 5 любых изображений из тестового набора к назначенному классу"
      ],
      "metadata": {
        "id": "1POS2Y90cl4O"
      }
    },
    {
      "cell_type": "code",
      "source": [
        "for i in range(5):\n",
        "    num = random.randint(0, 9999)\n",
        "    obj = X_test[num].reshape(28, 28)\n",
        "    plt.figure()\n",
        "    plt.imshow(obj, cmap=\"gray\")\n",
        "    result = clf.predict_proba(X_test_transf)[num][y_pred[num]]\n",
        "    print(f\"Predicted class: {y_pred[num]}\")\n",
        "    print(f\"True class: {y_test[num]}\")\n",
        "    print(\"Вероятность изображения No.\" + str(num) + \" принадлежать к классу \" + str(y_pred[num]) + \" -> \" + str(\n",
        "        round(result, 3)))"
      ],
      "metadata": {
        "colab": {
          "base_uri": "https://localhost:8080/",
          "height": 1000
        },
        "id": "F2ZS2RrGcpf9",
        "outputId": "956bea0f-7039-4489-f2c5-99cb4cdef0bd"
      },
      "execution_count": 126,
      "outputs": [
        {
          "output_type": "stream",
          "name": "stdout",
          "text": [
            "Predicted class: 2\n",
            "True class: 6\n",
            "Вероятность изображения No.7331 принадлежать к классу 2 -> 0.429\n",
            "Predicted class: 8\n",
            "True class: 8\n",
            "Вероятность изображения No.8274 принадлежать к классу 8 -> 0.259\n",
            "Predicted class: 5\n",
            "True class: 2\n",
            "Вероятность изображения No.4933 принадлежать к классу 5 -> 0.437\n",
            "Predicted class: 4\n",
            "True class: 4\n",
            "Вероятность изображения No.3996 принадлежать к классу 4 -> 0.617\n",
            "Predicted class: 1\n",
            "True class: 1\n",
            "Вероятность изображения No.7069 принадлежать к классу 1 -> 0.481\n"
          ]
        },
        {
          "output_type": "display_data",
          "data": {
            "text/plain": [
              "<Figure size 432x288 with 1 Axes>"
            ],
            "image/png": "[encoded data removed]"
          },
          "metadata": {
            "needs_background": "light"
          }
        },
        {
          "output_type": "display_data",
          "data": {
            "text/plain": [
              "<Figure size 432x288 with 1 Axes>"
            ],
            "image/png": "[encoded data removed]"
          },
          "metadata": {
            "needs_background": "light"
          }
        },
        {
          "output_type": "display_data",
          "data": {
            "text/plain": [
              "<Figure size 432x288 with 1 Axes>"
            ],
            "image/png": "[encoded data removed]"
          },
          "metadata": {
            "needs_background": "light"
          }
        },
        {
          "output_type": "display_data",
          "data": {
            "text/plain": [
              "<Figure size 432x288 with 1 Axes>"
            ],
            "image/png": "[encoded data removed]"
          },
          "metadata": {
            "needs_background": "light"
          }
        },
        {
          "output_type": "display_data",
          "data": {
            "text/plain": [
              "<Figure size 432x288 with 1 Axes>"
            ],
            "image/png": "[encoded data removed]"
          },
          "metadata": {
            "needs_background": "light"
          }
        }
      ]
    },
    {
      "cell_type": "markdown",
      "source": [
        "4.\tОпределите Accuracy, Precision, Recall и F1 для обученной модели"
      ],
      "metadata": {
        "id": "RBNuekrzgvHh"
      }
    },
    {
      "cell_type": "code",
      "source": [
        "targets = ['Class 0', 'Class 1', 'Class 2', 'Class 3', 'Class 4', 'Class 5', 'Class 6', 'Class 7', 'Class 8', 'Class 9']\n",
        "\n",
        "print(\"Accuracy: \" + str(accuracy_score(y_test, y_pred)))\n",
        "print(classification_report(y_test, y_pred, target_names=targets))"
      ],
      "metadata": {
        "colab": {
          "base_uri": "https://localhost:8080/"
        },
        "id": "TIv-zmJjguhx",
        "outputId": "44656c5a-575e-4bba-bc57-54868c4c3388"
      },
      "execution_count": 127,
      "outputs": [
        {
          "output_type": "stream",
          "name": "stdout",
          "text": [
            "Accuracy: 0.6138333333333333\n",
            "              precision    recall  f1-score   support\n",
            "\n",
            "     Class 0       0.80      0.81      0.80      1693\n",
            "     Class 1       0.91      0.88      0.90      2075\n",
            "     Class 2       0.39      0.49      0.43      1763\n",
            "     Class 3       0.66      0.80      0.72      1873\n",
            "     Class 4       0.67      0.75      0.71      1756\n",
            "     Class 5       0.47      0.44      0.45      1591\n",
            "     Class 6       0.45      0.39      0.42      1766\n",
            "     Class 7       0.74      0.68      0.71      1886\n",
            "     Class 8       0.37      0.33      0.35      1773\n",
            "     Class 9       0.63      0.49      0.55      1824\n",
            "\n",
            "    accuracy                           0.61     18000\n",
            "   macro avg       0.61      0.61      0.60     18000\n",
            "weighted avg       0.62      0.61      0.61     18000\n",
            "\n"
          ]
        }
      ]
    }
  ]
}
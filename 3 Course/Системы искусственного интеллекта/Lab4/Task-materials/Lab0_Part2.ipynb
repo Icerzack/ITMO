{
  "cells": [
    {
      "cell_type": "markdown",
      "source": [
        "# Задание (Вариант 3)\n",
        "#### Part1 function: \n",
        "* Absolute(Sin(x)) X: 6,3..6.3 Y: 0..1.2\n",
        "\n",
        "#### Part2 data:\n",
        "* Handwritten digits\n",
        "\n",
        "#### Hyperparameters:\n",
        "* Regularization L2, output layer activation type"
      ],
      "metadata": {
        "id": "MDXlbxkOMFNv"
      }
    },
    {
      "cell_type": "markdown",
      "metadata": {
        "id": "ObiiapVuHtZY"
      },
      "source": [
        "# Import dependencies"
      ]
    },
    {
      "cell_type": "code",
      "execution_count": 1,
      "metadata": {
        "id": "SwkFcy8RHtZc"
      },
      "outputs": [],
      "source": [
        "#import os\n",
        "#os.environ['THEANO_FLAGS'] = \"device=cuda,force_device=True,floatX=float32\"\n",
        "#import theano\n",
        "\n",
        "from keras.models import Sequential\n",
        "from keras.layers import Dense, Activation\n",
        "from keras.callbacks import Callback\n",
        "from keras import regularizers\n",
        "from keras import optimizers\n",
        "\n",
        "from functools import partial\n",
        "\n",
        "%matplotlib inline\n",
        "import matplotlib.pyplot as plt\n",
        "from ipywidgets import *\n",
        "\n",
        "import numpy as np"
      ]
    },
    {
      "cell_type": "markdown",
      "metadata": {
        "id": "MjpNIcKrHtZg"
      },
      "source": [
        "# Import data"
      ]
    },
    {
      "cell_type": "code",
      "execution_count": 2,
      "metadata": {
        "id": "qRQr110IHtZh"
      },
      "outputs": [],
      "source": [
        "def one_hot(y):\n",
        "    t = np.zeros((len(y), np.max(y) + 1))\n",
        "    t[np.arange(len(y)), y] = 1\n",
        "    return t"
      ]
    },
    {
      "cell_type": "code",
      "execution_count": 3,
      "metadata": {
        "colab": {
          "base_uri": "https://localhost:8080/"
        },
        "id": "gE6L_8NvHtZj",
        "outputId": "f1a23855-72d9-433a-d8d0-3b189c97b603"
      },
      "outputs": [
        {
          "output_type": "stream",
          "name": "stdout",
          "text": [
            "Downloading data from https://storage.googleapis.com/tensorflow/tf-keras-datasets/mnist.npz\n",
            "11490434/11490434 [==============================] - 0s 0us/step\n",
            "(60000, 784)\n",
            "(60000, 10)\n",
            "[  0   0   0   0   0   0   0   0   0   0   0   0   0   0   0   0   0   0\n",
            "   0   0   0   0   0   0   0   0   0   0   0   0   0   0   0   0   0   0\n",
            "   0   0   0   0   0   0   0   0   0   0   0   0   0   0   0   0   0   0\n",
            "   0   0   0   0   0   0   0   0   0   0   0   0   0   0   0   0   0   0\n",
            "   0   0   0   0   0   0   0   0   0   0   0   0   0   0   0   0   0   0\n",
            "   0   0   0   0   0   0   0   0   0   0   0   0   0   0   0   0   0   0\n",
            "   0   0   0   0   0   0   0   0   0   0   0   0   0   0   0   0   0   0\n",
            "   0  51 159 253 159  50   0   0   0   0   0   0   0   0   0   0   0   0\n",
            "   0   0   0   0   0   0   0   0   0   0  48 238 252 252 252 237   0   0\n",
            "   0   0   0   0   0   0   0   0   0   0   0   0   0   0   0   0   0   0\n",
            "   0  54 227 253 252 239 233 252  57   6   0   0   0   0   0   0   0   0\n",
            "   0   0   0   0   0   0   0   0   0  10  60 224 252 253 252 202  84 252\n",
            " 253 122   0   0   0   0   0   0   0   0   0   0   0   0   0   0   0   0\n",
            "   0 163 252 252 252 253 252 252  96 189 253 167   0   0   0   0   0   0\n",
            "   0   0   0   0   0   0   0   0   0   0  51 238 253 253 190 114 253 228\n",
            "  47  79 255 168   0   0   0   0   0   0   0   0   0   0   0   0   0   0\n",
            "   0  48 238 252 252 179  12  75 121  21   0   0 253 243  50   0   0   0\n",
            "   0   0   0   0   0   0   0   0   0   0  38 165 253 233 208  84   0   0\n",
            "   0   0   0   0 253 252 165   0   0   0   0   0   0   0   0   0   0   0\n",
            "   0   7 178 252 240  71  19  28   0   0   0   0   0   0 253 252 195   0\n",
            "   0   0   0   0   0   0   0   0   0   0   0  57 252 252  63   0   0   0\n",
            "   0   0   0   0   0   0 253 252 195   0   0   0   0   0   0   0   0   0\n",
            "   0   0   0 198 253 190   0   0   0   0   0   0   0   0   0   0 255 253\n",
            " 196   0   0   0   0   0   0   0   0   0   0   0  76 246 252 112   0   0\n",
            "   0   0   0   0   0   0   0   0 253 252 148   0   0   0   0   0   0   0\n",
            "   0   0   0   0  85 252 230  25   0   0   0   0   0   0   0   0   7 135\n",
            " 253 186  12   0   0   0   0   0   0   0   0   0   0   0  85 252 223   0\n",
            "   0   0   0   0   0   0   0   7 131 252 225  71   0   0   0   0   0   0\n",
            "   0   0   0   0   0   0  85 252 145   0   0   0   0   0   0   0  48 165\n",
            " 252 173   0   0   0   0   0   0   0   0   0   0   0   0   0   0  86 253\n",
            " 225   0   0   0   0   0   0 114 238 253 162   0   0   0   0   0   0   0\n",
            "   0   0   0   0   0   0   0   0  85 252 249 146  48  29  85 178 225 253\n",
            " 223 167  56   0   0   0   0   0   0   0   0   0   0   0   0   0   0   0\n",
            "  85 252 252 252 229 215 252 252 252 196 130   0   0   0   0   0   0   0\n",
            "   0   0   0   0   0   0   0   0   0   0  28 199 252 252 253 252 252 233\n",
            " 145   0   0   0   0   0   0   0   0   0   0   0   0   0   0   0   0   0\n",
            "   0   0   0  25 128 252 253 252 141  37   0   0   0   0   0   0   0   0\n",
            "   0   0   0   0   0   0   0   0   0   0   0   0   0   0   0   0   0   0\n",
            "   0   0   0   0   0   0   0   0   0   0   0   0   0   0   0   0   0   0\n",
            "   0   0   0   0   0   0   0   0   0   0   0   0   0   0   0   0   0   0\n",
            "   0   0   0   0   0   0   0   0   0   0   0   0   0   0   0   0   0   0\n",
            "   0   0   0   0   0   0   0   0   0   0   0   0   0   0   0   0   0   0\n",
            "   0   0   0   0   0   0   0   0   0   0   0   0   0   0   0   0   0   0\n",
            "   0   0   0   0   0   0   0   0   0   0]\n"
          ]
        }
      ],
      "source": [
        "#PUT HERE DATA FROM https://keras.io/datasets/ \n",
        "\n",
        "from keras.datasets import mnist\n",
        "\n",
        "(x_train, y_train), (x_test, y_test) = mnist.load_data() \n",
        "\n",
        "# flatten data\n",
        "x_train = x_train.reshape((x_train.shape[0], -1))\n",
        "x_test = x_test.reshape((x_test.shape[0], -1))\n",
        "\n",
        "# transform decimal to unitary code\n",
        "y_train = one_hot(y_train)\n",
        "y_test = one_hot(y_test)\n",
        "\n",
        "print(x_train.shape)\n",
        "print(y_train.shape)\n",
        "print(x_train[1])"
      ]
    },
    {
      "cell_type": "markdown",
      "metadata": {
        "id": "VWiMMK74HtZj"
      },
      "source": [
        "## Experimentation"
      ]
    },
    {
      "cell_type": "markdown",
      "metadata": {
        "id": "ikZpMGaIHtZj"
      },
      "source": [
        "Plot drawing"
      ]
    },
    {
      "cell_type": "code",
      "execution_count": 4,
      "metadata": {
        "id": "H8nhkyamHtZk"
      },
      "outputs": [],
      "source": [
        "def plot_accuracy(history):\n",
        "    # Plot training & validation accuracy values\n",
        "    plt.plot(history.history['accuracy'])\n",
        "    plt.plot(history.history['val_accuracy'])\n",
        "    plt.title('Model accuracy')\n",
        "    plt.ylabel('Accuracy')\n",
        "    plt.xlabel('Epoch')\n",
        "    plt.legend(['Train', 'Test'], loc='upper left')\n",
        "    plt.show()\n",
        "\n",
        "    # Plot training & validation loss values\n",
        "    plt.plot(history.history['loss'])\n",
        "    plt.plot(history.history['val_loss'])\n",
        "    plt.title('Model loss')\n",
        "    plt.ylabel('Loss')\n",
        "    plt.xlabel('Epoch')\n",
        "    plt.legend(['Train', 'Test'], loc='upper left')\n",
        "    plt.show()"
      ]
    },
    {
      "cell_type": "markdown",
      "metadata": {
        "id": "fiEc-CvzHtZm"
      },
      "source": [
        "Setting parameters"
      ]
    },
    {
      "cell_type": "code",
      "execution_count": 5,
      "metadata": {
        "scrolled": false,
        "colab": {
          "base_uri": "https://localhost:8080/",
          "height": 1000,
          "referenced_widgets": [
            "0ab871b9f44e4996aceb2cca27648ea6",
            "b86d0d6c5cfb420ba989abba95504df2",
            "8e33ef9ba8284f48aa1685ad1150bd89",
            "0127f6cc7dee45e8b08838344bc41b39",
            "1ae0bdf7bcb54c5caa5c2de7965a0a89",
            "c8bde8129cae49cdbdaab8bb10844ab3",
            "8734ef5b768943058c63086be2fdb314",
            "24fd9b1245dd4953a024e6a055e41470",
            "cac9282de92d4b408acc2ae2a9024cfb",
            "2bdfe6b56ce1481a9d28fea9a935398f",
            "4c31fb26053d4a8997f80a9772f2e169",
            "8f3c3d6ef2da45ceaae7dc49f41558f0",
            "80422050a7434246b77719ec67e9df69",
            "83e51cf4d53d40ab94d5919d356493f7",
            "87df84414234406d951bd90e96c0e2f3",
            "340b8ea9a52c4271b18f7ca49435db7f",
            "7a8b3c1e65e94a42925b5c2418dc645c",
            "ad9eaae3e57b45aba080c82f90212422",
            "aaf8094c64c145d19dd1509e3d5928a9",
            "2365dad9521b4303a8dbd164971877dd",
            "236a385fb0274619b798d1a8e8af992e",
            "dc9a1b60e3254d83a3f616a61f1796bb",
            "699e0a5b52ad463e85dad7fc2f6e75c2",
            "8e06ad6ad85845f9ad546a01c8668c82",
            "b3ee5bf552834b3883760e6f16d1e057",
            "898db5c87f704a76b901cccb519ca651",
            "2a7b199f0f6d451ab1eec63ff49c3f3b",
            "87bd7dcc6da04e40b254345bbe0a19cc",
            "d368f89045464615b01db9123efc8d7b",
            "099f624755684a8c882ec4bc6a2700dc",
            "ebd66df022b84b04811de62cf07922ef",
            "99d0a3ead3e14726bb0d460a81295721",
            "d1f7e5c98b234a1784ba53af0de88a81",
            "0d2ba21afb6d41e48d14cf631ff19fee",
            "78aea4fb89854d74baaa6c7f412a45c4",
            "802702bd017e4858a9d6004e2b62024d",
            "88f913fea37b435298b28cd079b281d6",
            "5df2cf90a1e34bc898bab5a0031023cf",
            "57adeea07cf34326b8fc9cfba021d9c9",
            "7a294be6e0824135bc0ee78891ee2bad",
            "239259d680cb45a88f37111ee688856f",
            "603bc14f5a984519a625c85a74efb62a",
            "41abd15abed4413fbe3b8e5bdd55e103",
            "afa4f23057344b019ad33f027bba4448",
            "4e8728f89bb1493cb86c038bb6cbc710",
            "120e25a3e7d2474e9aabdd55b25b143d"
          ]
        },
        "id": "ojnNVlPkHtZo",
        "outputId": "64e009a7-dbee-440e-8c9b-6ada7860fc99"
      },
      "outputs": [
        {
          "output_type": "display_data",
          "data": {
            "text/plain": [
              "interactive(children=(IntSlider(value=2, description='Layers: ', max=4), Dropdown(description='Loss function: …"
            ],
            "application/vnd.jupyter.widget-view+json": {
              "version_major": 2,
              "version_minor": 0,
              "model_id": "0ab871b9f44e4996aceb2cca27648ea6"
            }
          },
          "metadata": {}
        }
      ],
      "source": [
        "style = {'description_width': 'initial'}\n",
        "@interact_manual(\n",
        "    n_layers=IntSlider(min=0, max=4, value=2, description='Layers: '),\n",
        "    layer_size=IntSlider(min=0, max=20, value=6, description='Neurons per layer: ', style=style),\n",
        "    layer1_type=Dropdown(options=['softmax', 'relu', 'tanh', 'sigmoid', 'linear'], value='relu',\n",
        "                          description='Layer 1 activation type: ', style=style),\n",
        "    layer2_type=Dropdown(options=['softmax', 'relu', 'tanh', 'sigmoid', 'linear'], value='relu',\n",
        "                          description='Layer 2 activation type ', style=style),\n",
        "    layer3_type=Dropdown(options=['softmax', 'relu', 'tanh', 'sigmoid', 'linear'], value='relu',\n",
        "                          description='Layer 3 activation type: ', style=style),\n",
        "    layer4_type=Dropdown(options=['softmax', 'relu', 'tanh', 'sigmoid', 'linear'], value='relu',\n",
        "                          description='Layer 4 activation type: ', style=style),\n",
        "    layer_out_type=Dropdown(options=['softmax', 'relu', 'tanh', 'sigmoid', 'linear'], value='sigmoid',\n",
        "                          description='Output layer activation type: ', style=style),\n",
        "    loss_func=Dropdown(options={\n",
        "        'Standard deviation': 'mse', \n",
        "        'Mean absolute deviation': 'mae',\n",
        "        'Binary crossentropy': 'binary_crossentropy',\n",
        "        'Categorical crossentropy': 'categorical_crossentropy'\n",
        "    }, value='categorical_crossentropy', description='Loss function: ', style=style),\n",
        "    batch_size = BoundedIntText(min=0, max=len(x_train), value=100, description='Batch size: ', style=style),\n",
        "    lr=ToggleButtons(options=[\"-0.1\", \"0\", \"0.001\", \"0.01\", \"0.05\", \"0.1\", \"0.5\", \"1\", \"5\"], \n",
        "                               value=\"0.01\", description='Learn rate: ', style=style),\n",
        "    l1=ToggleButtons(options=[\"-0.1\", \"0\", \"0.0001\", \"0.0005\", \"0.001\", \"0.005\", \"0.01\", \"0.05\", \"0.1\"], \n",
        "                               value=\"0.0001\", description='Regularization  L1: ', style=style),\n",
        "    l2=ToggleButtons(options=[\"-0.1\", \"0\", \"0.0001\", \"0.0005\", \"0.001\", \"0.005\", \"0.01\", \"0.05\", \"0.1\"], \n",
        "                               value=\"0.0001\", description='Regularization  L2: ', style=style),\n",
        "    epochs=IntSlider(min=10, max=100, step=10, value=20, description='Epoch count: ', style=style),\n",
        ")\n",
        "def interactive_learning(n_layers, loss_func, batch_size, lr, l1, l2, \n",
        "                         layer_out_type, epochs,\n",
        "                         layer_size,\n",
        "                         layer1_type, layer2_type, layer3_type, layer4_type):\n",
        "    layer_sizes = [layer_size, layer_size, layer_size, layer_size]\n",
        "    layer_types = [layer1_type, layer2_type, layer3_type, layer4_type]\n",
        "    lr = float(lr)\n",
        "    l1 = float(l1)\n",
        "    l2 = float(l2)\n",
        "    \n",
        "    model = Sequential()\n",
        "    \n",
        "    if n_layers == 0:\n",
        "        model.add(Dense(len(y_train[0]), activation=layer_out_type, \n",
        "                        input_shape=x_train[0].shape, kernel_regularizer=regularizers.l1_l2(l1=l1, l2=l2)))\n",
        "    else:\n",
        "        model.add(Dense(layer_sizes[0], activation=layer_types[0], \n",
        "                        input_shape=x_train[0].shape, kernel_regularizer=regularizers.l1_l2(l1=l1, l2=l2)))\n",
        "        for i in range(1, n_layers):\n",
        "            model.add(Dense(layer_sizes[i], activation=layer_types[i],\n",
        "                           kernel_regularizer=regularizers.l1_l2(l1=l1, l2=l2)))\n",
        "        model.add(Dense(len(y_train[0]), activation=layer_out_type, kernel_regularizer=regularizers.l1_l2(l1=l1, l2=l2)))\n",
        "    \n",
        "    model.compile(\n",
        "     optimizer = optimizers.SGD(learning_rate=lr),\n",
        "     loss = loss_func,\n",
        "     metrics = [\"accuracy\"]\n",
        "    )\n",
        "    \n",
        "    history = model.fit(\n",
        "     x_train, y_train,\n",
        "     epochs=epochs,\n",
        "     batch_size=batch_size,\n",
        "     validation_data=(x_test, y_test),\n",
        "     verbose=1\n",
        "    )\n",
        "    \n",
        "    print('Accuracy: ', history.history['val_accuracy'][-1])\n",
        "    plot_accuracy(history)\n",
        "    #plot_contour_graph(model)"
      ]
    },
    {
      "cell_type": "code",
      "execution_count": 6,
      "metadata": {
        "colab": {
          "base_uri": "https://localhost:8080/",
          "height": 1000
        },
        "id": "yT2cZyy8HtZq",
        "outputId": "082f66cb-f0d9-4c67-8b82-978c29414cbc"
      },
      "outputs": [
        {
          "output_type": "display_data",
          "data": {
            "text/plain": [
              "array([  0,   0,   0,   0,   0,   0,   0,   0,   0,   0,   0,   0,   0,\n",
              "         0,   0,   0,   0,   0,   0,   0,   0,   0,   0,   0,   0,   0,\n",
              "         0,   0,   0,   0,   0,   0,   0,   0,   0,   0,   0,   0,   0,\n",
              "         0,   0,   0,   0,   0,   0,   0,   0,   0,   0,   0,   0,   0,\n",
              "         0,   0,   0,   0,   0,   0,   0,   0,   0,   0,   0,   0,   0,\n",
              "         0,   0,   0,   0,   0,   0,   0,   0,   0,   0,   0,   0,   0,\n",
              "         0,   0,   0,   0,   0,   0,   0,   0,   0,   0,   0,   0,   0,\n",
              "         0,   0,   0,   0,   0,   0,   0,   0,   0,   0,   0,   0,   0,\n",
              "         0,   0,   0,   0,   0,   0,   0,   0,   0,   0,   0,   0,   0,\n",
              "         0,   0,   0,   0,   0,   0,   0,   0,   0,   0,  51, 159, 253,\n",
              "       159,  50,   0,   0,   0,   0,   0,   0,   0,   0,   0,   0,   0,\n",
              "         0,   0,   0,   0,   0,   0,   0,   0,   0,   0,   0,  48, 238,\n",
              "       252, 252, 252, 237,   0,   0,   0,   0,   0,   0,   0,   0,   0,\n",
              "         0,   0,   0,   0,   0,   0,   0,   0,   0,   0,   0,   0,  54,\n",
              "       227, 253, 252, 239, 233, 252,  57,   6,   0,   0,   0,   0,   0,\n",
              "         0,   0,   0,   0,   0,   0,   0,   0,   0,   0,   0,   0,  10,\n",
              "        60, 224, 252, 253, 252, 202,  84, 252, 253, 122,   0,   0,   0,\n",
              "         0,   0,   0,   0,   0,   0,   0,   0,   0,   0,   0,   0,   0,\n",
              "         0, 163, 252, 252, 252, 253, 252, 252,  96, 189, 253, 167,   0,\n",
              "         0,   0,   0,   0,   0,   0,   0,   0,   0,   0,   0,   0,   0,\n",
              "         0,   0,  51, 238, 253, 253, 190, 114, 253, 228,  47,  79, 255,\n",
              "       168,   0,   0,   0,   0,   0,   0,   0,   0,   0,   0,   0,   0,\n",
              "         0,   0,   0,  48, 238, 252, 252, 179,  12,  75, 121,  21,   0,\n",
              "         0, 253, 243,  50,   0,   0,   0,   0,   0,   0,   0,   0,   0,\n",
              "         0,   0,   0,   0,  38, 165, 253, 233, 208,  84,   0,   0,   0,\n",
              "         0,   0,   0, 253, 252, 165,   0,   0,   0,   0,   0,   0,   0,\n",
              "         0,   0,   0,   0,   0,   7, 178, 252, 240,  71,  19,  28,   0,\n",
              "         0,   0,   0,   0,   0, 253, 252, 195,   0,   0,   0,   0,   0,\n",
              "         0,   0,   0,   0,   0,   0,   0,  57, 252, 252,  63,   0,   0,\n",
              "         0,   0,   0,   0,   0,   0,   0, 253, 252, 195,   0,   0,   0,\n",
              "         0,   0,   0,   0,   0,   0,   0,   0,   0, 198, 253, 190,   0,\n",
              "         0,   0,   0,   0,   0,   0,   0,   0,   0, 255, 253, 196,   0,\n",
              "         0,   0,   0,   0,   0,   0,   0,   0,   0,   0,  76, 246, 252,\n",
              "       112,   0,   0,   0,   0,   0,   0,   0,   0,   0,   0, 253, 252,\n",
              "       148,   0,   0,   0,   0,   0,   0,   0,   0,   0,   0,   0,  85,\n",
              "       252, 230,  25,   0,   0,   0,   0,   0,   0,   0,   0,   7, 135,\n",
              "       253, 186,  12,   0,   0,   0,   0,   0,   0,   0,   0,   0,   0,\n",
              "         0,  85, 252, 223,   0,   0,   0,   0,   0,   0,   0,   0,   7,\n",
              "       131, 252, 225,  71,   0,   0,   0,   0,   0,   0,   0,   0,   0,\n",
              "         0,   0,   0,  85, 252, 145,   0,   0,   0,   0,   0,   0,   0,\n",
              "        48, 165, 252, 173,   0,   0,   0,   0,   0,   0,   0,   0,   0,\n",
              "         0,   0,   0,   0,   0,  86, 253, 225,   0,   0,   0,   0,   0,\n",
              "         0, 114, 238, 253, 162,   0,   0,   0,   0,   0,   0,   0,   0,\n",
              "         0,   0,   0,   0,   0,   0,   0,  85, 252, 249, 146,  48,  29,\n",
              "        85, 178, 225, 253, 223, 167,  56,   0,   0,   0,   0,   0,   0,\n",
              "         0,   0,   0,   0,   0,   0,   0,   0,   0,  85, 252, 252, 252,\n",
              "       229, 215, 252, 252, 252, 196, 130,   0,   0,   0,   0,   0,   0,\n",
              "         0,   0,   0,   0,   0,   0,   0,   0,   0,   0,   0,  28, 199,\n",
              "       252, 252, 253, 252, 252, 233, 145,   0,   0,   0,   0,   0,   0,\n",
              "         0,   0,   0,   0,   0,   0,   0,   0,   0,   0,   0,   0,   0,\n",
              "         0,  25, 128, 252, 253, 252, 141,  37,   0,   0,   0,   0,   0,\n",
              "         0,   0,   0,   0,   0,   0,   0,   0,   0,   0,   0,   0,   0,\n",
              "         0,   0,   0,   0,   0,   0,   0,   0,   0,   0,   0,   0,   0,\n",
              "         0,   0,   0,   0,   0,   0,   0,   0,   0,   0,   0,   0,   0,\n",
              "         0,   0,   0,   0,   0,   0,   0,   0,   0,   0,   0,   0,   0,\n",
              "         0,   0,   0,   0,   0,   0,   0,   0,   0,   0,   0,   0,   0,\n",
              "         0,   0,   0,   0,   0,   0,   0,   0,   0,   0,   0,   0,   0,\n",
              "         0,   0,   0,   0,   0,   0,   0,   0,   0,   0,   0,   0,   0,\n",
              "         0,   0,   0,   0,   0,   0,   0,   0,   0,   0,   0,   0,   0,\n",
              "         0,   0,   0,   0,   0,   0,   0,   0,   0,   0,   0,   0,   0,\n",
              "         0,   0,   0,   0], dtype=uint8)"
            ]
          },
          "metadata": {}
        }
      ],
      "source": [
        "display(x_train[1])\n"
      ]
    },
    {
      "cell_type": "code",
      "execution_count": 6,
      "metadata": {
        "id": "BhsWNN5dHtZq"
      },
      "outputs": [],
      "source": []
    },
    {
      "cell_type": "code",
      "execution_count": 6,
      "metadata": {
        "id": "oh2TDI3lHtZq"
      },
      "outputs": [],
      "source": []
    }
  ],
  "metadata": {
    "kernelspec": {
      "display_name": "Python 3",
      "language": "python",
      "name": "python3"
    },
    "language_info": {
      "codemirror_mode": {
        "name": "ipython",
        "version": 3
      },
      "file_extension": ".py",
      "mimetype": "text/x-python",
      "name": "python",
      "nbconvert_exporter": "python",
      "pygments_lexer": "ipython3",
      "version": "3.7.0"
    },
    "colab": {
      "provenance": [],
      "collapsed_sections": []
    },
    "widgets": {
      "application/vnd.jupyter.widget-state+json": {
        "0ab871b9f44e4996aceb2cca27648ea6": {
          "model_module": "@jupyter-widgets/controls",
          "model_name": "VBoxModel",
          "model_module_version": "1.5.0",
          "state": {
            "_dom_classes": [
              "widget-interact"
            ],
            "_model_module": "@jupyter-widgets/controls",
            "_model_module_version": "1.5.0",
            "_model_name": "VBoxModel",
            "_view_count": null,
            "_view_module": "@jupyter-widgets/controls",
            "_view_module_version": "1.5.0",
            "_view_name": "VBoxView",
            "box_style": "",
            "children": [
              "IPY_MODEL_b86d0d6c5cfb420ba989abba95504df2",
              "IPY_MODEL_8e33ef9ba8284f48aa1685ad1150bd89",
              "IPY_MODEL_0127f6cc7dee45e8b08838344bc41b39",
              "IPY_MODEL_1ae0bdf7bcb54c5caa5c2de7965a0a89",
              "IPY_MODEL_c8bde8129cae49cdbdaab8bb10844ab3",
              "IPY_MODEL_8734ef5b768943058c63086be2fdb314",
              "IPY_MODEL_24fd9b1245dd4953a024e6a055e41470",
              "IPY_MODEL_cac9282de92d4b408acc2ae2a9024cfb",
              "IPY_MODEL_2bdfe6b56ce1481a9d28fea9a935398f",
              "IPY_MODEL_4c31fb26053d4a8997f80a9772f2e169",
              "IPY_MODEL_8f3c3d6ef2da45ceaae7dc49f41558f0",
              "IPY_MODEL_80422050a7434246b77719ec67e9df69",
              "IPY_MODEL_83e51cf4d53d40ab94d5919d356493f7",
              "IPY_MODEL_87df84414234406d951bd90e96c0e2f3",
              "IPY_MODEL_340b8ea9a52c4271b18f7ca49435db7f"
            ],
            "layout": "IPY_MODEL_7a8b3c1e65e94a42925b5c2418dc645c"
          }
        },
        "b86d0d6c5cfb420ba989abba95504df2": {
          "model_module": "@jupyter-widgets/controls",
          "model_name": "IntSliderModel",
          "model_module_version": "1.5.0",
          "state": {
            "_dom_classes": [],
            "_model_module": "@jupyter-widgets/controls",
            "_model_module_version": "1.5.0",
            "_model_name": "IntSliderModel",
            "_view_count": null,
            "_view_module": "@jupyter-widgets/controls",
            "_view_module_version": "1.5.0",
            "_view_name": "IntSliderView",
            "continuous_update": true,
            "description": "Layers: ",
            "description_tooltip": null,
            "disabled": false,
            "layout": "IPY_MODEL_ad9eaae3e57b45aba080c82f90212422",
            "max": 4,
            "min": 0,
            "orientation": "horizontal",
            "readout": true,
            "readout_format": "d",
            "step": 1,
            "style": "IPY_MODEL_aaf8094c64c145d19dd1509e3d5928a9",
            "value": 1
          }
        },
        "8e33ef9ba8284f48aa1685ad1150bd89": {
          "model_module": "@jupyter-widgets/controls",
          "model_name": "DropdownModel",
          "model_module_version": "1.5.0",
          "state": {
            "_dom_classes": [],
            "_model_module": "@jupyter-widgets/controls",
            "_model_module_version": "1.5.0",
            "_model_name": "DropdownModel",
            "_options_labels": [
              "Standard deviation",
              "Mean absolute deviation",
              "Binary crossentropy",
              "Categorical crossentropy"
            ],
            "_view_count": null,
            "_view_module": "@jupyter-widgets/controls",
            "_view_module_version": "1.5.0",
            "_view_name": "DropdownView",
            "description": "Loss function: ",
            "description_tooltip": null,
            "disabled": false,
            "index": 3,
            "layout": "IPY_MODEL_2365dad9521b4303a8dbd164971877dd",
            "style": "IPY_MODEL_236a385fb0274619b798d1a8e8af992e"
          }
        },
        "0127f6cc7dee45e8b08838344bc41b39": {
          "model_module": "@jupyter-widgets/controls",
          "model_name": "BoundedIntTextModel",
          "model_module_version": "1.5.0",
          "state": {
            "_dom_classes": [],
            "_model_module": "@jupyter-widgets/controls",
            "_model_module_version": "1.5.0",
            "_model_name": "BoundedIntTextModel",
            "_view_count": null,
            "_view_module": "@jupyter-widgets/controls",
            "_view_module_version": "1.5.0",
            "_view_name": "IntTextView",
            "continuous_update": false,
            "description": "Batch size: ",
            "description_tooltip": null,
            "disabled": false,
            "layout": "IPY_MODEL_dc9a1b60e3254d83a3f616a61f1796bb",
            "max": 60000,
            "min": 0,
            "step": 1,
            "style": "IPY_MODEL_699e0a5b52ad463e85dad7fc2f6e75c2",
            "value": 1200
          }
        },
        "1ae0bdf7bcb54c5caa5c2de7965a0a89": {
          "model_module": "@jupyter-widgets/controls",
          "model_name": "ToggleButtonsModel",
          "model_module_version": "1.5.0",
          "state": {
            "_dom_classes": [],
            "_model_module": "@jupyter-widgets/controls",
            "_model_module_version": "1.5.0",
            "_model_name": "ToggleButtonsModel",
            "_options_labels": [
              "-0.1",
              "0",
              "0.001",
              "0.01",
              "0.05",
              "0.1",
              "0.5",
              "1",
              "5"
            ],
            "_view_count": null,
            "_view_module": "@jupyter-widgets/controls",
            "_view_module_version": "1.5.0",
            "_view_name": "ToggleButtonsView",
            "button_style": "",
            "description": "Learn rate: ",
            "description_tooltip": null,
            "disabled": false,
            "icons": [],
            "index": 4,
            "layout": "IPY_MODEL_8e06ad6ad85845f9ad546a01c8668c82",
            "style": "IPY_MODEL_b3ee5bf552834b3883760e6f16d1e057",
            "tooltips": []
          }
        },
        "c8bde8129cae49cdbdaab8bb10844ab3": {
          "model_module": "@jupyter-widgets/controls",
          "model_name": "ToggleButtonsModel",
          "model_module_version": "1.5.0",
          "state": {
            "_dom_classes": [],
            "_model_module": "@jupyter-widgets/controls",
            "_model_module_version": "1.5.0",
            "_model_name": "ToggleButtonsModel",
            "_options_labels": [
              "-0.1",
              "0",
              "0.0001",
              "0.0005",
              "0.001",
              "0.005",
              "0.01",
              "0.05",
              "0.1"
            ],
            "_view_count": null,
            "_view_module": "@jupyter-widgets/controls",
            "_view_module_version": "1.5.0",
            "_view_name": "ToggleButtonsView",
            "button_style": "",
            "description": "Regularization  L1: ",
            "description_tooltip": null,
            "disabled": false,
            "icons": [],
            "index": 1,
            "layout": "IPY_MODEL_898db5c87f704a76b901cccb519ca651",
            "style": "IPY_MODEL_2a7b199f0f6d451ab1eec63ff49c3f3b",
            "tooltips": []
          }
        },
        "8734ef5b768943058c63086be2fdb314": {
          "model_module": "@jupyter-widgets/controls",
          "model_name": "ToggleButtonsModel",
          "model_module_version": "1.5.0",
          "state": {
            "_dom_classes": [],
            "_model_module": "@jupyter-widgets/controls",
            "_model_module_version": "1.5.0",
            "_model_name": "ToggleButtonsModel",
            "_options_labels": [
              "-0.1",
              "0",
              "0.0001",
              "0.0005",
              "0.001",
              "0.005",
              "0.01",
              "0.05",
              "0.1"
            ],
            "_view_count": null,
            "_view_module": "@jupyter-widgets/controls",
            "_view_module_version": "1.5.0",
            "_view_name": "ToggleButtonsView",
            "button_style": "",
            "description": "Regularization  L2: ",
            "description_tooltip": null,
            "disabled": false,
            "icons": [],
            "index": 8,
            "layout": "IPY_MODEL_87bd7dcc6da04e40b254345bbe0a19cc",
            "style": "IPY_MODEL_d368f89045464615b01db9123efc8d7b",
            "tooltips": []
          }
        },
        "24fd9b1245dd4953a024e6a055e41470": {
          "model_module": "@jupyter-widgets/controls",
          "model_name": "DropdownModel",
          "model_module_version": "1.5.0",
          "state": {
            "_dom_classes": [],
            "_model_module": "@jupyter-widgets/controls",
            "_model_module_version": "1.5.0",
            "_model_name": "DropdownModel",
            "_options_labels": [
              "softmax",
              "relu",
              "tanh",
              "sigmoid",
              "linear"
            ],
            "_view_count": null,
            "_view_module": "@jupyter-widgets/controls",
            "_view_module_version": "1.5.0",
            "_view_name": "DropdownView",
            "description": "Output layer activation type: ",
            "description_tooltip": null,
            "disabled": false,
            "index": 3,
            "layout": "IPY_MODEL_099f624755684a8c882ec4bc6a2700dc",
            "style": "IPY_MODEL_ebd66df022b84b04811de62cf07922ef"
          }
        },
        "cac9282de92d4b408acc2ae2a9024cfb": {
          "model_module": "@jupyter-widgets/controls",
          "model_name": "IntSliderModel",
          "model_module_version": "1.5.0",
          "state": {
            "_dom_classes": [],
            "_model_module": "@jupyter-widgets/controls",
            "_model_module_version": "1.5.0",
            "_model_name": "IntSliderModel",
            "_view_count": null,
            "_view_module": "@jupyter-widgets/controls",
            "_view_module_version": "1.5.0",
            "_view_name": "IntSliderView",
            "continuous_update": true,
            "description": "Epoch count: ",
            "description_tooltip": null,
            "disabled": false,
            "layout": "IPY_MODEL_99d0a3ead3e14726bb0d460a81295721",
            "max": 100,
            "min": 10,
            "orientation": "horizontal",
            "readout": true,
            "readout_format": "d",
            "step": 10,
            "style": "IPY_MODEL_d1f7e5c98b234a1784ba53af0de88a81",
            "value": 20
          }
        },
        "2bdfe6b56ce1481a9d28fea9a935398f": {
          "model_module": "@jupyter-widgets/controls",
          "model_name": "IntSliderModel",
          "model_module_version": "1.5.0",
          "state": {
            "_dom_classes": [],
            "_model_module": "@jupyter-widgets/controls",
            "_model_module_version": "1.5.0",
            "_model_name": "IntSliderModel",
            "_view_count": null,
            "_view_module": "@jupyter-widgets/controls",
            "_view_module_version": "1.5.0",
            "_view_name": "IntSliderView",
            "continuous_update": true,
            "description": "Neurons per layer: ",
            "description_tooltip": null,
            "disabled": false,
            "layout": "IPY_MODEL_0d2ba21afb6d41e48d14cf631ff19fee",
            "max": 20,
            "min": 0,
            "orientation": "horizontal",
            "readout": true,
            "readout_format": "d",
            "step": 1,
            "style": "IPY_MODEL_78aea4fb89854d74baaa6c7f412a45c4",
            "value": 20
          }
        },
        "4c31fb26053d4a8997f80a9772f2e169": {
          "model_module": "@jupyter-widgets/controls",
          "model_name": "DropdownModel",
          "model_module_version": "1.5.0",
          "state": {
            "_dom_classes": [],
            "_model_module": "@jupyter-widgets/controls",
            "_model_module_version": "1.5.0",
            "_model_name": "DropdownModel",
            "_options_labels": [
              "softmax",
              "relu",
              "tanh",
              "sigmoid",
              "linear"
            ],
            "_view_count": null,
            "_view_module": "@jupyter-widgets/controls",
            "_view_module_version": "1.5.0",
            "_view_name": "DropdownView",
            "description": "Layer 1 activation type: ",
            "description_tooltip": null,
            "disabled": false,
            "index": 2,
            "layout": "IPY_MODEL_802702bd017e4858a9d6004e2b62024d",
            "style": "IPY_MODEL_88f913fea37b435298b28cd079b281d6"
          }
        },
        "8f3c3d6ef2da45ceaae7dc49f41558f0": {
          "model_module": "@jupyter-widgets/controls",
          "model_name": "DropdownModel",
          "model_module_version": "1.5.0",
          "state": {
            "_dom_classes": [],
            "_model_module": "@jupyter-widgets/controls",
            "_model_module_version": "1.5.0",
            "_model_name": "DropdownModel",
            "_options_labels": [
              "softmax",
              "relu",
              "tanh",
              "sigmoid",
              "linear"
            ],
            "_view_count": null,
            "_view_module": "@jupyter-widgets/controls",
            "_view_module_version": "1.5.0",
            "_view_name": "DropdownView",
            "description": "Layer 2 activation type ",
            "description_tooltip": null,
            "disabled": false,
            "index": 2,
            "layout": "IPY_MODEL_5df2cf90a1e34bc898bab5a0031023cf",
            "style": "IPY_MODEL_57adeea07cf34326b8fc9cfba021d9c9"
          }
        },
        "80422050a7434246b77719ec67e9df69": {
          "model_module": "@jupyter-widgets/controls",
          "model_name": "DropdownModel",
          "model_module_version": "1.5.0",
          "state": {
            "_dom_classes": [],
            "_model_module": "@jupyter-widgets/controls",
            "_model_module_version": "1.5.0",
            "_model_name": "DropdownModel",
            "_options_labels": [
              "softmax",
              "relu",
              "tanh",
              "sigmoid",
              "linear"
            ],
            "_view_count": null,
            "_view_module": "@jupyter-widgets/controls",
            "_view_module_version": "1.5.0",
            "_view_name": "DropdownView",
            "description": "Layer 3 activation type: ",
            "description_tooltip": null,
            "disabled": false,
            "index": 2,
            "layout": "IPY_MODEL_7a294be6e0824135bc0ee78891ee2bad",
            "style": "IPY_MODEL_239259d680cb45a88f37111ee688856f"
          }
        },
        "83e51cf4d53d40ab94d5919d356493f7": {
          "model_module": "@jupyter-widgets/controls",
          "model_name": "DropdownModel",
          "model_module_version": "1.5.0",
          "state": {
            "_dom_classes": [],
            "_model_module": "@jupyter-widgets/controls",
            "_model_module_version": "1.5.0",
            "_model_name": "DropdownModel",
            "_options_labels": [
              "softmax",
              "relu",
              "tanh",
              "sigmoid",
              "linear"
            ],
            "_view_count": null,
            "_view_module": "@jupyter-widgets/controls",
            "_view_module_version": "1.5.0",
            "_view_name": "DropdownView",
            "description": "Layer 4 activation type: ",
            "description_tooltip": null,
            "disabled": false,
            "index": 2,
            "layout": "IPY_MODEL_603bc14f5a984519a625c85a74efb62a",
            "style": "IPY_MODEL_41abd15abed4413fbe3b8e5bdd55e103"
          }
        },
        "87df84414234406d951bd90e96c0e2f3": {
          "model_module": "@jupyter-widgets/controls",
          "model_name": "ButtonModel",
          "model_module_version": "1.5.0",
          "state": {
            "_dom_classes": [],
            "_model_module": "@jupyter-widgets/controls",
            "_model_module_version": "1.5.0",
            "_model_name": "ButtonModel",
            "_view_count": null,
            "_view_module": "@jupyter-widgets/controls",
            "_view_module_version": "1.5.0",
            "_view_name": "ButtonView",
            "button_style": "",
            "description": "Run Interact",
            "disabled": false,
            "icon": "",
            "layout": "IPY_MODEL_afa4f23057344b019ad33f027bba4448",
            "style": "IPY_MODEL_4e8728f89bb1493cb86c038bb6cbc710",
            "tooltip": ""
          }
        },
        "340b8ea9a52c4271b18f7ca49435db7f": {
          "model_module": "@jupyter-widgets/output",
          "model_name": "OutputModel",
          "model_module_version": "1.0.0",
          "state": {
            "_dom_classes": [],
            "_model_module": "@jupyter-widgets/output",
            "_model_module_version": "1.0.0",
            "_model_name": "OutputModel",
            "_view_count": null,
            "_view_module": "@jupyter-widgets/output",
            "_view_module_version": "1.0.0",
            "_view_name": "OutputView",
            "layout": "IPY_MODEL_120e25a3e7d2474e9aabdd55b25b143d",
            "msg_id": "",
            "outputs": [
              {
                "output_type": "stream",
                "name": "stdout",
                "text": [
                  "Epoch 1/20\n"
                ]
              },
              {
                "output_type": "stream",
                "name": "stdout",
                "text": [
                  "\r 1/50 [..............................] - ETA: 19s - loss: 7.9256 - accuracy: 0.1183"
                ]
              },
              {
                "output_type": "stream",
                "name": "stdout",
                "text": [
                  "\b\b\b\b\b\b\b\b\b\b\b\b\b\b\b\b\b\b\b\b\b\b\b\b\b\b\b\b\b\b\b\b\b\b\b\b\b\b\b\b\b\b\b\b\b\b\b\b\b\b\b\b\b\b\b\b\b\b\b\b\b\b\b\b\b\b\b\b\b\b\b\b\b\b\b\b\b\b\b\b\b\b\b\r 7/50 [===>..........................] - ETA: 0s - loss: 7.0095 - accuracy: 0.2623 "
                ]
              },
              {
                "output_type": "stream",
                "name": "stdout",
                "text": [
                  "\b\b\b\b\b\b\b\b\b\b\b\b\b\b\b\b\b\b\b\b\b\b\b\b\b\b\b\b\b\b\b\b\b\b\b\b\b\b\b\b\b\b\b\b\b\b\b\b\b\b\b\b\b\b\b\b\b\b\b\b\b\b\b\b\b\b\b\b\b\b\b\b\b\b\b\b\b\b\b\b\b\b\r13/50 [======>.......................] - ETA: 0s - loss: 6.5125 - accuracy: 0.3479"
                ]
              },
              {
                "output_type": "stream",
                "name": "stdout",
                "text": [
                  "\b\b\b\b\b\b\b\b\b\b\b\b\b\b\b\b\b\b\b\b\b\b\b\b\b\b\b\b\b\b\b\b\b\b\b\b\b\b\b\b\b\b\b\b\b\b\b\b\b\b\b\b\b\b\b\b\b\b\b\b\b\b\b\b\b\b\b\b\b\b\b\b\b\b\b\b\b\b\b\b\b\b\r19/50 [==========>...................] - ETA: 0s - loss: 6.1160 - accuracy: 0.4222"
                ]
              },
              {
                "output_type": "stream",
                "name": "stdout",
                "text": [
                  "\b\b\b\b\b\b\b\b\b\b\b\b\b\b\b\b\b\b\b\b\b\b\b\b\b\b\b\b\b\b\b\b\b\b\b\b\b\b\b\b\b\b\b\b\b\b\b\b\b\b\b\b\b\b\b\b\b\b\b\b\b\b\b\b\b\b\b\b\b\b\b\b\b\b\b\b\b\b\b\b\b\b\r25/50 [==============>...............] - ETA: 0s - loss: 5.7912 - accuracy: 0.4711"
                ]
              },
              {
                "output_type": "stream",
                "name": "stdout",
                "text": [
                  "\b\b\b\b\b\b\b\b\b\b\b\b\b\b\b\b\b\b\b\b\b\b\b\b\b\b\b\b\b\b\b\b\b\b\b\b\b\b\b\b\b\b\b\b\b\b\b\b\b\b\b\b\b\b\b\b\b\b\b\b\b\b\b\b\b\b\b\b\b\b\b\b\b\b\b\b\b\b\b\b\b\b\r31/50 [=================>............] - ETA: 0s - loss: 5.5049 - accuracy: 0.5123"
                ]
              },
              {
                "output_type": "stream",
                "name": "stdout",
                "text": [
                  "\b\b\b\b\b\b\b\b\b\b\b\b\b\b\b\b\b\b\b\b\b\b\b\b\b\b\b\b\b\b\b\b\b\b\b\b\b\b\b\b\b\b\b\b\b\b\b\b\b\b\b\b\b\b\b\b\b\b\b\b\b\b\b\b\b\b\b\b\b\b\b\b\b\b\b\b\b\b\b\b\b\b\r36/50 [====================>.........] - ETA: 0s - loss: 5.2937 - accuracy: 0.5377"
                ]
              },
              {
                "output_type": "stream",
                "name": "stdout",
                "text": [
                  "\b\b\b\b\b\b\b\b\b\b\b\b\b\b\b\b\b\b\b\b\b\b\b\b\b\b\b\b\b\b\b\b\b\b\b\b\b\b\b\b\b\b\b\b\b\b\b\b\b\b\b\b\b\b\b\b\b\b\b\b\b\b\b\b\b\b\b\b\b\b\b\b\b\b\b\b\b\b\b\b\b\b\r41/50 [=======================>......] - ETA: 0s - loss: 5.0975 - accuracy: 0.5616"
                ]
              },
              {
                "output_type": "stream",
                "name": "stdout",
                "text": [
                  "\b\b\b\b\b\b\b\b\b\b\b\b\b\b\b\b\b\b\b\b\b\b\b\b\b\b\b\b\b\b\b\b\b\b\b\b\b\b\b\b\b\b\b\b\b\b\b\b\b\b\b\b\b\b\b\b\b\b\b\b\b\b\b\b\b\b\b\b\b\b\b\b\b\b\b\b\b\b\b\b\b\b\r47/50 [===========================>..] - ETA: 0s - loss: 4.8855 - accuracy: 0.5854"
                ]
              },
              {
                "output_type": "stream",
                "name": "stdout",
                "text": [
                  "\b\b\b\b\b\b\b\b\b\b\b\b\b\b\b\b\b\b\b\b\b\b\b\b\b\b\b\b\b\b\b\b\b\b\b\b\b\b\b\b\b\b\b\b\b\b\b\b\b\b\b\b\b\b\b\b\b\b\b\b\b\b\b\b\b\b\b\b\b\b\b\b\b\b\b\b\b\b\b\b\b\b\r50/50 [==============================] - 1s 14ms/step - loss: 4.7866 - accuracy: 0.5955 - val_loss: 3.1815 - val_accuracy: 0.7545\n"
                ]
              },
              {
                "output_type": "stream",
                "name": "stdout",
                "text": [
                  "Epoch 2/20\n"
                ]
              },
              {
                "output_type": "stream",
                "name": "stdout",
                "text": [
                  "\r 1/50 [..............................] - ETA: 0s - loss: 3.1681 - accuracy: 0.7508"
                ]
              },
              {
                "output_type": "stream",
                "name": "stdout",
                "text": [
                  "\b\b\b\b\b\b\b\b\b\b\b\b\b\b\b\b\b\b\b\b\b\b\b\b\b\b\b\b\b\b\b\b\b\b\b\b\b\b\b\b\b\b\b\b\b\b\b\b\b\b\b\b\b\b\b\b\b\b\b\b\b\b\b\b\b\b\b\b\b\b\b\b\b\b\b\b\b\b\b\b\b\b\r 7/50 [===>..........................] - ETA: 0s - loss: 3.0662 - accuracy: 0.7661"
                ]
              },
              {
                "output_type": "stream",
                "name": "stdout",
                "text": [
                  "\b\b\b\b\b\b\b\b\b\b\b\b\b\b\b\b\b\b\b\b\b\b\b\b\b\b\b\b\b\b\b\b\b\b\b\b\b\b\b\b\b\b\b\b\b\b\b\b\b\b\b\b\b\b\b\b\b\b\b\b\b\b\b\b\b\b\b\b\b\b\b\b\b\b\b\b\b\b\b\b\b\b\r13/50 [======>.......................] - ETA: 0s - loss: 2.9667 - accuracy: 0.7662"
                ]
              },
              {
                "output_type": "stream",
                "name": "stdout",
                "text": [
                  "\b\b\b\b\b\b\b\b\b\b\b\b\b\b\b\b\b\b\b\b\b\b\b\b\b\b\b\b\b\b\b\b\b\b\b\b\b\b\b\b\b\b\b\b\b\b\b\b\b\b\b\b\b\b\b\b\b\b\b\b\b\b\b\b\b\b\b\b\b\b\b\b\b\b\b\b\b\b\b\b\b\b\r19/50 [==========>...................] - ETA: 0s - loss: 2.8815 - accuracy: 0.7713"
                ]
              },
              {
                "output_type": "stream",
                "name": "stdout",
                "text": [
                  "\b\b\b\b\b\b\b\b\b\b\b\b\b\b\b\b\b\b\b\b\b\b\b\b\b\b\b\b\b\b\b\b\b\b\b\b\b\b\b\b\b\b\b\b\b\b\b\b\b\b\b\b\b\b\b\b\b\b\b\b\b\b\b\b\b\b\b\b\b\b\b\b\b\b\b\b\b\b\b\b\b\b\r25/50 [==============>...............] - ETA: 0s - loss: 2.7983 - accuracy: 0.7777"
                ]
              },
              {
                "output_type": "stream",
                "name": "stdout",
                "text": [
                  "\b\b\b\b\b\b\b\b\b\b\b\b\b\b\b\b\b\b\b\b\b\b\b\b\b\b\b\b\b\b\b\b\b\b\b\b\b\b\b\b\b\b\b\b\b\b\b\b\b\b\b\b\b\b\b\b\b\b\b\b\b\b\b\b\b\b\b\b\b\b\b\b\b\b\b\b\b\b\b\b\b\b\r31/50 [=================>............] - ETA: 0s - loss: 2.7251 - accuracy: 0.7799"
                ]
              },
              {
                "output_type": "stream",
                "name": "stdout",
                "text": [
                  "\b\b\b\b\b\b\b\b\b\b\b\b\b\b\b\b\b\b\b\b\b\b\b\b\b\b\b\b\b\b\b\b\b\b\b\b\b\b\b\b\b\b\b\b\b\b\b\b\b\b\b\b\b\b\b\b\b\b\b\b\b\b\b\b\b\b\b\b\b\b\b\b\b\b\b\b\b\b\b\b\b\b\r37/50 [=====================>........] - ETA: 0s - loss: 2.6557 - accuracy: 0.7831"
                ]
              },
              {
                "output_type": "stream",
                "name": "stdout",
                "text": [
                  "\b\b\b\b\b\b\b\b\b\b\b\b\b\b\b\b\b\b\b\b\b\b\b\b\b\b\b\b\b\b\b\b\b\b\b\b\b\b\b\b\b\b\b\b\b\b\b\b\b\b\b\b\b\b\b\b\b\b\b\b\b\b\b\b\b\b\b\b\b\b\b\b\b\b\b\b\b\b\b\b\b\b\r43/50 [========================>.....] - ETA: 0s - loss: 2.5888 - accuracy: 0.7881"
                ]
              },
              {
                "output_type": "stream",
                "name": "stdout",
                "text": [
                  "\b\b\b\b\b\b\b\b\b\b\b\b\b\b\b\b\b\b\b\b\b\b\b\b\b\b\b\b\b\b\b\b\b\b\b\b\b\b\b\b\b\b\b\b\b\b\b\b\b\b\b\b\b\b\b\b\b\b\b\b\b\b\b\b\b\b\b\b\b\b\b\b\b\b\b\b\b\b\b\b\b\b\r49/50 [============================>.] - ETA: 0s - loss: 2.5314 - accuracy: 0.7908"
                ]
              },
              {
                "output_type": "stream",
                "name": "stdout",
                "text": [
                  "\b\b\b\b\b\b\b\b\b\b\b\b\b\b\b\b\b\b\b\b\b\b\b\b\b\b\b\b\b\b\b\b\b\b\b\b\b\b\b\b\b\b\b\b\b\b\b\b\b\b\b\b\b\b\b\b\b\b\b\b\b\b\b\b\b\b\b\b\b\b\b\b\b\b\b\b\b\b\b\b\b\b\r50/50 [==============================] - 1s 11ms/step - loss: 2.5221 - accuracy: 0.7912 - val_loss: 2.0101 - val_accuracy: 0.8217\n"
                ]
              },
              {
                "output_type": "stream",
                "name": "stdout",
                "text": [
                  "Epoch 3/20\n"
                ]
              },
              {
                "output_type": "stream",
                "name": "stdout",
                "text": [
                  "\r 1/50 [..............................] - ETA: 0s - loss: 2.0478 - accuracy: 0.7983"
                ]
              },
              {
                "output_type": "stream",
                "name": "stdout",
                "text": [
                  "\b\b\b\b\b\b\b\b\b\b\b\b\b\b\b\b\b\b\b\b\b\b\b\b\b\b\b\b\b\b\b\b\b\b\b\b\b\b\b\b\b\b\b\b\b\b\b\b\b\b\b\b\b\b\b\b\b\b\b\b\b\b\b\b\b\b\b\b\b\b\b\b\b\b\b\b\b\b\b\b\b\b\r 7/50 [===>..........................] - ETA: 0s - loss: 1.9935 - accuracy: 0.8181"
                ]
              },
              {
                "output_type": "stream",
                "name": "stdout",
                "text": [
                  "\b\b\b\b\b\b\b\b\b\b\b\b\b\b\b\b\b\b\b\b\b\b\b\b\b\b\b\b\b\b\b\b\b\b\b\b\b\b\b\b\b\b\b\b\b\b\b\b\b\b\b\b\b\b\b\b\b\b\b\b\b\b\b\b\b\b\b\b\b\b\b\b\b\b\b\b\b\b\b\b\b\b\r13/50 [======>.......................] - ETA: 0s - loss: 1.9654 - accuracy: 0.8194"
                ]
              },
              {
                "output_type": "stream",
                "name": "stdout",
                "text": [
                  "\b\b\b\b\b\b\b\b\b\b\b\b\b\b\b\b\b\b\b\b\b\b\b\b\b\b\b\b\b\b\b\b\b\b\b\b\b\b\b\b\b\b\b\b\b\b\b\b\b\b\b\b\b\b\b\b\b\b\b\b\b\b\b\b\b\b\b\b\b\b\b\b\b\b\b\b\b\b\b\b\b\b\r18/50 [=========>....................] - ETA: 0s - loss: 1.9393 - accuracy: 0.8198"
                ]
              },
              {
                "output_type": "stream",
                "name": "stdout",
                "text": [
                  "\b\b\b\b\b\b\b\b\b\b\b\b\b\b\b\b\b\b\b\b\b\b\b\b\b\b\b\b\b\b\b\b\b\b\b\b\b\b\b\b\b\b\b\b\b\b\b\b\b\b\b\b\b\b\b\b\b\b\b\b\b\b\b\b\b\b\b\b\b\b\b\b\b\b\b\b\b\b\b\b\b\b\r24/50 [=============>................] - ETA: 0s - loss: 1.9171 - accuracy: 0.8158"
                ]
              },
              {
                "output_type": "stream",
                "name": "stdout",
                "text": [
                  "\b\b\b\b\b\b\b\b\b\b\b\b\b\b\b\b\b\b\b\b\b\b\b\b\b\b\b\b\b\b\b\b\b\b\b\b\b\b\b\b\b\b\b\b\b\b\b\b\b\b\b\b\b\b\b\b\b\b\b\b\b\b\b\b\b\b\b\b\b\b\b\b\b\b\b\b\b\b\b\b\b\b\r30/50 [=================>............] - ETA: 0s - loss: 1.8881 - accuracy: 0.8188"
                ]
              },
              {
                "output_type": "stream",
                "name": "stdout",
                "text": [
                  "\b\b\b\b\b\b\b\b\b\b\b\b\b\b\b\b\b\b\b\b\b\b\b\b\b\b\b\b\b\b\b\b\b\b\b\b\b\b\b\b\b\b\b\b\b\b\b\b\b\b\b\b\b\b\b\b\b\b\b\b\b\b\b\b\b\b\b\b\b\b\b\b\b\b\b\b\b\b\b\b\b\b\r35/50 [====================>.........] - ETA: 0s - loss: 1.8672 - accuracy: 0.8193"
                ]
              },
              {
                "output_type": "stream",
                "name": "stdout",
                "text": [
                  "\b\b\b\b\b\b\b\b\b\b\b\b\b\b\b\b\b\b\b\b\b\b\b\b\b\b\b\b\b\b\b\b\b\b\b\b\b\b\b\b\b\b\b\b\b\b\b\b\b\b\b\b\b\b\b\b\b\b\b\b\b\b\b\b\b\b\b\b\b\b\b\b\b\b\b\b\b\b\b\b\b\b\r41/50 [=======================>......] - ETA: 0s - loss: 1.8444 - accuracy: 0.8204"
                ]
              },
              {
                "output_type": "stream",
                "name": "stdout",
                "text": [
                  "\b\b\b\b\b\b\b\b\b\b\b\b\b\b\b\b\b\b\b\b\b\b\b\b\b\b\b\b\b\b\b\b\b\b\b\b\b\b\b\b\b\b\b\b\b\b\b\b\b\b\b\b\b\b\b\b\b\b\b\b\b\b\b\b\b\b\b\b\b\b\b\b\b\b\b\b\b\b\b\b\b\b\r47/50 [===========================>..] - ETA: 0s - loss: 1.8313 - accuracy: 0.8181"
                ]
              },
              {
                "output_type": "stream",
                "name": "stdout",
                "text": [
                  "\b\b\b\b\b\b\b\b\b\b\b\b\b\b\b\b\b\b\b\b\b\b\b\b\b\b\b\b\b\b\b\b\b\b\b\b\b\b\b\b\b\b\b\b\b\b\b\b\b\b\b\b\b\b\b\b\b\b\b\b\b\b\b\b\b\b\b\b\b\b\b\b\b\b\b\b\b\b\b\b\b\b\r50/50 [==============================] - 1s 11ms/step - loss: 1.8214 - accuracy: 0.8185 - val_loss: 1.6486 - val_accuracy: 0.8359\n"
                ]
              },
              {
                "output_type": "stream",
                "name": "stdout",
                "text": [
                  "Epoch 4/20\n"
                ]
              },
              {
                "output_type": "stream",
                "name": "stdout",
                "text": [
                  "\r 1/50 [..............................] - ETA: 0s - loss: 1.6637 - accuracy: 0.8342"
                ]
              },
              {
                "output_type": "stream",
                "name": "stdout",
                "text": [
                  "\b\b\b\b\b\b\b\b\b\b\b\b\b\b\b\b\b\b\b\b\b\b\b\b\b\b\b\b\b\b\b\b\b\b\b\b\b\b\b\b\b\b\b\b\b\b\b\b\b\b\b\b\b\b\b\b\b\b\b\b\b\b\b\b\b\b\b\b\b\b\b\b\b\b\b\b\b\b\b\b\b\b\r 7/50 [===>..........................] - ETA: 0s - loss: 1.6559 - accuracy: 0.8223"
                ]
              },
              {
                "output_type": "stream",
                "name": "stdout",
                "text": [
                  "\b\b\b\b\b\b\b\b\b\b\b\b\b\b\b\b\b\b\b\b\b\b\b\b\b\b\b\b\b\b\b\b\b\b\b\b\b\b\b\b\b\b\b\b\b\b\b\b\b\b\b\b\b\b\b\b\b\b\b\b\b\b\b\b\b\b\b\b\b\b\b\b\b\b\b\b\b\b\b\b\b\b\r13/50 [======>.......................] - ETA: 0s - loss: 1.6413 - accuracy: 0.8221"
                ]
              },
              {
                "output_type": "stream",
                "name": "stdout",
                "text": [
                  "\b\b\b\b\b\b\b\b\b\b\b\b\b\b\b\b\b\b\b\b\b\b\b\b\b\b\b\b\b\b\b\b\b\b\b\b\b\b\b\b\b\b\b\b\b\b\b\b\b\b\b\b\b\b\b\b\b\b\b\b\b\b\b\b\b\b\b\b\b\b\b\b\b\b\b\b\b\b\b\b\b\b\r19/50 [==========>...................] - ETA: 0s - loss: 1.6256 - accuracy: 0.8252"
                ]
              },
              {
                "output_type": "stream",
                "name": "stdout",
                "text": [
                  "\b\b\b\b\b\b\b\b\b\b\b\b\b\b\b\b\b\b\b\b\b\b\b\b\b\b\b\b\b\b\b\b\b\b\b\b\b\b\b\b\b\b\b\b\b\b\b\b\b\b\b\b\b\b\b\b\b\b\b\b\b\b\b\b\b\b\b\b\b\b\b\b\b\b\b\b\b\b\b\b\b\b\r24/50 [=============>................] - ETA: 0s - loss: 1.6162 - accuracy: 0.8261"
                ]
              },
              {
                "output_type": "stream",
                "name": "stdout",
                "text": [
                  "\b\b\b\b\b\b\b\b\b\b\b\b\b\b\b\b\b\b\b\b\b\b\b\b\b\b\b\b\b\b\b\b\b\b\b\b\b\b\b\b\b\b\b\b\b\b\b\b\b\b\b\b\b\b\b\b\b\b\b\b\b\b\b\b\b\b\b\b\b\b\b\b\b\b\b\b\b\b\b\b\b\b\r30/50 [=================>............] - ETA: 0s - loss: 1.6125 - accuracy: 0.8240"
                ]
              },
              {
                "output_type": "stream",
                "name": "stdout",
                "text": [
                  "\b\b\b\b\b\b\b\b\b\b\b\b\b\b\b\b\b\b\b\b\b\b\b\b\b\b\b\b\b\b\b\b\b\b\b\b\b\b\b\b\b\b\b\b\b\b\b\b\b\b\b\b\b\b\b\b\b\b\b\b\b\b\b\b\b\b\b\b\b\b\b\b\b\b\b\b\b\b\b\b\b\b\r36/50 [====================>.........] - ETA: 0s - loss: 1.6002 - accuracy: 0.8256"
                ]
              },
              {
                "output_type": "stream",
                "name": "stdout",
                "text": [
                  "\b\b\b\b\b\b\b\b\b\b\b\b\b\b\b\b\b\b\b\b\b\b\b\b\b\b\b\b\b\b\b\b\b\b\b\b\b\b\b\b\b\b\b\b\b\b\b\b\b\b\b\b\b\b\b\b\b\b\b\b\b\b\b\b\b\b\b\b\b\b\b\b\b\b\b\b\b\b\b\b\b\b\r42/50 [========================>.....] - ETA: 0s - loss: 1.5948 - accuracy: 0.8254"
                ]
              },
              {
                "output_type": "stream",
                "name": "stdout",
                "text": [
                  "\b\b\b\b\b\b\b\b\b\b\b\b\b\b\b\b\b\b\b\b\b\b\b\b\b\b\b\b\b\b\b\b\b\b\b\b\b\b\b\b\b\b\b\b\b\b\b\b\b\b\b\b\b\b\b\b\b\b\b\b\b\b\b\b\b\b\b\b\b\b\b\b\b\b\b\b\b\b\b\b\b\b\r48/50 [===========================>..] - ETA: 0s - loss: 1.5865 - accuracy: 0.8265"
                ]
              },
              {
                "output_type": "stream",
                "name": "stdout",
                "text": [
                  "\b\b\b\b\b\b\b\b\b\b\b\b\b\b\b\b\b\b\b\b\b\b\b\b\b\b\b\b\b\b\b\b\b\b\b\b\b\b\b\b\b\b\b\b\b\b\b\b\b\b\b\b\b\b\b\b\b\b\b\b\b\b\b\b\b\b\b\b\b\b\b\b\b\b\b\b\b\b\b\b\b\b\r50/50 [==============================] - 1s 10ms/step - loss: 1.5850 - accuracy: 0.8264 - val_loss: 1.4806 - val_accuracy: 0.8519\n"
                ]
              },
              {
                "output_type": "stream",
                "name": "stdout",
                "text": [
                  "Epoch 5/20\n"
                ]
              },
              {
                "output_type": "stream",
                "name": "stdout",
                "text": [
                  "\r 1/50 [..............................] - ETA: 0s - loss: 1.4807 - accuracy: 0.8492"
                ]
              },
              {
                "output_type": "stream",
                "name": "stdout",
                "text": [
                  "\b\b\b\b\b\b\b\b\b\b\b\b\b\b\b\b\b\b\b\b\b\b\b\b\b\b\b\b\b\b\b\b\b\b\b\b\b\b\b\b\b\b\b\b\b\b\b\b\b\b\b\b\b\b\b\b\b\b\b\b\b\b\b\b\b\b\b\b\b\b\b\b\b\b\b\b\b\b\b\b\b\b\r 7/50 [===>..........................] - ETA: 0s - loss: 1.5006 - accuracy: 0.8433"
                ]
              },
              {
                "output_type": "stream",
                "name": "stdout",
                "text": [
                  "\b\b\b\b\b\b\b\b\b\b\b\b\b\b\b\b\b\b\b\b\b\b\b\b\b\b\b\b\b\b\b\b\b\b\b\b\b\b\b\b\b\b\b\b\b\b\b\b\b\b\b\b\b\b\b\b\b\b\b\b\b\b\b\b\b\b\b\b\b\b\b\b\b\b\b\b\b\b\b\b\b\b\r12/50 [======>.......................] - ETA: 0s - loss: 1.4992 - accuracy: 0.8372"
                ]
              },
              {
                "output_type": "stream",
                "name": "stdout",
                "text": [
                  "\b\b\b\b\b\b\b\b\b\b\b\b\b\b\b\b\b\b\b\b\b\b\b\b\b\b\b\b\b\b\b\b\b\b\b\b\b\b\b\b\b\b\b\b\b\b\b\b\b\b\b\b\b\b\b\b\b\b\b\b\b\b\b\b\b\b\b\b\b\b\b\b\b\b\b\b\b\b\b\b\b\b\r18/50 [=========>....................] - ETA: 0s - loss: 1.4954 - accuracy: 0.8380"
                ]
              },
              {
                "output_type": "stream",
                "name": "stdout",
                "text": [
                  "\b\b\b\b\b\b\b\b\b\b\b\b\b\b\b\b\b\b\b\b\b\b\b\b\b\b\b\b\b\b\b\b\b\b\b\b\b\b\b\b\b\b\b\b\b\b\b\b\b\b\b\b\b\b\b\b\b\b\b\b\b\b\b\b\b\b\b\b\b\b\b\b\b\b\b\b\b\b\b\b\b\b\r24/50 [=============>................] - ETA: 0s - loss: 1.4990 - accuracy: 0.8365"
                ]
              },
              {
                "output_type": "stream",
                "name": "stdout",
                "text": [
                  "\b\b\b\b\b\b\b\b\b\b\b\b\b\b\b\b\b\b\b\b\b\b\b\b\b\b\b\b\b\b\b\b\b\b\b\b\b\b\b\b\b\b\b\b\b\b\b\b\b\b\b\b\b\b\b\b\b\b\b\b\b\b\b\b\b\b\b\b\b\b\b\b\b\b\b\b\b\b\b\b\b\b\r29/50 [================>.............] - ETA: 0s - loss: 1.4930 - accuracy: 0.8365"
                ]
              },
              {
                "output_type": "stream",
                "name": "stdout",
                "text": [
                  "\b\b\b\b\b\b\b\b\b\b\b\b\b\b\b\b\b\b\b\b\b\b\b\b\b\b\b\b\b\b\b\b\b\b\b\b\b\b\b\b\b\b\b\b\b\b\b\b\b\b\b\b\b\b\b\b\b\b\b\b\b\b\b\b\b\b\b\b\b\b\b\b\b\b\b\b\b\b\b\b\b\b\r35/50 [====================>.........] - ETA: 0s - loss: 1.4878 - accuracy: 0.8354"
                ]
              },
              {
                "output_type": "stream",
                "name": "stdout",
                "text": [
                  "\b\b\b\b\b\b\b\b\b\b\b\b\b\b\b\b\b\b\b\b\b\b\b\b\b\b\b\b\b\b\b\b\b\b\b\b\b\b\b\b\b\b\b\b\b\b\b\b\b\b\b\b\b\b\b\b\b\b\b\b\b\b\b\b\b\b\b\b\b\b\b\b\b\b\b\b\b\b\b\b\b\b\r41/50 [=======================>......] - ETA: 0s - loss: 1.4929 - accuracy: 0.8322"
                ]
              },
              {
                "output_type": "stream",
                "name": "stdout",
                "text": [
                  "\b\b\b\b\b\b\b\b\b\b\b\b\b\b\b\b\b\b\b\b\b\b\b\b\b\b\b\b\b\b\b\b\b\b\b\b\b\b\b\b\b\b\b\b\b\b\b\b\b\b\b\b\b\b\b\b\b\b\b\b\b\b\b\b\b\b\b\b\b\b\b\b\b\b\b\b\b\b\b\b\b\b\r46/50 [==========================>...] - ETA: 0s - loss: 1.4909 - accuracy: 0.8329"
                ]
              },
              {
                "output_type": "stream",
                "name": "stdout",
                "text": [
                  "\b\b\b\b\b\b\b\b\b\b\b\b\b\b\b\b\b\b\b\b\b\b\b\b\b\b\b\b\b\b\b\b\b\b\b\b\b\b\b\b\b\b\b\b\b\b\b\b\b\b\b\b\b\b\b\b\b\b\b\b\b\b\b\b\b\b\b\b\b\b\b\b\b\b\b\b\b\b\b\b\b\b\r50/50 [==============================] - 1s 11ms/step - loss: 1.4905 - accuracy: 0.8324 - val_loss: 1.4965 - val_accuracy: 0.8208\n"
                ]
              },
              {
                "output_type": "stream",
                "name": "stdout",
                "text": [
                  "Epoch 6/20\n"
                ]
              },
              {
                "output_type": "stream",
                "name": "stdout",
                "text": [
                  "\r 1/50 [..............................] - ETA: 0s - loss: 1.5045 - accuracy: 0.7992"
                ]
              },
              {
                "output_type": "stream",
                "name": "stdout",
                "text": [
                  "\b\b\b\b\b\b\b\b\b\b\b\b\b\b\b\b\b\b\b\b\b\b\b\b\b\b\b\b\b\b\b\b\b\b\b\b\b\b\b\b\b\b\b\b\b\b\b\b\b\b\b\b\b\b\b\b\b\b\b\b\b\b\b\b\b\b\b\b\b\b\b\b\b\b\b\b\b\b\b\b\b\b\r 7/50 [===>..........................] - ETA: 0s - loss: 1.4683 - accuracy: 0.8318"
                ]
              },
              {
                "output_type": "stream",
                "name": "stdout",
                "text": [
                  "\b\b\b\b\b\b\b\b\b\b\b\b\b\b\b\b\b\b\b\b\b\b\b\b\b\b\b\b\b\b\b\b\b\b\b\b\b\b\b\b\b\b\b\b\b\b\b\b\b\b\b\b\b\b\b\b\b\b\b\b\b\b\b\b\b\b\b\b\b\b\b\b\b\b\b\b\b\b\b\b\b\b\r13/50 [======>.......................] - ETA: 0s - loss: 1.4609 - accuracy: 0.8351"
                ]
              },
              {
                "output_type": "stream",
                "name": "stdout",
                "text": [
                  "\b\b\b\b\b\b\b\b\b\b\b\b\b\b\b\b\b\b\b\b\b\b\b\b\b\b\b\b\b\b\b\b\b\b\b\b\b\b\b\b\b\b\b\b\b\b\b\b\b\b\b\b\b\b\b\b\b\b\b\b\b\b\b\b\b\b\b\b\b\b\b\b\b\b\b\b\b\b\b\b\b\b\r19/50 [==========>...................] - ETA: 0s - loss: 1.4531 - accuracy: 0.8359"
                ]
              },
              {
                "output_type": "stream",
                "name": "stdout",
                "text": [
                  "\b\b\b\b\b\b\b\b\b\b\b\b\b\b\b\b\b\b\b\b\b\b\b\b\b\b\b\b\b\b\b\b\b\b\b\b\b\b\b\b\b\b\b\b\b\b\b\b\b\b\b\b\b\b\b\b\b\b\b\b\b\b\b\b\b\b\b\b\b\b\b\b\b\b\b\b\b\b\b\b\b\b\r25/50 [==============>...............] - ETA: 0s - loss: 1.4581 - accuracy: 0.8328"
                ]
              },
              {
                "output_type": "stream",
                "name": "stdout",
                "text": [
                  "\b\b\b\b\b\b\b\b\b\b\b\b\b\b\b\b\b\b\b\b\b\b\b\b\b\b\b\b\b\b\b\b\b\b\b\b\b\b\b\b\b\b\b\b\b\b\b\b\b\b\b\b\b\b\b\b\b\b\b\b\b\b\b\b\b\b\b\b\b\b\b\b\b\b\b\b\b\b\b\b\b\b\r31/50 [=================>............] - ETA: 0s - loss: 1.4538 - accuracy: 0.8352"
                ]
              },
              {
                "output_type": "stream",
                "name": "stdout",
                "text": [
                  "\b\b\b\b\b\b\b\b\b\b\b\b\b\b\b\b\b\b\b\b\b\b\b\b\b\b\b\b\b\b\b\b\b\b\b\b\b\b\b\b\b\b\b\b\b\b\b\b\b\b\b\b\b\b\b\b\b\b\b\b\b\b\b\b\b\b\b\b\b\b\b\b\b\b\b\b\b\b\b\b\b\b\r36/50 [====================>.........] - ETA: 0s - loss: 1.4519 - accuracy: 0.8357"
                ]
              },
              {
                "output_type": "stream",
                "name": "stdout",
                "text": [
                  "\b\b\b\b\b\b\b\b\b\b\b\b\b\b\b\b\b\b\b\b\b\b\b\b\b\b\b\b\b\b\b\b\b\b\b\b\b\b\b\b\b\b\b\b\b\b\b\b\b\b\b\b\b\b\b\b\b\b\b\b\b\b\b\b\b\b\b\b\b\b\b\b\b\b\b\b\b\b\b\b\b\b\r42/50 [========================>.....] - ETA: 0s - loss: 1.4550 - accuracy: 0.8340"
                ]
              },
              {
                "output_type": "stream",
                "name": "stdout",
                "text": [
                  "\b\b\b\b\b\b\b\b\b\b\b\b\b\b\b\b\b\b\b\b\b\b\b\b\b\b\b\b\b\b\b\b\b\b\b\b\b\b\b\b\b\b\b\b\b\b\b\b\b\b\b\b\b\b\b\b\b\b\b\b\b\b\b\b\b\b\b\b\b\b\b\b\b\b\b\b\b\b\b\b\b\b\r48/50 [===========================>..] - ETA: 0s - loss: 1.4524 - accuracy: 0.8348"
                ]
              },
              {
                "output_type": "stream",
                "name": "stdout",
                "text": [
                  "\b\b\b\b\b\b\b\b\b\b\b\b\b\b\b\b\b\b\b\b\b\b\b\b\b\b\b\b\b\b\b\b\b\b\b\b\b\b\b\b\b\b\b\b\b\b\b\b\b\b\b\b\b\b\b\b\b\b\b\b\b\b\b\b\b\b\b\b\b\b\b\b\b\b\b\b\b\b\b\b\b\b\r50/50 [==============================] - 1s 11ms/step - loss: 1.4528 - accuracy: 0.8348 - val_loss: 1.5625 - val_accuracy: 0.7550\n"
                ]
              },
              {
                "output_type": "stream",
                "name": "stdout",
                "text": [
                  "Epoch 7/20\n"
                ]
              },
              {
                "output_type": "stream",
                "name": "stdout",
                "text": [
                  "\r 1/50 [..............................] - ETA: 1s - loss: 1.5881 - accuracy: 0.7425"
                ]
              },
              {
                "output_type": "stream",
                "name": "stdout",
                "text": [
                  "\b\b\b\b\b\b\b\b\b\b\b\b\b\b\b\b\b\b\b\b\b\b\b\b\b\b\b\b\b\b\b\b\b\b\b\b\b\b\b\b\b\b\b\b\b\b\b\b\b\b\b\b\b\b\b\b\b\b\b\b\b\b\b\b\b\b\b\b\b\b\b\b\b\b\b\b\b\b\b\b\b\b\r 7/50 [===>..........................] - ETA: 0s - loss: 1.4754 - accuracy: 0.8167"
                ]
              },
              {
                "output_type": "stream",
                "name": "stdout",
                "text": [
                  "\b\b\b\b\b\b\b\b\b\b\b\b\b\b\b\b\b\b\b\b\b\b\b\b\b\b\b\b\b\b\b\b\b\b\b\b\b\b\b\b\b\b\b\b\b\b\b\b\b\b\b\b\b\b\b\b\b\b\b\b\b\b\b\b\b\b\b\b\b\b\b\b\b\b\b\b\b\b\b\b\b\b\r13/50 [======>.......................] - ETA: 0s - loss: 1.4536 - accuracy: 0.8290"
                ]
              },
              {
                "output_type": "stream",
                "name": "stdout",
                "text": [
                  "\b\b\b\b\b\b\b\b\b\b\b\b\b\b\b\b\b\b\b\b\b\b\b\b\b\b\b\b\b\b\b\b\b\b\b\b\b\b\b\b\b\b\b\b\b\b\b\b\b\b\b\b\b\b\b\b\b\b\b\b\b\b\b\b\b\b\b\b\b\b\b\b\b\b\b\b\b\b\b\b\b\b\r19/50 [==========>...................] - ETA: 0s - loss: 1.4499 - accuracy: 0.8302"
                ]
              },
              {
                "output_type": "stream",
                "name": "stdout",
                "text": [
                  "\b\b\b\b\b\b\b\b\b\b\b\b\b\b\b\b\b\b\b\b\b\b\b\b\b\b\b\b\b\b\b\b\b\b\b\b\b\b\b\b\b\b\b\b\b\b\b\b\b\b\b\b\b\b\b\b\b\b\b\b\b\b\b\b\b\b\b\b\b\b\b\b\b\b\b\b\b\b\b\b\b\b\r24/50 [=============>................] - ETA: 0s - loss: 1.4517 - accuracy: 0.8309"
                ]
              },
              {
                "output_type": "stream",
                "name": "stdout",
                "text": [
                  "\b\b\b\b\b\b\b\b\b\b\b\b\b\b\b\b\b\b\b\b\b\b\b\b\b\b\b\b\b\b\b\b\b\b\b\b\b\b\b\b\b\b\b\b\b\b\b\b\b\b\b\b\b\b\b\b\b\b\b\b\b\b\b\b\b\b\b\b\b\b\b\b\b\b\b\b\b\b\b\b\b\b\r30/50 [=================>............] - ETA: 0s - loss: 1.4528 - accuracy: 0.8305"
                ]
              },
              {
                "output_type": "stream",
                "name": "stdout",
                "text": [
                  "\b\b\b\b\b\b\b\b\b\b\b\b\b\b\b\b\b\b\b\b\b\b\b\b\b\b\b\b\b\b\b\b\b\b\b\b\b\b\b\b\b\b\b\b\b\b\b\b\b\b\b\b\b\b\b\b\b\b\b\b\b\b\b\b\b\b\b\b\b\b\b\b\b\b\b\b\b\b\b\b\b\b\r36/50 [====================>.........] - ETA: 0s - loss: 1.4513 - accuracy: 0.8316"
                ]
              },
              {
                "output_type": "stream",
                "name": "stdout",
                "text": [
                  "\b\b\b\b\b\b\b\b\b\b\b\b\b\b\b\b\b\b\b\b\b\b\b\b\b\b\b\b\b\b\b\b\b\b\b\b\b\b\b\b\b\b\b\b\b\b\b\b\b\b\b\b\b\b\b\b\b\b\b\b\b\b\b\b\b\b\b\b\b\b\b\b\b\b\b\b\b\b\b\b\b\b\r42/50 [========================>.....] - ETA: 0s - loss: 1.4464 - accuracy: 0.8329"
                ]
              },
              {
                "output_type": "stream",
                "name": "stdout",
                "text": [
                  "\b\b\b\b\b\b\b\b\b\b\b\b\b\b\b\b\b\b\b\b\b\b\b\b\b\b\b\b\b\b\b\b\b\b\b\b\b\b\b\b\b\b\b\b\b\b\b\b\b\b\b\b\b\b\b\b\b\b\b\b\b\b\b\b\b\b\b\b\b\b\b\b\b\b\b\b\b\b\b\b\b\b\r48/50 [===========================>..] - ETA: 0s - loss: 1.4464 - accuracy: 0.8329"
                ]
              },
              {
                "output_type": "stream",
                "name": "stdout",
                "text": [
                  "\b\b\b\b\b\b\b\b\b\b\b\b\b\b\b\b\b\b\b\b\b\b\b\b\b\b\b\b\b\b\b\b\b\b\b\b\b\b\b\b\b\b\b\b\b\b\b\b\b\b\b\b\b\b\b\b\b\b\b\b\b\b\b\b\b\b\b\b\b\b\b\b\b\b\b\b\b\b\b\b\b\b\r50/50 [==============================] - 1s 11ms/step - loss: 1.4463 - accuracy: 0.8331 - val_loss: 1.4362 - val_accuracy: 0.8285\n"
                ]
              },
              {
                "output_type": "stream",
                "name": "stdout",
                "text": [
                  "Epoch 8/20\n"
                ]
              },
              {
                "output_type": "stream",
                "name": "stdout",
                "text": [
                  "\r 1/50 [..............................] - ETA: 0s - loss: 1.4614 - accuracy: 0.8092"
                ]
              },
              {
                "output_type": "stream",
                "name": "stdout",
                "text": [
                  "\b\b\b\b\b\b\b\b\b\b\b\b\b\b\b\b\b\b\b\b\b\b\b\b\b\b\b\b\b\b\b\b\b\b\b\b\b\b\b\b\b\b\b\b\b\b\b\b\b\b\b\b\b\b\b\b\b\b\b\b\b\b\b\b\b\b\b\b\b\b\b\b\b\b\b\b\b\b\b\b\b\b\r 6/50 [==>...........................] - ETA: 0s - loss: 1.4534 - accuracy: 0.8244"
                ]
              },
              {
                "output_type": "stream",
                "name": "stdout",
                "text": [
                  "\b\b\b\b\b\b\b\b\b\b\b\b\b\b\b\b\b\b\b\b\b\b\b\b\b\b\b\b\b\b\b\b\b\b\b\b\b\b\b\b\b\b\b\b\b\b\b\b\b\b\b\b\b\b\b\b\b\b\b\b\b\b\b\b\b\b\b\b\b\b\b\b\b\b\b\b\b\b\b\b\b\b\r12/50 [======>.......................] - ETA: 0s - loss: 1.4560 - accuracy: 0.8270"
                ]
              },
              {
                "output_type": "stream",
                "name": "stdout",
                "text": [
                  "\b\b\b\b\b\b\b\b\b\b\b\b\b\b\b\b\b\b\b\b\b\b\b\b\b\b\b\b\b\b\b\b\b\b\b\b\b\b\b\b\b\b\b\b\b\b\b\b\b\b\b\b\b\b\b\b\b\b\b\b\b\b\b\b\b\b\b\b\b\b\b\b\b\b\b\b\b\b\b\b\b\b\r18/50 [=========>....................] - ETA: 0s - loss: 1.4598 - accuracy: 0.8249"
                ]
              },
              {
                "output_type": "stream",
                "name": "stdout",
                "text": [
                  "\b\b\b\b\b\b\b\b\b\b\b\b\b\b\b\b\b\b\b\b\b\b\b\b\b\b\b\b\b\b\b\b\b\b\b\b\b\b\b\b\b\b\b\b\b\b\b\b\b\b\b\b\b\b\b\b\b\b\b\b\b\b\b\b\b\b\b\b\b\b\b\b\b\b\b\b\b\b\b\b\b\b\r24/50 [=============>................] - ETA: 0s - loss: 1.4531 - accuracy: 0.8277"
                ]
              },
              {
                "output_type": "stream",
                "name": "stdout",
                "text": [
                  "\b\b\b\b\b\b\b\b\b\b\b\b\b\b\b\b\b\b\b\b\b\b\b\b\b\b\b\b\b\b\b\b\b\b\b\b\b\b\b\b\b\b\b\b\b\b\b\b\b\b\b\b\b\b\b\b\b\b\b\b\b\b\b\b\b\b\b\b\b\b\b\b\b\b\b\b\b\b\b\b\b\b\r30/50 [=================>............] - ETA: 0s - loss: 1.4494 - accuracy: 0.8295"
                ]
              },
              {
                "output_type": "stream",
                "name": "stdout",
                "text": [
                  "\b\b\b\b\b\b\b\b\b\b\b\b\b\b\b\b\b\b\b\b\b\b\b\b\b\b\b\b\b\b\b\b\b\b\b\b\b\b\b\b\b\b\b\b\b\b\b\b\b\b\b\b\b\b\b\b\b\b\b\b\b\b\b\b\b\b\b\b\b\b\b\b\b\b\b\b\b\b\b\b\b\b\r36/50 [====================>.........] - ETA: 0s - loss: 1.4446 - accuracy: 0.8324"
                ]
              },
              {
                "output_type": "stream",
                "name": "stdout",
                "text": [
                  "\b\b\b\b\b\b\b\b\b\b\b\b\b\b\b\b\b\b\b\b\b\b\b\b\b\b\b\b\b\b\b\b\b\b\b\b\b\b\b\b\b\b\b\b\b\b\b\b\b\b\b\b\b\b\b\b\b\b\b\b\b\b\b\b\b\b\b\b\b\b\b\b\b\b\b\b\b\b\b\b\b\b\r42/50 [========================>.....] - ETA: 0s - loss: 1.4535 - accuracy: 0.8300"
                ]
              },
              {
                "output_type": "stream",
                "name": "stdout",
                "text": [
                  "\b\b\b\b\b\b\b\b\b\b\b\b\b\b\b\b\b\b\b\b\b\b\b\b\b\b\b\b\b\b\b\b\b\b\b\b\b\b\b\b\b\b\b\b\b\b\b\b\b\b\b\b\b\b\b\b\b\b\b\b\b\b\b\b\b\b\b\b\b\b\b\b\b\b\b\b\b\b\b\b\b\b\r48/50 [===========================>..] - ETA: 0s - loss: 1.4541 - accuracy: 0.8304"
                ]
              },
              {
                "output_type": "stream",
                "name": "stdout",
                "text": [
                  "\b\b\b\b\b\b\b\b\b\b\b\b\b\b\b\b\b\b\b\b\b\b\b\b\b\b\b\b\b\b\b\b\b\b\b\b\b\b\b\b\b\b\b\b\b\b\b\b\b\b\b\b\b\b\b\b\b\b\b\b\b\b\b\b\b\b\b\b\b\b\b\b\b\b\b\b\b\b\b\b\b\b\r50/50 [==============================] - 1s 11ms/step - loss: 1.4550 - accuracy: 0.8299 - val_loss: 1.4300 - val_accuracy: 0.8362\n"
                ]
              },
              {
                "output_type": "stream",
                "name": "stdout",
                "text": [
                  "Epoch 9/20\n"
                ]
              },
              {
                "output_type": "stream",
                "name": "stdout",
                "text": [
                  "\r 1/50 [..............................] - ETA: 0s - loss: 1.4179 - accuracy: 0.8325"
                ]
              },
              {
                "output_type": "stream",
                "name": "stdout",
                "text": [
                  "\b\b\b\b\b\b\b\b\b\b\b\b\b\b\b\b\b\b\b\b\b\b\b\b\b\b\b\b\b\b\b\b\b\b\b\b\b\b\b\b\b\b\b\b\b\b\b\b\b\b\b\b\b\b\b\b\b\b\b\b\b\b\b\b\b\b\b\b\b\b\b\b\b\b\b\b\b\b\b\b\b\b\r 7/50 [===>..........................] - ETA: 0s - loss: 1.4193 - accuracy: 0.8473"
                ]
              },
              {
                "output_type": "stream",
                "name": "stdout",
                "text": [
                  "\b\b\b\b\b\b\b\b\b\b\b\b\b\b\b\b\b\b\b\b\b\b\b\b\b\b\b\b\b\b\b\b\b\b\b\b\b\b\b\b\b\b\b\b\b\b\b\b\b\b\b\b\b\b\b\b\b\b\b\b\b\b\b\b\b\b\b\b\b\b\b\b\b\b\b\b\b\b\b\b\b\b\r13/50 [======>.......................] - ETA: 0s - loss: 1.4251 - accuracy: 0.8442"
                ]
              },
              {
                "output_type": "stream",
                "name": "stdout",
                "text": [
                  "\b\b\b\b\b\b\b\b\b\b\b\b\b\b\b\b\b\b\b\b\b\b\b\b\b\b\b\b\b\b\b\b\b\b\b\b\b\b\b\b\b\b\b\b\b\b\b\b\b\b\b\b\b\b\b\b\b\b\b\b\b\b\b\b\b\b\b\b\b\b\b\b\b\b\b\b\b\b\b\b\b\b\r19/50 [==========>...................] - ETA: 0s - loss: 1.4199 - accuracy: 0.8451"
                ]
              },
              {
                "output_type": "stream",
                "name": "stdout",
                "text": [
                  "\b\b\b\b\b\b\b\b\b\b\b\b\b\b\b\b\b\b\b\b\b\b\b\b\b\b\b\b\b\b\b\b\b\b\b\b\b\b\b\b\b\b\b\b\b\b\b\b\b\b\b\b\b\b\b\b\b\b\b\b\b\b\b\b\b\b\b\b\b\b\b\b\b\b\b\b\b\b\b\b\b\b\r25/50 [==============>...............] - ETA: 0s - loss: 1.4252 - accuracy: 0.8424"
                ]
              },
              {
                "output_type": "stream",
                "name": "stdout",
                "text": [
                  "\b\b\b\b\b\b\b\b\b\b\b\b\b\b\b\b\b\b\b\b\b\b\b\b\b\b\b\b\b\b\b\b\b\b\b\b\b\b\b\b\b\b\b\b\b\b\b\b\b\b\b\b\b\b\b\b\b\b\b\b\b\b\b\b\b\b\b\b\b\b\b\b\b\b\b\b\b\b\b\b\b\b\r31/50 [=================>............] - ETA: 0s - loss: 1.4233 - accuracy: 0.8412"
                ]
              },
              {
                "output_type": "stream",
                "name": "stdout",
                "text": [
                  "\b\b\b\b\b\b\b\b\b\b\b\b\b\b\b\b\b\b\b\b\b\b\b\b\b\b\b\b\b\b\b\b\b\b\b\b\b\b\b\b\b\b\b\b\b\b\b\b\b\b\b\b\b\b\b\b\b\b\b\b\b\b\b\b\b\b\b\b\b\b\b\b\b\b\b\b\b\b\b\b\b\b\r36/50 [====================>.........] - ETA: 0s - loss: 1.4279 - accuracy: 0.8395"
                ]
              },
              {
                "output_type": "stream",
                "name": "stdout",
                "text": [
                  "\b\b\b\b\b\b\b\b\b\b\b\b\b\b\b\b\b\b\b\b\b\b\b\b\b\b\b\b\b\b\b\b\b\b\b\b\b\b\b\b\b\b\b\b\b\b\b\b\b\b\b\b\b\b\b\b\b\b\b\b\b\b\b\b\b\b\b\b\b\b\b\b\b\b\b\b\b\b\b\b\b\b\r42/50 [========================>.....] - ETA: 0s - loss: 1.4372 - accuracy: 0.8363"
                ]
              },
              {
                "output_type": "stream",
                "name": "stdout",
                "text": [
                  "\b\b\b\b\b\b\b\b\b\b\b\b\b\b\b\b\b\b\b\b\b\b\b\b\b\b\b\b\b\b\b\b\b\b\b\b\b\b\b\b\b\b\b\b\b\b\b\b\b\b\b\b\b\b\b\b\b\b\b\b\b\b\b\b\b\b\b\b\b\b\b\b\b\b\b\b\b\b\b\b\b\b\r48/50 [===========================>..] - ETA: 0s - loss: 1.4336 - accuracy: 0.8373"
                ]
              },
              {
                "output_type": "stream",
                "name": "stdout",
                "text": [
                  "\b\b\b\b\b\b\b\b\b\b\b\b\b\b\b\b\b\b\b\b\b\b\b\b\b\b\b\b\b\b\b\b\b\b\b\b\b\b\b\b\b\b\b\b\b\b\b\b\b\b\b\b\b\b\b\b\b\b\b\b\b\b\b\b\b\b\b\b\b\b\b\b\b\b\b\b\b\b\b\b\b\b\r50/50 [==============================] - 1s 11ms/step - loss: 1.4332 - accuracy: 0.8374 - val_loss: 1.4447 - val_accuracy: 0.8403\n"
                ]
              },
              {
                "output_type": "stream",
                "name": "stdout",
                "text": [
                  "Epoch 10/20\n"
                ]
              },
              {
                "output_type": "stream",
                "name": "stdout",
                "text": [
                  "\r 1/50 [..............................] - ETA: 0s - loss: 1.4528 - accuracy: 0.8417"
                ]
              },
              {
                "output_type": "stream",
                "name": "stdout",
                "text": [
                  "\b\b\b\b\b\b\b\b\b\b\b\b\b\b\b\b\b\b\b\b\b\b\b\b\b\b\b\b\b\b\b\b\b\b\b\b\b\b\b\b\b\b\b\b\b\b\b\b\b\b\b\b\b\b\b\b\b\b\b\b\b\b\b\b\b\b\b\b\b\b\b\b\b\b\b\b\b\b\b\b\b\b\r 7/50 [===>..........................] - ETA: 0s - loss: 1.4330 - accuracy: 0.8385"
                ]
              },
              {
                "output_type": "stream",
                "name": "stdout",
                "text": [
                  "\b\b\b\b\b\b\b\b\b\b\b\b\b\b\b\b\b\b\b\b\b\b\b\b\b\b\b\b\b\b\b\b\b\b\b\b\b\b\b\b\b\b\b\b\b\b\b\b\b\b\b\b\b\b\b\b\b\b\b\b\b\b\b\b\b\b\b\b\b\b\b\b\b\b\b\b\b\b\b\b\b\b\r13/50 [======>.......................] - ETA: 0s - loss: 1.4229 - accuracy: 0.8403"
                ]
              },
              {
                "output_type": "stream",
                "name": "stdout",
                "text": [
                  "\b\b\b\b\b\b\b\b\b\b\b\b\b\b\b\b\b\b\b\b\b\b\b\b\b\b\b\b\b\b\b\b\b\b\b\b\b\b\b\b\b\b\b\b\b\b\b\b\b\b\b\b\b\b\b\b\b\b\b\b\b\b\b\b\b\b\b\b\b\b\b\b\b\b\b\b\b\b\b\b\b\b\r19/50 [==========>...................] - ETA: 0s - loss: 1.4203 - accuracy: 0.8413"
                ]
              },
              {
                "output_type": "stream",
                "name": "stdout",
                "text": [
                  "\b\b\b\b\b\b\b\b\b\b\b\b\b\b\b\b\b\b\b\b\b\b\b\b\b\b\b\b\b\b\b\b\b\b\b\b\b\b\b\b\b\b\b\b\b\b\b\b\b\b\b\b\b\b\b\b\b\b\b\b\b\b\b\b\b\b\b\b\b\b\b\b\b\b\b\b\b\b\b\b\b\b\r25/50 [==============>...............] - ETA: 0s - loss: 1.4307 - accuracy: 0.8345"
                ]
              },
              {
                "output_type": "stream",
                "name": "stdout",
                "text": [
                  "\b\b\b\b\b\b\b\b\b\b\b\b\b\b\b\b\b\b\b\b\b\b\b\b\b\b\b\b\b\b\b\b\b\b\b\b\b\b\b\b\b\b\b\b\b\b\b\b\b\b\b\b\b\b\b\b\b\b\b\b\b\b\b\b\b\b\b\b\b\b\b\b\b\b\b\b\b\b\b\b\b\b\r30/50 [=================>............] - ETA: 0s - loss: 1.4268 - accuracy: 0.8359"
                ]
              },
              {
                "output_type": "stream",
                "name": "stdout",
                "text": [
                  "\b\b\b\b\b\b\b\b\b\b\b\b\b\b\b\b\b\b\b\b\b\b\b\b\b\b\b\b\b\b\b\b\b\b\b\b\b\b\b\b\b\b\b\b\b\b\b\b\b\b\b\b\b\b\b\b\b\b\b\b\b\b\b\b\b\b\b\b\b\b\b\b\b\b\b\b\b\b\b\b\b\b\r36/50 [====================>.........] - ETA: 0s - loss: 1.4224 - accuracy: 0.8381"
                ]
              },
              {
                "output_type": "stream",
                "name": "stdout",
                "text": [
                  "\b\b\b\b\b\b\b\b\b\b\b\b\b\b\b\b\b\b\b\b\b\b\b\b\b\b\b\b\b\b\b\b\b\b\b\b\b\b\b\b\b\b\b\b\b\b\b\b\b\b\b\b\b\b\b\b\b\b\b\b\b\b\b\b\b\b\b\b\b\b\b\b\b\b\b\b\b\b\b\b\b\b\r42/50 [========================>.....] - ETA: 0s - loss: 1.4274 - accuracy: 0.8366"
                ]
              },
              {
                "output_type": "stream",
                "name": "stdout",
                "text": [
                  "\b\b\b\b\b\b\b\b\b\b\b\b\b\b\b\b\b\b\b\b\b\b\b\b\b\b\b\b\b\b\b\b\b\b\b\b\b\b\b\b\b\b\b\b\b\b\b\b\b\b\b\b\b\b\b\b\b\b\b\b\b\b\b\b\b\b\b\b\b\b\b\b\b\b\b\b\b\b\b\b\b\b\r48/50 [===========================>..] - ETA: 0s - loss: 1.4256 - accuracy: 0.8367"
                ]
              },
              {
                "output_type": "stream",
                "name": "stdout",
                "text": [
                  "\b\b\b\b\b\b\b\b\b\b\b\b\b\b\b\b\b\b\b\b\b\b\b\b\b\b\b\b\b\b\b\b\b\b\b\b\b\b\b\b\b\b\b\b\b\b\b\b\b\b\b\b\b\b\b\b\b\b\b\b\b\b\b\b\b\b\b\b\b\b\b\b\b\b\b\b\b\b\b\b\b\b\r50/50 [==============================] - 1s 11ms/step - loss: 1.4254 - accuracy: 0.8369 - val_loss: 1.4217 - val_accuracy: 0.8338\n"
                ]
              },
              {
                "output_type": "stream",
                "name": "stdout",
                "text": [
                  "Epoch 11/20\n"
                ]
              },
              {
                "output_type": "stream",
                "name": "stdout",
                "text": [
                  "\r 1/50 [..............................] - ETA: 0s - loss: 1.4474 - accuracy: 0.8183"
                ]
              },
              {
                "output_type": "stream",
                "name": "stdout",
                "text": [
                  "\b\b\b\b\b\b\b\b\b\b\b\b\b\b\b\b\b\b\b\b\b\b\b\b\b\b\b\b\b\b\b\b\b\b\b\b\b\b\b\b\b\b\b\b\b\b\b\b\b\b\b\b\b\b\b\b\b\b\b\b\b\b\b\b\b\b\b\b\b\b\b\b\b\b\b\b\b\b\b\b\b\b\r 7/50 [===>..........................] - ETA: 0s - loss: 1.4040 - accuracy: 0.8402"
                ]
              },
              {
                "output_type": "stream",
                "name": "stdout",
                "text": [
                  "\b\b\b\b\b\b\b\b\b\b\b\b\b\b\b\b\b\b\b\b\b\b\b\b\b\b\b\b\b\b\b\b\b\b\b\b\b\b\b\b\b\b\b\b\b\b\b\b\b\b\b\b\b\b\b\b\b\b\b\b\b\b\b\b\b\b\b\b\b\b\b\b\b\b\b\b\b\b\b\b\b\b\r13/50 [======>.......................] - ETA: 0s - loss: 1.4289 - accuracy: 0.8316"
                ]
              },
              {
                "output_type": "stream",
                "name": "stdout",
                "text": [
                  "\b\b\b\b\b\b\b\b\b\b\b\b\b\b\b\b\b\b\b\b\b\b\b\b\b\b\b\b\b\b\b\b\b\b\b\b\b\b\b\b\b\b\b\b\b\b\b\b\b\b\b\b\b\b\b\b\b\b\b\b\b\b\b\b\b\b\b\b\b\b\b\b\b\b\b\b\b\b\b\b\b\b\r19/50 [==========>...................] - ETA: 0s - loss: 1.4178 - accuracy: 0.8385"
                ]
              },
              {
                "output_type": "stream",
                "name": "stdout",
                "text": [
                  "\b\b\b\b\b\b\b\b\b\b\b\b\b\b\b\b\b\b\b\b\b\b\b\b\b\b\b\b\b\b\b\b\b\b\b\b\b\b\b\b\b\b\b\b\b\b\b\b\b\b\b\b\b\b\b\b\b\b\b\b\b\b\b\b\b\b\b\b\b\b\b\b\b\b\b\b\b\b\b\b\b\b\r25/50 [==============>...............] - ETA: 0s - loss: 1.4249 - accuracy: 0.8350"
                ]
              },
              {
                "output_type": "stream",
                "name": "stdout",
                "text": [
                  "\b\b\b\b\b\b\b\b\b\b\b\b\b\b\b\b\b\b\b\b\b\b\b\b\b\b\b\b\b\b\b\b\b\b\b\b\b\b\b\b\b\b\b\b\b\b\b\b\b\b\b\b\b\b\b\b\b\b\b\b\b\b\b\b\b\b\b\b\b\b\b\b\b\b\b\b\b\b\b\b\b\b\r31/50 [=================>............] - ETA: 0s - loss: 1.4293 - accuracy: 0.8347"
                ]
              },
              {
                "output_type": "stream",
                "name": "stdout",
                "text": [
                  "\b\b\b\b\b\b\b\b\b\b\b\b\b\b\b\b\b\b\b\b\b\b\b\b\b\b\b\b\b\b\b\b\b\b\b\b\b\b\b\b\b\b\b\b\b\b\b\b\b\b\b\b\b\b\b\b\b\b\b\b\b\b\b\b\b\b\b\b\b\b\b\b\b\b\b\b\b\b\b\b\b\b\r37/50 [=====================>........] - ETA: 0s - loss: 1.4318 - accuracy: 0.8335"
                ]
              },
              {
                "output_type": "stream",
                "name": "stdout",
                "text": [
                  "\b\b\b\b\b\b\b\b\b\b\b\b\b\b\b\b\b\b\b\b\b\b\b\b\b\b\b\b\b\b\b\b\b\b\b\b\b\b\b\b\b\b\b\b\b\b\b\b\b\b\b\b\b\b\b\b\b\b\b\b\b\b\b\b\b\b\b\b\b\b\b\b\b\b\b\b\b\b\b\b\b\b\r43/50 [========================>.....] - ETA: 0s - loss: 1.4296 - accuracy: 0.8350"
                ]
              },
              {
                "output_type": "stream",
                "name": "stdout",
                "text": [
                  "\b\b\b\b\b\b\b\b\b\b\b\b\b\b\b\b\b\b\b\b\b\b\b\b\b\b\b\b\b\b\b\b\b\b\b\b\b\b\b\b\b\b\b\b\b\b\b\b\b\b\b\b\b\b\b\b\b\b\b\b\b\b\b\b\b\b\b\b\b\b\b\b\b\b\b\b\b\b\b\b\b\b\r49/50 [============================>.] - ETA: 0s - loss: 1.4291 - accuracy: 0.8368"
                ]
              },
              {
                "output_type": "stream",
                "name": "stdout",
                "text": [
                  "\b\b\b\b\b\b\b\b\b\b\b\b\b\b\b\b\b\b\b\b\b\b\b\b\b\b\b\b\b\b\b\b\b\b\b\b\b\b\b\b\b\b\b\b\b\b\b\b\b\b\b\b\b\b\b\b\b\b\b\b\b\b\b\b\b\b\b\b\b\b\b\b\b\b\b\b\b\b\b\b\b\b\r50/50 [==============================] - 1s 11ms/step - loss: 1.4282 - accuracy: 0.8373 - val_loss: 1.3954 - val_accuracy: 0.8409\n"
                ]
              },
              {
                "output_type": "stream",
                "name": "stdout",
                "text": [
                  "Epoch 12/20\n"
                ]
              },
              {
                "output_type": "stream",
                "name": "stdout",
                "text": [
                  "\r 1/50 [..............................] - ETA: 0s - loss: 1.3927 - accuracy: 0.8433"
                ]
              },
              {
                "output_type": "stream",
                "name": "stdout",
                "text": [
                  "\b\b\b\b\b\b\b\b\b\b\b\b\b\b\b\b\b\b\b\b\b\b\b\b\b\b\b\b\b\b\b\b\b\b\b\b\b\b\b\b\b\b\b\b\b\b\b\b\b\b\b\b\b\b\b\b\b\b\b\b\b\b\b\b\b\b\b\b\b\b\b\b\b\b\b\b\b\b\b\b\b\b\r 7/50 [===>..........................] - ETA: 0s - loss: 1.4306 - accuracy: 0.8413"
                ]
              },
              {
                "output_type": "stream",
                "name": "stdout",
                "text": [
                  "\b\b\b\b\b\b\b\b\b\b\b\b\b\b\b\b\b\b\b\b\b\b\b\b\b\b\b\b\b\b\b\b\b\b\b\b\b\b\b\b\b\b\b\b\b\b\b\b\b\b\b\b\b\b\b\b\b\b\b\b\b\b\b\b\b\b\b\b\b\b\b\b\b\b\b\b\b\b\b\b\b\b\r13/50 [======>.......................] - ETA: 0s - loss: 1.4565 - accuracy: 0.8279"
                ]
              },
              {
                "output_type": "stream",
                "name": "stdout",
                "text": [
                  "\b\b\b\b\b\b\b\b\b\b\b\b\b\b\b\b\b\b\b\b\b\b\b\b\b\b\b\b\b\b\b\b\b\b\b\b\b\b\b\b\b\b\b\b\b\b\b\b\b\b\b\b\b\b\b\b\b\b\b\b\b\b\b\b\b\b\b\b\b\b\b\b\b\b\b\b\b\b\b\b\b\b\r19/50 [==========>...................] - ETA: 0s - loss: 1.4456 - accuracy: 0.8314"
                ]
              },
              {
                "output_type": "stream",
                "name": "stdout",
                "text": [
                  "\b\b\b\b\b\b\b\b\b\b\b\b\b\b\b\b\b\b\b\b\b\b\b\b\b\b\b\b\b\b\b\b\b\b\b\b\b\b\b\b\b\b\b\b\b\b\b\b\b\b\b\b\b\b\b\b\b\b\b\b\b\b\b\b\b\b\b\b\b\b\b\b\b\b\b\b\b\b\b\b\b\b\r25/50 [==============>...............] - ETA: 0s - loss: 1.4410 - accuracy: 0.8342"
                ]
              },
              {
                "output_type": "stream",
                "name": "stdout",
                "text": [
                  "\b\b\b\b\b\b\b\b\b\b\b\b\b\b\b\b\b\b\b\b\b\b\b\b\b\b\b\b\b\b\b\b\b\b\b\b\b\b\b\b\b\b\b\b\b\b\b\b\b\b\b\b\b\b\b\b\b\b\b\b\b\b\b\b\b\b\b\b\b\b\b\b\b\b\b\b\b\b\b\b\b\b\r31/50 [=================>............] - ETA: 0s - loss: 1.4364 - accuracy: 0.8362"
                ]
              },
              {
                "output_type": "stream",
                "name": "stdout",
                "text": [
                  "\b\b\b\b\b\b\b\b\b\b\b\b\b\b\b\b\b\b\b\b\b\b\b\b\b\b\b\b\b\b\b\b\b\b\b\b\b\b\b\b\b\b\b\b\b\b\b\b\b\b\b\b\b\b\b\b\b\b\b\b\b\b\b\b\b\b\b\b\b\b\b\b\b\b\b\b\b\b\b\b\b\b\r36/50 [====================>.........] - ETA: 0s - loss: 1.4323 - accuracy: 0.8374"
                ]
              },
              {
                "output_type": "stream",
                "name": "stdout",
                "text": [
                  "\b\b\b\b\b\b\b\b\b\b\b\b\b\b\b\b\b\b\b\b\b\b\b\b\b\b\b\b\b\b\b\b\b\b\b\b\b\b\b\b\b\b\b\b\b\b\b\b\b\b\b\b\b\b\b\b\b\b\b\b\b\b\b\b\b\b\b\b\b\b\b\b\b\b\b\b\b\b\b\b\b\b\r42/50 [========================>.....] - ETA: 0s - loss: 1.4295 - accuracy: 0.8387"
                ]
              },
              {
                "output_type": "stream",
                "name": "stdout",
                "text": [
                  "\b\b\b\b\b\b\b\b\b\b\b\b\b\b\b\b\b\b\b\b\b\b\b\b\b\b\b\b\b\b\b\b\b\b\b\b\b\b\b\b\b\b\b\b\b\b\b\b\b\b\b\b\b\b\b\b\b\b\b\b\b\b\b\b\b\b\b\b\b\b\b\b\b\b\b\b\b\b\b\b\b\b\r48/50 [===========================>..] - ETA: 0s - loss: 1.4278 - accuracy: 0.8401"
                ]
              },
              {
                "output_type": "stream",
                "name": "stdout",
                "text": [
                  "\b\b\b\b\b\b\b\b\b\b\b\b\b\b\b\b\b\b\b\b\b\b\b\b\b\b\b\b\b\b\b\b\b\b\b\b\b\b\b\b\b\b\b\b\b\b\b\b\b\b\b\b\b\b\b\b\b\b\b\b\b\b\b\b\b\b\b\b\b\b\b\b\b\b\b\b\b\b\b\b\b\b\r50/50 [==============================] - 1s 11ms/step - loss: 1.4290 - accuracy: 0.8396 - val_loss: 1.4053 - val_accuracy: 0.8470\n"
                ]
              },
              {
                "output_type": "stream",
                "name": "stdout",
                "text": [
                  "Epoch 13/20\n"
                ]
              },
              {
                "output_type": "stream",
                "name": "stdout",
                "text": [
                  "\r 1/50 [..............................] - ETA: 0s - loss: 1.3971 - accuracy: 0.8500"
                ]
              },
              {
                "output_type": "stream",
                "name": "stdout",
                "text": [
                  "\b\b\b\b\b\b\b\b\b\b\b\b\b\b\b\b\b\b\b\b\b\b\b\b\b\b\b\b\b\b\b\b\b\b\b\b\b\b\b\b\b\b\b\b\b\b\b\b\b\b\b\b\b\b\b\b\b\b\b\b\b\b\b\b\b\b\b\b\b\b\b\b\b\b\b\b\b\b\b\b\b\b\r 6/50 [==>...........................] - ETA: 0s - loss: 1.4230 - accuracy: 0.8317"
                ]
              },
              {
                "output_type": "stream",
                "name": "stdout",
                "text": [
                  "\b\b\b\b\b\b\b\b\b\b\b\b\b\b\b\b\b\b\b\b\b\b\b\b\b\b\b\b\b\b\b\b\b\b\b\b\b\b\b\b\b\b\b\b\b\b\b\b\b\b\b\b\b\b\b\b\b\b\b\b\b\b\b\b\b\b\b\b\b\b\b\b\b\b\b\b\b\b\b\b\b\b\r12/50 [======>.......................] - ETA: 0s - loss: 1.4213 - accuracy: 0.8361"
                ]
              },
              {
                "output_type": "stream",
                "name": "stdout",
                "text": [
                  "\b\b\b\b\b\b\b\b\b\b\b\b\b\b\b\b\b\b\b\b\b\b\b\b\b\b\b\b\b\b\b\b\b\b\b\b\b\b\b\b\b\b\b\b\b\b\b\b\b\b\b\b\b\b\b\b\b\b\b\b\b\b\b\b\b\b\b\b\b\b\b\b\b\b\b\b\b\b\b\b\b\b\r18/50 [=========>....................] - ETA: 0s - loss: 1.4132 - accuracy: 0.8384"
                ]
              },
              {
                "output_type": "stream",
                "name": "stdout",
                "text": [
                  "\b\b\b\b\b\b\b\b\b\b\b\b\b\b\b\b\b\b\b\b\b\b\b\b\b\b\b\b\b\b\b\b\b\b\b\b\b\b\b\b\b\b\b\b\b\b\b\b\b\b\b\b\b\b\b\b\b\b\b\b\b\b\b\b\b\b\b\b\b\b\b\b\b\b\b\b\b\b\b\b\b\b\r24/50 [=============>................] - ETA: 0s - loss: 1.4126 - accuracy: 0.8397"
                ]
              },
              {
                "output_type": "stream",
                "name": "stdout",
                "text": [
                  "\b\b\b\b\b\b\b\b\b\b\b\b\b\b\b\b\b\b\b\b\b\b\b\b\b\b\b\b\b\b\b\b\b\b\b\b\b\b\b\b\b\b\b\b\b\b\b\b\b\b\b\b\b\b\b\b\b\b\b\b\b\b\b\b\b\b\b\b\b\b\b\b\b\b\b\b\b\b\b\b\b\b\r30/50 [=================>............] - ETA: 0s - loss: 1.4088 - accuracy: 0.8427"
                ]
              },
              {
                "output_type": "stream",
                "name": "stdout",
                "text": [
                  "\b\b\b\b\b\b\b\b\b\b\b\b\b\b\b\b\b\b\b\b\b\b\b\b\b\b\b\b\b\b\b\b\b\b\b\b\b\b\b\b\b\b\b\b\b\b\b\b\b\b\b\b\b\b\b\b\b\b\b\b\b\b\b\b\b\b\b\b\b\b\b\b\b\b\b\b\b\b\b\b\b\b\r36/50 [====================>.........] - ETA: 0s - loss: 1.4164 - accuracy: 0.8400"
                ]
              },
              {
                "output_type": "stream",
                "name": "stdout",
                "text": [
                  "\b\b\b\b\b\b\b\b\b\b\b\b\b\b\b\b\b\b\b\b\b\b\b\b\b\b\b\b\b\b\b\b\b\b\b\b\b\b\b\b\b\b\b\b\b\b\b\b\b\b\b\b\b\b\b\b\b\b\b\b\b\b\b\b\b\b\b\b\b\b\b\b\b\b\b\b\b\b\b\b\b\b\r42/50 [========================>.....] - ETA: 0s - loss: 1.4184 - accuracy: 0.8399"
                ]
              },
              {
                "output_type": "stream",
                "name": "stdout",
                "text": [
                  "\b\b\b\b\b\b\b\b\b\b\b\b\b\b\b\b\b\b\b\b\b\b\b\b\b\b\b\b\b\b\b\b\b\b\b\b\b\b\b\b\b\b\b\b\b\b\b\b\b\b\b\b\b\b\b\b\b\b\b\b\b\b\b\b\b\b\b\b\b\b\b\b\b\b\b\b\b\b\b\b\b\b\r48/50 [===========================>..] - ETA: 0s - loss: 1.4221 - accuracy: 0.8382"
                ]
              },
              {
                "output_type": "stream",
                "name": "stdout",
                "text": [
                  "\b\b\b\b\b\b\b\b\b\b\b\b\b\b\b\b\b\b\b\b\b\b\b\b\b\b\b\b\b\b\b\b\b\b\b\b\b\b\b\b\b\b\b\b\b\b\b\b\b\b\b\b\b\b\b\b\b\b\b\b\b\b\b\b\b\b\b\b\b\b\b\b\b\b\b\b\b\b\b\b\b\b\r50/50 [==============================] - 1s 11ms/step - loss: 1.4210 - accuracy: 0.8383 - val_loss: 1.4441 - val_accuracy: 0.8395\n"
                ]
              },
              {
                "output_type": "stream",
                "name": "stdout",
                "text": [
                  "Epoch 14/20\n"
                ]
              },
              {
                "output_type": "stream",
                "name": "stdout",
                "text": [
                  "\r 1/50 [..............................] - ETA: 0s - loss: 1.4335 - accuracy: 0.8375"
                ]
              },
              {
                "output_type": "stream",
                "name": "stdout",
                "text": [
                  "\b\b\b\b\b\b\b\b\b\b\b\b\b\b\b\b\b\b\b\b\b\b\b\b\b\b\b\b\b\b\b\b\b\b\b\b\b\b\b\b\b\b\b\b\b\b\b\b\b\b\b\b\b\b\b\b\b\b\b\b\b\b\b\b\b\b\b\b\b\b\b\b\b\b\b\b\b\b\b\b\b\b\r 7/50 [===>..........................] - ETA: 0s - loss: 1.4270 - accuracy: 0.8414"
                ]
              },
              {
                "output_type": "stream",
                "name": "stdout",
                "text": [
                  "\b\b\b\b\b\b\b\b\b\b\b\b\b\b\b\b\b\b\b\b\b\b\b\b\b\b\b\b\b\b\b\b\b\b\b\b\b\b\b\b\b\b\b\b\b\b\b\b\b\b\b\b\b\b\b\b\b\b\b\b\b\b\b\b\b\b\b\b\b\b\b\b\b\b\b\b\b\b\b\b\b\b\r13/50 [======>.......................] - ETA: 0s - loss: 1.4143 - accuracy: 0.8437"
                ]
              },
              {
                "output_type": "stream",
                "name": "stdout",
                "text": [
                  "\b\b\b\b\b\b\b\b\b\b\b\b\b\b\b\b\b\b\b\b\b\b\b\b\b\b\b\b\b\b\b\b\b\b\b\b\b\b\b\b\b\b\b\b\b\b\b\b\b\b\b\b\b\b\b\b\b\b\b\b\b\b\b\b\b\b\b\b\b\b\b\b\b\b\b\b\b\b\b\b\b\b\r19/50 [==========>...................] - ETA: 0s - loss: 1.4065 - accuracy: 0.8457"
                ]
              },
              {
                "output_type": "stream",
                "name": "stdout",
                "text": [
                  "\b\b\b\b\b\b\b\b\b\b\b\b\b\b\b\b\b\b\b\b\b\b\b\b\b\b\b\b\b\b\b\b\b\b\b\b\b\b\b\b\b\b\b\b\b\b\b\b\b\b\b\b\b\b\b\b\b\b\b\b\b\b\b\b\b\b\b\b\b\b\b\b\b\b\b\b\b\b\b\b\b\b\r25/50 [==============>...............] - ETA: 0s - loss: 1.4139 - accuracy: 0.8447"
                ]
              },
              {
                "output_type": "stream",
                "name": "stdout",
                "text": [
                  "\b\b\b\b\b\b\b\b\b\b\b\b\b\b\b\b\b\b\b\b\b\b\b\b\b\b\b\b\b\b\b\b\b\b\b\b\b\b\b\b\b\b\b\b\b\b\b\b\b\b\b\b\b\b\b\b\b\b\b\b\b\b\b\b\b\b\b\b\b\b\b\b\b\b\b\b\b\b\b\b\b\b\r30/50 [=================>............] - ETA: 0s - loss: 1.4231 - accuracy: 0.8422"
                ]
              },
              {
                "output_type": "stream",
                "name": "stdout",
                "text": [
                  "\b\b\b\b\b\b\b\b\b\b\b\b\b\b\b\b\b\b\b\b\b\b\b\b\b\b\b\b\b\b\b\b\b\b\b\b\b\b\b\b\b\b\b\b\b\b\b\b\b\b\b\b\b\b\b\b\b\b\b\b\b\b\b\b\b\b\b\b\b\b\b\b\b\b\b\b\b\b\b\b\b\b\r36/50 [====================>.........] - ETA: 0s - loss: 1.4257 - accuracy: 0.8407"
                ]
              },
              {
                "output_type": "stream",
                "name": "stdout",
                "text": [
                  "\b\b\b\b\b\b\b\b\b\b\b\b\b\b\b\b\b\b\b\b\b\b\b\b\b\b\b\b\b\b\b\b\b\b\b\b\b\b\b\b\b\b\b\b\b\b\b\b\b\b\b\b\b\b\b\b\b\b\b\b\b\b\b\b\b\b\b\b\b\b\b\b\b\b\b\b\b\b\b\b\b\b\r42/50 [========================>.....] - ETA: 0s - loss: 1.4239 - accuracy: 0.8416"
                ]
              },
              {
                "output_type": "stream",
                "name": "stdout",
                "text": [
                  "\b\b\b\b\b\b\b\b\b\b\b\b\b\b\b\b\b\b\b\b\b\b\b\b\b\b\b\b\b\b\b\b\b\b\b\b\b\b\b\b\b\b\b\b\b\b\b\b\b\b\b\b\b\b\b\b\b\b\b\b\b\b\b\b\b\b\b\b\b\b\b\b\b\b\b\b\b\b\b\b\b\b\r48/50 [===========================>..] - ETA: 0s - loss: 1.4247 - accuracy: 0.8423"
                ]
              },
              {
                "output_type": "stream",
                "name": "stdout",
                "text": [
                  "\b\b\b\b\b\b\b\b\b\b\b\b\b\b\b\b\b\b\b\b\b\b\b\b\b\b\b\b\b\b\b\b\b\b\b\b\b\b\b\b\b\b\b\b\b\b\b\b\b\b\b\b\b\b\b\b\b\b\b\b\b\b\b\b\b\b\b\b\b\b\b\b\b\b\b\b\b\b\b\b\b\b\r50/50 [==============================] - 1s 11ms/step - loss: 1.4261 - accuracy: 0.8413 - val_loss: 1.5196 - val_accuracy: 0.7883\n"
                ]
              },
              {
                "output_type": "stream",
                "name": "stdout",
                "text": [
                  "Epoch 15/20\n"
                ]
              },
              {
                "output_type": "stream",
                "name": "stdout",
                "text": [
                  "\r 1/50 [..............................] - ETA: 0s - loss: 1.4990 - accuracy: 0.7942"
                ]
              },
              {
                "output_type": "stream",
                "name": "stdout",
                "text": [
                  "\b\b\b\b\b\b\b\b\b\b\b\b\b\b\b\b\b\b\b\b\b\b\b\b\b\b\b\b\b\b\b\b\b\b\b\b\b\b\b\b\b\b\b\b\b\b\b\b\b\b\b\b\b\b\b\b\b\b\b\b\b\b\b\b\b\b\b\b\b\b\b\b\b\b\b\b\b\b\b\b\b\b\r 7/50 [===>..........................] - ETA: 0s - loss: 1.4364 - accuracy: 0.8362"
                ]
              },
              {
                "output_type": "stream",
                "name": "stdout",
                "text": [
                  "\b\b\b\b\b\b\b\b\b\b\b\b\b\b\b\b\b\b\b\b\b\b\b\b\b\b\b\b\b\b\b\b\b\b\b\b\b\b\b\b\b\b\b\b\b\b\b\b\b\b\b\b\b\b\b\b\b\b\b\b\b\b\b\b\b\b\b\b\b\b\b\b\b\b\b\b\b\b\b\b\b\b\r13/50 [======>.......................] - ETA: 0s - loss: 1.4395 - accuracy: 0.8341"
                ]
              },
              {
                "output_type": "stream",
                "name": "stdout",
                "text": [
                  "\b\b\b\b\b\b\b\b\b\b\b\b\b\b\b\b\b\b\b\b\b\b\b\b\b\b\b\b\b\b\b\b\b\b\b\b\b\b\b\b\b\b\b\b\b\b\b\b\b\b\b\b\b\b\b\b\b\b\b\b\b\b\b\b\b\b\b\b\b\b\b\b\b\b\b\b\b\b\b\b\b\b\r19/50 [==========>...................] - ETA: 0s - loss: 1.4245 - accuracy: 0.8404"
                ]
              },
              {
                "output_type": "stream",
                "name": "stdout",
                "text": [
                  "\b\b\b\b\b\b\b\b\b\b\b\b\b\b\b\b\b\b\b\b\b\b\b\b\b\b\b\b\b\b\b\b\b\b\b\b\b\b\b\b\b\b\b\b\b\b\b\b\b\b\b\b\b\b\b\b\b\b\b\b\b\b\b\b\b\b\b\b\b\b\b\b\b\b\b\b\b\b\b\b\b\b\r25/50 [==============>...............] - ETA: 0s - loss: 1.4134 - accuracy: 0.8448"
                ]
              },
              {
                "output_type": "stream",
                "name": "stdout",
                "text": [
                  "\b\b\b\b\b\b\b\b\b\b\b\b\b\b\b\b\b\b\b\b\b\b\b\b\b\b\b\b\b\b\b\b\b\b\b\b\b\b\b\b\b\b\b\b\b\b\b\b\b\b\b\b\b\b\b\b\b\b\b\b\b\b\b\b\b\b\b\b\b\b\b\b\b\b\b\b\b\b\b\b\b\b\r31/50 [=================>............] - ETA: 0s - loss: 1.4206 - accuracy: 0.8423"
                ]
              },
              {
                "output_type": "stream",
                "name": "stdout",
                "text": [
                  "\b\b\b\b\b\b\b\b\b\b\b\b\b\b\b\b\b\b\b\b\b\b\b\b\b\b\b\b\b\b\b\b\b\b\b\b\b\b\b\b\b\b\b\b\b\b\b\b\b\b\b\b\b\b\b\b\b\b\b\b\b\b\b\b\b\b\b\b\b\b\b\b\b\b\b\b\b\b\b\b\b\b\r37/50 [=====================>........] - ETA: 0s - loss: 1.4159 - accuracy: 0.8438"
                ]
              },
              {
                "output_type": "stream",
                "name": "stdout",
                "text": [
                  "\b\b\b\b\b\b\b\b\b\b\b\b\b\b\b\b\b\b\b\b\b\b\b\b\b\b\b\b\b\b\b\b\b\b\b\b\b\b\b\b\b\b\b\b\b\b\b\b\b\b\b\b\b\b\b\b\b\b\b\b\b\b\b\b\b\b\b\b\b\b\b\b\b\b\b\b\b\b\b\b\b\b\r42/50 [========================>.....] - ETA: 0s - loss: 1.4176 - accuracy: 0.8432"
                ]
              },
              {
                "output_type": "stream",
                "name": "stdout",
                "text": [
                  "\b\b\b\b\b\b\b\b\b\b\b\b\b\b\b\b\b\b\b\b\b\b\b\b\b\b\b\b\b\b\b\b\b\b\b\b\b\b\b\b\b\b\b\b\b\b\b\b\b\b\b\b\b\b\b\b\b\b\b\b\b\b\b\b\b\b\b\b\b\b\b\b\b\b\b\b\b\b\b\b\b\b\r48/50 [===========================>..] - ETA: 0s - loss: 1.4210 - accuracy: 0.8425"
                ]
              },
              {
                "output_type": "stream",
                "name": "stdout",
                "text": [
                  "\b\b\b\b\b\b\b\b\b\b\b\b\b\b\b\b\b\b\b\b\b\b\b\b\b\b\b\b\b\b\b\b\b\b\b\b\b\b\b\b\b\b\b\b\b\b\b\b\b\b\b\b\b\b\b\b\b\b\b\b\b\b\b\b\b\b\b\b\b\b\b\b\b\b\b\b\b\b\b\b\b\b\r50/50 [==============================] - 1s 11ms/step - loss: 1.4201 - accuracy: 0.8429 - val_loss: 1.4015 - val_accuracy: 0.8445\n"
                ]
              },
              {
                "output_type": "stream",
                "name": "stdout",
                "text": [
                  "Epoch 16/20\n"
                ]
              },
              {
                "output_type": "stream",
                "name": "stdout",
                "text": [
                  "\r 1/50 [..............................] - ETA: 0s - loss: 1.4068 - accuracy: 0.8325"
                ]
              },
              {
                "output_type": "stream",
                "name": "stdout",
                "text": [
                  "\b\b\b\b\b\b\b\b\b\b\b\b\b\b\b\b\b\b\b\b\b\b\b\b\b\b\b\b\b\b\b\b\b\b\b\b\b\b\b\b\b\b\b\b\b\b\b\b\b\b\b\b\b\b\b\b\b\b\b\b\b\b\b\b\b\b\b\b\b\b\b\b\b\b\b\b\b\b\b\b\b\b\r 7/50 [===>..........................] - ETA: 0s - loss: 1.4141 - accuracy: 0.8362"
                ]
              },
              {
                "output_type": "stream",
                "name": "stdout",
                "text": [
                  "\b\b\b\b\b\b\b\b\b\b\b\b\b\b\b\b\b\b\b\b\b\b\b\b\b\b\b\b\b\b\b\b\b\b\b\b\b\b\b\b\b\b\b\b\b\b\b\b\b\b\b\b\b\b\b\b\b\b\b\b\b\b\b\b\b\b\b\b\b\b\b\b\b\b\b\b\b\b\b\b\b\b\r13/50 [======>.......................] - ETA: 0s - loss: 1.4053 - accuracy: 0.8454"
                ]
              },
              {
                "output_type": "stream",
                "name": "stdout",
                "text": [
                  "\b\b\b\b\b\b\b\b\b\b\b\b\b\b\b\b\b\b\b\b\b\b\b\b\b\b\b\b\b\b\b\b\b\b\b\b\b\b\b\b\b\b\b\b\b\b\b\b\b\b\b\b\b\b\b\b\b\b\b\b\b\b\b\b\b\b\b\b\b\b\b\b\b\b\b\b\b\b\b\b\b\b\r19/50 [==========>...................] - ETA: 0s - loss: 1.4066 - accuracy: 0.8447"
                ]
              },
              {
                "output_type": "stream",
                "name": "stdout",
                "text": [
                  "\b\b\b\b\b\b\b\b\b\b\b\b\b\b\b\b\b\b\b\b\b\b\b\b\b\b\b\b\b\b\b\b\b\b\b\b\b\b\b\b\b\b\b\b\b\b\b\b\b\b\b\b\b\b\b\b\b\b\b\b\b\b\b\b\b\b\b\b\b\b\b\b\b\b\b\b\b\b\b\b\b\b\r23/50 [============>.................] - ETA: 0s - loss: 1.4181 - accuracy: 0.8420"
                ]
              },
              {
                "output_type": "stream",
                "name": "stdout",
                "text": [
                  "\b\b\b\b\b\b\b\b\b\b\b\b\b\b\b\b\b\b\b\b\b\b\b\b\b\b\b\b\b\b\b\b\b\b\b\b\b\b\b\b\b\b\b\b\b\b\b\b\b\b\b\b\b\b\b\b\b\b\b\b\b\b\b\b\b\b\b\b\b\b\b\b\b\b\b\b\b\b\b\b\b\b\r29/50 [================>.............] - ETA: 0s - loss: 1.4199 - accuracy: 0.8397"
                ]
              },
              {
                "output_type": "stream",
                "name": "stdout",
                "text": [
                  "\b\b\b\b\b\b\b\b\b\b\b\b\b\b\b\b\b\b\b\b\b\b\b\b\b\b\b\b\b\b\b\b\b\b\b\b\b\b\b\b\b\b\b\b\b\b\b\b\b\b\b\b\b\b\b\b\b\b\b\b\b\b\b\b\b\b\b\b\b\b\b\b\b\b\b\b\b\b\b\b\b\b\r35/50 [====================>.........] - ETA: 0s - loss: 1.4198 - accuracy: 0.8395"
                ]
              },
              {
                "output_type": "stream",
                "name": "stdout",
                "text": [
                  "\b\b\b\b\b\b\b\b\b\b\b\b\b\b\b\b\b\b\b\b\b\b\b\b\b\b\b\b\b\b\b\b\b\b\b\b\b\b\b\b\b\b\b\b\b\b\b\b\b\b\b\b\b\b\b\b\b\b\b\b\b\b\b\b\b\b\b\b\b\b\b\b\b\b\b\b\b\b\b\b\b\b\r41/50 [=======================>......] - ETA: 0s - loss: 1.4228 - accuracy: 0.8382"
                ]
              },
              {
                "output_type": "stream",
                "name": "stdout",
                "text": [
                  "\b\b\b\b\b\b\b\b\b\b\b\b\b\b\b\b\b\b\b\b\b\b\b\b\b\b\b\b\b\b\b\b\b\b\b\b\b\b\b\b\b\b\b\b\b\b\b\b\b\b\b\b\b\b\b\b\b\b\b\b\b\b\b\b\b\b\b\b\b\b\b\b\b\b\b\b\b\b\b\b\b\b\r47/50 [===========================>..] - ETA: 0s - loss: 1.4176 - accuracy: 0.8405"
                ]
              },
              {
                "output_type": "stream",
                "name": "stdout",
                "text": [
                  "\b\b\b\b\b\b\b\b\b\b\b\b\b\b\b\b\b\b\b\b\b\b\b\b\b\b\b\b\b\b\b\b\b\b\b\b\b\b\b\b\b\b\b\b\b\b\b\b\b\b\b\b\b\b\b\b\b\b\b\b\b\b\b\b\b\b\b\b\b\b\b\b\b\b\b\b\b\b\b\b\b\b\r50/50 [==============================] - 1s 11ms/step - loss: 1.4188 - accuracy: 0.8395 - val_loss: 1.3956 - val_accuracy: 0.8562\n"
                ]
              },
              {
                "output_type": "stream",
                "name": "stdout",
                "text": [
                  "Epoch 17/20\n"
                ]
              },
              {
                "output_type": "stream",
                "name": "stdout",
                "text": [
                  "\r 1/50 [..............................] - ETA: 0s - loss: 1.4114 - accuracy: 0.8467"
                ]
              },
              {
                "output_type": "stream",
                "name": "stdout",
                "text": [
                  "\b\b\b\b\b\b\b\b\b\b\b\b\b\b\b\b\b\b\b\b\b\b\b\b\b\b\b\b\b\b\b\b\b\b\b\b\b\b\b\b\b\b\b\b\b\b\b\b\b\b\b\b\b\b\b\b\b\b\b\b\b\b\b\b\b\b\b\b\b\b\b\b\b\b\b\b\b\b\b\b\b\b\r 6/50 [==>...........................] - ETA: 0s - loss: 1.4549 - accuracy: 0.8260"
                ]
              },
              {
                "output_type": "stream",
                "name": "stdout",
                "text": [
                  "\b\b\b\b\b\b\b\b\b\b\b\b\b\b\b\b\b\b\b\b\b\b\b\b\b\b\b\b\b\b\b\b\b\b\b\b\b\b\b\b\b\b\b\b\b\b\b\b\b\b\b\b\b\b\b\b\b\b\b\b\b\b\b\b\b\b\b\b\b\b\b\b\b\b\b\b\b\b\b\b\b\b\r12/50 [======>.......................] - ETA: 0s - loss: 1.4412 - accuracy: 0.8354"
                ]
              },
              {
                "output_type": "stream",
                "name": "stdout",
                "text": [
                  "\b\b\b\b\b\b\b\b\b\b\b\b\b\b\b\b\b\b\b\b\b\b\b\b\b\b\b\b\b\b\b\b\b\b\b\b\b\b\b\b\b\b\b\b\b\b\b\b\b\b\b\b\b\b\b\b\b\b\b\b\b\b\b\b\b\b\b\b\b\b\b\b\b\b\b\b\b\b\b\b\b\b\r18/50 [=========>....................] - ETA: 0s - loss: 1.4409 - accuracy: 0.8352"
                ]
              },
              {
                "output_type": "stream",
                "name": "stdout",
                "text": [
                  "\b\b\b\b\b\b\b\b\b\b\b\b\b\b\b\b\b\b\b\b\b\b\b\b\b\b\b\b\b\b\b\b\b\b\b\b\b\b\b\b\b\b\b\b\b\b\b\b\b\b\b\b\b\b\b\b\b\b\b\b\b\b\b\b\b\b\b\b\b\b\b\b\b\b\b\b\b\b\b\b\b\b\r24/50 [=============>................] - ETA: 0s - loss: 1.4333 - accuracy: 0.8382"
                ]
              },
              {
                "output_type": "stream",
                "name": "stdout",
                "text": [
                  "\b\b\b\b\b\b\b\b\b\b\b\b\b\b\b\b\b\b\b\b\b\b\b\b\b\b\b\b\b\b\b\b\b\b\b\b\b\b\b\b\b\b\b\b\b\b\b\b\b\b\b\b\b\b\b\b\b\b\b\b\b\b\b\b\b\b\b\b\b\b\b\b\b\b\b\b\b\b\b\b\b\b\r30/50 [=================>............] - ETA: 0s - loss: 1.4251 - accuracy: 0.8397"
                ]
              },
              {
                "output_type": "stream",
                "name": "stdout",
                "text": [
                  "\b\b\b\b\b\b\b\b\b\b\b\b\b\b\b\b\b\b\b\b\b\b\b\b\b\b\b\b\b\b\b\b\b\b\b\b\b\b\b\b\b\b\b\b\b\b\b\b\b\b\b\b\b\b\b\b\b\b\b\b\b\b\b\b\b\b\b\b\b\b\b\b\b\b\b\b\b\b\b\b\b\b\r36/50 [====================>.........] - ETA: 0s - loss: 1.4220 - accuracy: 0.8408"
                ]
              },
              {
                "output_type": "stream",
                "name": "stdout",
                "text": [
                  "\b\b\b\b\b\b\b\b\b\b\b\b\b\b\b\b\b\b\b\b\b\b\b\b\b\b\b\b\b\b\b\b\b\b\b\b\b\b\b\b\b\b\b\b\b\b\b\b\b\b\b\b\b\b\b\b\b\b\b\b\b\b\b\b\b\b\b\b\b\b\b\b\b\b\b\b\b\b\b\b\b\b\r42/50 [========================>.....] - ETA: 0s - loss: 1.4234 - accuracy: 0.8399"
                ]
              },
              {
                "output_type": "stream",
                "name": "stdout",
                "text": [
                  "\b\b\b\b\b\b\b\b\b\b\b\b\b\b\b\b\b\b\b\b\b\b\b\b\b\b\b\b\b\b\b\b\b\b\b\b\b\b\b\b\b\b\b\b\b\b\b\b\b\b\b\b\b\b\b\b\b\b\b\b\b\b\b\b\b\b\b\b\b\b\b\b\b\b\b\b\b\b\b\b\b\b\r48/50 [===========================>..] - ETA: 0s - loss: 1.4238 - accuracy: 0.8390"
                ]
              },
              {
                "output_type": "stream",
                "name": "stdout",
                "text": [
                  "\b\b\b\b\b\b\b\b\b\b\b\b\b\b\b\b\b\b\b\b\b\b\b\b\b\b\b\b\b\b\b\b\b\b\b\b\b\b\b\b\b\b\b\b\b\b\b\b\b\b\b\b\b\b\b\b\b\b\b\b\b\b\b\b\b\b\b\b\b\b\b\b\b\b\b\b\b\b\b\b\b\b\r50/50 [==============================] - 1s 10ms/step - loss: 1.4239 - accuracy: 0.8391 - val_loss: 1.4048 - val_accuracy: 0.8573\n"
                ]
              },
              {
                "output_type": "stream",
                "name": "stdout",
                "text": [
                  "Epoch 18/20\n"
                ]
              },
              {
                "output_type": "stream",
                "name": "stdout",
                "text": [
                  "\r 1/50 [..............................] - ETA: 0s - loss: 1.4057 - accuracy: 0.8483"
                ]
              },
              {
                "output_type": "stream",
                "name": "stdout",
                "text": [
                  "\b\b\b\b\b\b\b\b\b\b\b\b\b\b\b\b\b\b\b\b\b\b\b\b\b\b\b\b\b\b\b\b\b\b\b\b\b\b\b\b\b\b\b\b\b\b\b\b\b\b\b\b\b\b\b\b\b\b\b\b\b\b\b\b\b\b\b\b\b\b\b\b\b\b\b\b\b\b\b\b\b\b\r 7/50 [===>..........................] - ETA: 0s - loss: 1.4113 - accuracy: 0.8396"
                ]
              },
              {
                "output_type": "stream",
                "name": "stdout",
                "text": [
                  "\b\b\b\b\b\b\b\b\b\b\b\b\b\b\b\b\b\b\b\b\b\b\b\b\b\b\b\b\b\b\b\b\b\b\b\b\b\b\b\b\b\b\b\b\b\b\b\b\b\b\b\b\b\b\b\b\b\b\b\b\b\b\b\b\b\b\b\b\b\b\b\b\b\b\b\b\b\b\b\b\b\b\r13/50 [======>.......................] - ETA: 0s - loss: 1.4134 - accuracy: 0.8413"
                ]
              },
              {
                "output_type": "stream",
                "name": "stdout",
                "text": [
                  "\b\b\b\b\b\b\b\b\b\b\b\b\b\b\b\b\b\b\b\b\b\b\b\b\b\b\b\b\b\b\b\b\b\b\b\b\b\b\b\b\b\b\b\b\b\b\b\b\b\b\b\b\b\b\b\b\b\b\b\b\b\b\b\b\b\b\b\b\b\b\b\b\b\b\b\b\b\b\b\b\b\b\r17/50 [=========>....................] - ETA: 0s - loss: 1.4116 - accuracy: 0.8427"
                ]
              },
              {
                "output_type": "stream",
                "name": "stdout",
                "text": [
                  "\b\b\b\b\b\b\b\b\b\b\b\b\b\b\b\b\b\b\b\b\b\b\b\b\b\b\b\b\b\b\b\b\b\b\b\b\b\b\b\b\b\b\b\b\b\b\b\b\b\b\b\b\b\b\b\b\b\b\b\b\b\b\b\b\b\b\b\b\b\b\b\b\b\b\b\b\b\b\b\b\b\b\r23/50 [============>.................] - ETA: 0s - loss: 1.4082 - accuracy: 0.8440"
                ]
              },
              {
                "output_type": "stream",
                "name": "stdout",
                "text": [
                  "\b\b\b\b\b\b\b\b\b\b\b\b\b\b\b\b\b\b\b\b\b\b\b\b\b\b\b\b\b\b\b\b\b\b\b\b\b\b\b\b\b\b\b\b\b\b\b\b\b\b\b\b\b\b\b\b\b\b\b\b\b\b\b\b\b\b\b\b\b\b\b\b\b\b\b\b\b\b\b\b\b\b\r29/50 [================>.............] - ETA: 0s - loss: 1.4098 - accuracy: 0.8440"
                ]
              },
              {
                "output_type": "stream",
                "name": "stdout",
                "text": [
                  "\b\b\b\b\b\b\b\b\b\b\b\b\b\b\b\b\b\b\b\b\b\b\b\b\b\b\b\b\b\b\b\b\b\b\b\b\b\b\b\b\b\b\b\b\b\b\b\b\b\b\b\b\b\b\b\b\b\b\b\b\b\b\b\b\b\b\b\b\b\b\b\b\b\b\b\b\b\b\b\b\b\b\r35/50 [====================>.........] - ETA: 0s - loss: 1.4142 - accuracy: 0.8423"
                ]
              },
              {
                "output_type": "stream",
                "name": "stdout",
                "text": [
                  "\b\b\b\b\b\b\b\b\b\b\b\b\b\b\b\b\b\b\b\b\b\b\b\b\b\b\b\b\b\b\b\b\b\b\b\b\b\b\b\b\b\b\b\b\b\b\b\b\b\b\b\b\b\b\b\b\b\b\b\b\b\b\b\b\b\b\b\b\b\b\b\b\b\b\b\b\b\b\b\b\b\b\r41/50 [=======================>......] - ETA: 0s - loss: 1.4169 - accuracy: 0.8411"
                ]
              },
              {
                "output_type": "stream",
                "name": "stdout",
                "text": [
                  "\b\b\b\b\b\b\b\b\b\b\b\b\b\b\b\b\b\b\b\b\b\b\b\b\b\b\b\b\b\b\b\b\b\b\b\b\b\b\b\b\b\b\b\b\b\b\b\b\b\b\b\b\b\b\b\b\b\b\b\b\b\b\b\b\b\b\b\b\b\b\b\b\b\b\b\b\b\b\b\b\b\b\r47/50 [===========================>..] - ETA: 0s - loss: 1.4177 - accuracy: 0.8405"
                ]
              },
              {
                "output_type": "stream",
                "name": "stdout",
                "text": [
                  "\b\b\b\b\b\b\b\b\b\b\b\b\b\b\b\b\b\b\b\b\b\b\b\b\b\b\b\b\b\b\b\b\b\b\b\b\b\b\b\b\b\b\b\b\b\b\b\b\b\b\b\b\b\b\b\b\b\b\b\b\b\b\b\b\b\b\b\b\b\b\b\b\b\b\b\b\b\b\b\b\b\b\r50/50 [==============================] - 1s 11ms/step - loss: 1.4176 - accuracy: 0.8407 - val_loss: 1.4167 - val_accuracy: 0.8369\n"
                ]
              },
              {
                "output_type": "stream",
                "name": "stdout",
                "text": [
                  "Epoch 19/20\n"
                ]
              },
              {
                "output_type": "stream",
                "name": "stdout",
                "text": [
                  "\r 1/50 [..............................] - ETA: 0s - loss: 1.4193 - accuracy: 0.8208"
                ]
              },
              {
                "output_type": "stream",
                "name": "stdout",
                "text": [
                  "\b\b\b\b\b\b\b\b\b\b\b\b\b\b\b\b\b\b\b\b\b\b\b\b\b\b\b\b\b\b\b\b\b\b\b\b\b\b\b\b\b\b\b\b\b\b\b\b\b\b\b\b\b\b\b\b\b\b\b\b\b\b\b\b\b\b\b\b\b\b\b\b\b\b\b\b\b\b\b\b\b\b\r 7/50 [===>..........................] - ETA: 0s - loss: 1.4165 - accuracy: 0.8369"
                ]
              },
              {
                "output_type": "stream",
                "name": "stdout",
                "text": [
                  "\b\b\b\b\b\b\b\b\b\b\b\b\b\b\b\b\b\b\b\b\b\b\b\b\b\b\b\b\b\b\b\b\b\b\b\b\b\b\b\b\b\b\b\b\b\b\b\b\b\b\b\b\b\b\b\b\b\b\b\b\b\b\b\b\b\b\b\b\b\b\b\b\b\b\b\b\b\b\b\b\b\b\r13/50 [======>.......................] - ETA: 0s - loss: 1.4446 - accuracy: 0.8296"
                ]
              },
              {
                "output_type": "stream",
                "name": "stdout",
                "text": [
                  "\b\b\b\b\b\b\b\b\b\b\b\b\b\b\b\b\b\b\b\b\b\b\b\b\b\b\b\b\b\b\b\b\b\b\b\b\b\b\b\b\b\b\b\b\b\b\b\b\b\b\b\b\b\b\b\b\b\b\b\b\b\b\b\b\b\b\b\b\b\b\b\b\b\b\b\b\b\b\b\b\b\b\r19/50 [==========>...................] - ETA: 0s - loss: 1.4269 - accuracy: 0.8366"
                ]
              },
              {
                "output_type": "stream",
                "name": "stdout",
                "text": [
                  "\b\b\b\b\b\b\b\b\b\b\b\b\b\b\b\b\b\b\b\b\b\b\b\b\b\b\b\b\b\b\b\b\b\b\b\b\b\b\b\b\b\b\b\b\b\b\b\b\b\b\b\b\b\b\b\b\b\b\b\b\b\b\b\b\b\b\b\b\b\b\b\b\b\b\b\b\b\b\b\b\b\b\r25/50 [==============>...............] - ETA: 0s - loss: 1.4162 - accuracy: 0.8413"
                ]
              },
              {
                "output_type": "stream",
                "name": "stdout",
                "text": [
                  "\b\b\b\b\b\b\b\b\b\b\b\b\b\b\b\b\b\b\b\b\b\b\b\b\b\b\b\b\b\b\b\b\b\b\b\b\b\b\b\b\b\b\b\b\b\b\b\b\b\b\b\b\b\b\b\b\b\b\b\b\b\b\b\b\b\b\b\b\b\b\b\b\b\b\b\b\b\b\b\b\b\b\r31/50 [=================>............] - ETA: 0s - loss: 1.4221 - accuracy: 0.8391"
                ]
              },
              {
                "output_type": "stream",
                "name": "stdout",
                "text": [
                  "\b\b\b\b\b\b\b\b\b\b\b\b\b\b\b\b\b\b\b\b\b\b\b\b\b\b\b\b\b\b\b\b\b\b\b\b\b\b\b\b\b\b\b\b\b\b\b\b\b\b\b\b\b\b\b\b\b\b\b\b\b\b\b\b\b\b\b\b\b\b\b\b\b\b\b\b\b\b\b\b\b\b\r37/50 [=====================>........] - ETA: 0s - loss: 1.4224 - accuracy: 0.8384"
                ]
              },
              {
                "output_type": "stream",
                "name": "stdout",
                "text": [
                  "\b\b\b\b\b\b\b\b\b\b\b\b\b\b\b\b\b\b\b\b\b\b\b\b\b\b\b\b\b\b\b\b\b\b\b\b\b\b\b\b\b\b\b\b\b\b\b\b\b\b\b\b\b\b\b\b\b\b\b\b\b\b\b\b\b\b\b\b\b\b\b\b\b\b\b\b\b\b\b\b\b\b\r43/50 [========================>.....] - ETA: 0s - loss: 1.4201 - accuracy: 0.8388"
                ]
              },
              {
                "output_type": "stream",
                "name": "stdout",
                "text": [
                  "\b\b\b\b\b\b\b\b\b\b\b\b\b\b\b\b\b\b\b\b\b\b\b\b\b\b\b\b\b\b\b\b\b\b\b\b\b\b\b\b\b\b\b\b\b\b\b\b\b\b\b\b\b\b\b\b\b\b\b\b\b\b\b\b\b\b\b\b\b\b\b\b\b\b\b\b\b\b\b\b\b\b\r49/50 [============================>.] - ETA: 0s - loss: 1.4238 - accuracy: 0.8384"
                ]
              },
              {
                "output_type": "stream",
                "name": "stdout",
                "text": [
                  "\b\b\b\b\b\b\b\b\b\b\b\b\b\b\b\b\b\b\b\b\b\b\b\b\b\b\b\b\b\b\b\b\b\b\b\b\b\b\b\b\b\b\b\b\b\b\b\b\b\b\b\b\b\b\b\b\b\b\b\b\b\b\b\b\b\b\b\b\b\b\b\b\b\b\b\b\b\b\b\b\b\b\r50/50 [==============================] - 1s 11ms/step - loss: 1.4233 - accuracy: 0.8387 - val_loss: 1.3728 - val_accuracy: 0.8590\n"
                ]
              },
              {
                "output_type": "stream",
                "name": "stdout",
                "text": [
                  "Epoch 20/20\n"
                ]
              },
              {
                "output_type": "stream",
                "name": "stdout",
                "text": [
                  "\r 1/50 [..............................] - ETA: 0s - loss: 1.3644 - accuracy: 0.8658"
                ]
              },
              {
                "output_type": "stream",
                "name": "stdout",
                "text": [
                  "\b\b\b\b\b\b\b\b\b\b\b\b\b\b\b\b\b\b\b\b\b\b\b\b\b\b\b\b\b\b\b\b\b\b\b\b\b\b\b\b\b\b\b\b\b\b\b\b\b\b\b\b\b\b\b\b\b\b\b\b\b\b\b\b\b\b\b\b\b\b\b\b\b\b\b\b\b\b\b\b\b\b\r 6/50 [==>...........................] - ETA: 0s - loss: 1.4130 - accuracy: 0.8467"
                ]
              },
              {
                "output_type": "stream",
                "name": "stdout",
                "text": [
                  "\b\b\b\b\b\b\b\b\b\b\b\b\b\b\b\b\b\b\b\b\b\b\b\b\b\b\b\b\b\b\b\b\b\b\b\b\b\b\b\b\b\b\b\b\b\b\b\b\b\b\b\b\b\b\b\b\b\b\b\b\b\b\b\b\b\b\b\b\b\b\b\b\b\b\b\b\b\b\b\b\b\b\r11/50 [=====>........................] - ETA: 0s - loss: 1.4048 - accuracy: 0.8463"
                ]
              },
              {
                "output_type": "stream",
                "name": "stdout",
                "text": [
                  "\b\b\b\b\b\b\b\b\b\b\b\b\b\b\b\b\b\b\b\b\b\b\b\b\b\b\b\b\b\b\b\b\b\b\b\b\b\b\b\b\b\b\b\b\b\b\b\b\b\b\b\b\b\b\b\b\b\b\b\b\b\b\b\b\b\b\b\b\b\b\b\b\b\b\b\b\b\b\b\b\b\b\r17/50 [=========>....................] - ETA: 0s - loss: 1.4158 - accuracy: 0.8372"
                ]
              },
              {
                "output_type": "stream",
                "name": "stdout",
                "text": [
                  "\b\b\b\b\b\b\b\b\b\b\b\b\b\b\b\b\b\b\b\b\b\b\b\b\b\b\b\b\b\b\b\b\b\b\b\b\b\b\b\b\b\b\b\b\b\b\b\b\b\b\b\b\b\b\b\b\b\b\b\b\b\b\b\b\b\b\b\b\b\b\b\b\b\b\b\b\b\b\b\b\b\b\r23/50 [============>.................] - ETA: 0s - loss: 1.4253 - accuracy: 0.8332"
                ]
              },
              {
                "output_type": "stream",
                "name": "stdout",
                "text": [
                  "\b\b\b\b\b\b\b\b\b\b\b\b\b\b\b\b\b\b\b\b\b\b\b\b\b\b\b\b\b\b\b\b\b\b\b\b\b\b\b\b\b\b\b\b\b\b\b\b\b\b\b\b\b\b\b\b\b\b\b\b\b\b\b\b\b\b\b\b\b\b\b\b\b\b\b\b\b\b\b\b\b\b\r29/50 [================>.............] - ETA: 0s - loss: 1.4279 - accuracy: 0.8339"
                ]
              },
              {
                "output_type": "stream",
                "name": "stdout",
                "text": [
                  "\b\b\b\b\b\b\b\b\b\b\b\b\b\b\b\b\b\b\b\b\b\b\b\b\b\b\b\b\b\b\b\b\b\b\b\b\b\b\b\b\b\b\b\b\b\b\b\b\b\b\b\b\b\b\b\b\b\b\b\b\b\b\b\b\b\b\b\b\b\b\b\b\b\b\b\b\b\b\b\b\b\b\r35/50 [====================>.........] - ETA: 0s - loss: 1.4275 - accuracy: 0.8360"
                ]
              },
              {
                "output_type": "stream",
                "name": "stdout",
                "text": [
                  "\b\b\b\b\b\b\b\b\b\b\b\b\b\b\b\b\b\b\b\b\b\b\b\b\b\b\b\b\b\b\b\b\b\b\b\b\b\b\b\b\b\b\b\b\b\b\b\b\b\b\b\b\b\b\b\b\b\b\b\b\b\b\b\b\b\b\b\b\b\b\b\b\b\b\b\b\b\b\b\b\b\b\r41/50 [=======================>......] - ETA: 0s - loss: 1.4266 - accuracy: 0.8372"
                ]
              },
              {
                "output_type": "stream",
                "name": "stdout",
                "text": [
                  "\b\b\b\b\b\b\b\b\b\b\b\b\b\b\b\b\b\b\b\b\b\b\b\b\b\b\b\b\b\b\b\b\b\b\b\b\b\b\b\b\b\b\b\b\b\b\b\b\b\b\b\b\b\b\b\b\b\b\b\b\b\b\b\b\b\b\b\b\b\b\b\b\b\b\b\b\b\b\b\b\b\b\r47/50 [===========================>..] - ETA: 0s - loss: 1.4249 - accuracy: 0.8364"
                ]
              },
              {
                "output_type": "stream",
                "name": "stdout",
                "text": [
                  "\b\b\b\b\b\b\b\b\b\b\b\b\b\b\b\b\b\b\b\b\b\b\b\b\b\b\b\b\b\b\b\b\b\b\b\b\b\b\b\b\b\b\b\b\b\b\b\b\b\b\b\b\b\b\b\b\b\b\b\b\b\b\b\b\b\b\b\b\b\b\b\b\b\b\b\b\b\b\b\b\b\b\r50/50 [==============================] - 1s 11ms/step - loss: 1.4249 - accuracy: 0.8368 - val_loss: 1.3970 - val_accuracy: 0.8586\n"
                ]
              },
              {
                "output_type": "stream",
                "name": "stdout",
                "text": [
                  "Accuracy:  0.8586000204086304\n"
                ]
              },
              {
                "output_type": "display_data",
                "data": {
                  "text/plain": "<Figure size 432x288 with 1 Axes>",
                  "image/png": "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\n"
                },
                "metadata": {
                  "needs_background": "light"
                }
              },
              {
                "output_type": "display_data",
                "data": {
                  "text/plain": "<Figure size 432x288 with 1 Axes>",
                  "image/png": "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\n"
                },
                "metadata": {
                  "needs_background": "light"
                }
              }
            ]
          }
        },
        "7a8b3c1e65e94a42925b5c2418dc645c": {
          "model_module": "@jupyter-widgets/base",
          "model_name": "LayoutModel",
          "model_module_version": "1.2.0",
          "state": {
            "_model_module": "@jupyter-widgets/base",
            "_model_module_version": "1.2.0",
            "_model_name": "LayoutModel",
            "_view_count": null,
            "_view_module": "@jupyter-widgets/base",
            "_view_module_version": "1.2.0",
            "_view_name": "LayoutView",
            "align_content": null,
            "align_items": null,
            "align_self": null,
            "border": null,
            "bottom": null,
            "display": null,
            "flex": null,
            "flex_flow": null,
            "grid_area": null,
            "grid_auto_columns": null,
            "grid_auto_flow": null,
            "grid_auto_rows": null,
            "grid_column": null,
            "grid_gap": null,
            "grid_row": null,
            "grid_template_areas": null,
            "grid_template_columns": null,
            "grid_template_rows": null,
            "height": null,
            "justify_content": null,
            "justify_items": null,
            "left": null,
            "margin": null,
            "max_height": null,
            "max_width": null,
            "min_height": null,
            "min_width": null,
            "object_fit": null,
            "object_position": null,
            "order": null,
            "overflow": null,
            "overflow_x": null,
            "overflow_y": null,
            "padding": null,
            "right": null,
            "top": null,
            "visibility": null,
            "width": null
          }
        },
        "ad9eaae3e57b45aba080c82f90212422": {
          "model_module": "@jupyter-widgets/base",
          "model_name": "LayoutModel",
          "model_module_version": "1.2.0",
          "state": {
            "_model_module": "@jupyter-widgets/base",
            "_model_module_version": "1.2.0",
            "_model_name": "LayoutModel",
            "_view_count": null,
            "_view_module": "@jupyter-widgets/base",
            "_view_module_version": "1.2.0",
            "_view_name": "LayoutView",
            "align_content": null,
            "align_items": null,
            "align_self": null,
            "border": null,
            "bottom": null,
            "display": null,
            "flex": null,
            "flex_flow": null,
            "grid_area": null,
            "grid_auto_columns": null,
            "grid_auto_flow": null,
            "grid_auto_rows": null,
            "grid_column": null,
            "grid_gap": null,
            "grid_row": null,
            "grid_template_areas": null,
            "grid_template_columns": null,
            "grid_template_rows": null,
            "height": null,
            "justify_content": null,
            "justify_items": null,
            "left": null,
            "margin": null,
            "max_height": null,
            "max_width": null,
            "min_height": null,
            "min_width": null,
            "object_fit": null,
            "object_position": null,
            "order": null,
            "overflow": null,
            "overflow_x": null,
            "overflow_y": null,
            "padding": null,
            "right": null,
            "top": null,
            "visibility": null,
            "width": null
          }
        },
        "aaf8094c64c145d19dd1509e3d5928a9": {
          "model_module": "@jupyter-widgets/controls",
          "model_name": "SliderStyleModel",
          "model_module_version": "1.5.0",
          "state": {
            "_model_module": "@jupyter-widgets/controls",
            "_model_module_version": "1.5.0",
            "_model_name": "SliderStyleModel",
            "_view_count": null,
            "_view_module": "@jupyter-widgets/base",
            "_view_module_version": "1.2.0",
            "_view_name": "StyleView",
            "description_width": "",
            "handle_color": null
          }
        },
        "2365dad9521b4303a8dbd164971877dd": {
          "model_module": "@jupyter-widgets/base",
          "model_name": "LayoutModel",
          "model_module_version": "1.2.0",
          "state": {
            "_model_module": "@jupyter-widgets/base",
            "_model_module_version": "1.2.0",
            "_model_name": "LayoutModel",
            "_view_count": null,
            "_view_module": "@jupyter-widgets/base",
            "_view_module_version": "1.2.0",
            "_view_name": "LayoutView",
            "align_content": null,
            "align_items": null,
            "align_self": null,
            "border": null,
            "bottom": null,
            "display": null,
            "flex": null,
            "flex_flow": null,
            "grid_area": null,
            "grid_auto_columns": null,
            "grid_auto_flow": null,
            "grid_auto_rows": null,
            "grid_column": null,
            "grid_gap": null,
            "grid_row": null,
            "grid_template_areas": null,
            "grid_template_columns": null,
            "grid_template_rows": null,
            "height": null,
            "justify_content": null,
            "justify_items": null,
            "left": null,
            "margin": null,
            "max_height": null,
            "max_width": null,
            "min_height": null,
            "min_width": null,
            "object_fit": null,
            "object_position": null,
            "order": null,
            "overflow": null,
            "overflow_x": null,
            "overflow_y": null,
            "padding": null,
            "right": null,
            "top": null,
            "visibility": null,
            "width": null
          }
        },
        "236a385fb0274619b798d1a8e8af992e": {
          "model_module": "@jupyter-widgets/controls",
          "model_name": "DescriptionStyleModel",
          "model_module_version": "1.5.0",
          "state": {
            "_model_module": "@jupyter-widgets/controls",
            "_model_module_version": "1.5.0",
            "_model_name": "DescriptionStyleModel",
            "_view_count": null,
            "_view_module": "@jupyter-widgets/base",
            "_view_module_version": "1.2.0",
            "_view_name": "StyleView",
            "description_width": "initial"
          }
        },
        "dc9a1b60e3254d83a3f616a61f1796bb": {
          "model_module": "@jupyter-widgets/base",
          "model_name": "LayoutModel",
          "model_module_version": "1.2.0",
          "state": {
            "_model_module": "@jupyter-widgets/base",
            "_model_module_version": "1.2.0",
            "_model_name": "LayoutModel",
            "_view_count": null,
            "_view_module": "@jupyter-widgets/base",
            "_view_module_version": "1.2.0",
            "_view_name": "LayoutView",
            "align_content": null,
            "align_items": null,
            "align_self": null,
            "border": null,
            "bottom": null,
            "display": null,
            "flex": null,
            "flex_flow": null,
            "grid_area": null,
            "grid_auto_columns": null,
            "grid_auto_flow": null,
            "grid_auto_rows": null,
            "grid_column": null,
            "grid_gap": null,
            "grid_row": null,
            "grid_template_areas": null,
            "grid_template_columns": null,
            "grid_template_rows": null,
            "height": null,
            "justify_content": null,
            "justify_items": null,
            "left": null,
            "margin": null,
            "max_height": null,
            "max_width": null,
            "min_height": null,
            "min_width": null,
            "object_fit": null,
            "object_position": null,
            "order": null,
            "overflow": null,
            "overflow_x": null,
            "overflow_y": null,
            "padding": null,
            "right": null,
            "top": null,
            "visibility": null,
            "width": null
          }
        },
        "699e0a5b52ad463e85dad7fc2f6e75c2": {
          "model_module": "@jupyter-widgets/controls",
          "model_name": "DescriptionStyleModel",
          "model_module_version": "1.5.0",
          "state": {
            "_model_module": "@jupyter-widgets/controls",
            "_model_module_version": "1.5.0",
            "_model_name": "DescriptionStyleModel",
            "_view_count": null,
            "_view_module": "@jupyter-widgets/base",
            "_view_module_version": "1.2.0",
            "_view_name": "StyleView",
            "description_width": "initial"
          }
        },
        "8e06ad6ad85845f9ad546a01c8668c82": {
          "model_module": "@jupyter-widgets/base",
          "model_name": "LayoutModel",
          "model_module_version": "1.2.0",
          "state": {
            "_model_module": "@jupyter-widgets/base",
            "_model_module_version": "1.2.0",
            "_model_name": "LayoutModel",
            "_view_count": null,
            "_view_module": "@jupyter-widgets/base",
            "_view_module_version": "1.2.0",
            "_view_name": "LayoutView",
            "align_content": null,
            "align_items": null,
            "align_self": null,
            "border": null,
            "bottom": null,
            "display": null,
            "flex": null,
            "flex_flow": null,
            "grid_area": null,
            "grid_auto_columns": null,
            "grid_auto_flow": null,
            "grid_auto_rows": null,
            "grid_column": null,
            "grid_gap": null,
            "grid_row": null,
            "grid_template_areas": null,
            "grid_template_columns": null,
            "grid_template_rows": null,
            "height": null,
            "justify_content": null,
            "justify_items": null,
            "left": null,
            "margin": null,
            "max_height": null,
            "max_width": null,
            "min_height": null,
            "min_width": null,
            "object_fit": null,
            "object_position": null,
            "order": null,
            "overflow": null,
            "overflow_x": null,
            "overflow_y": null,
            "padding": null,
            "right": null,
            "top": null,
            "visibility": null,
            "width": null
          }
        },
        "b3ee5bf552834b3883760e6f16d1e057": {
          "model_module": "@jupyter-widgets/controls",
          "model_name": "ToggleButtonsStyleModel",
          "model_module_version": "1.5.0",
          "state": {
            "_model_module": "@jupyter-widgets/controls",
            "_model_module_version": "1.5.0",
            "_model_name": "ToggleButtonsStyleModel",
            "_view_count": null,
            "_view_module": "@jupyter-widgets/base",
            "_view_module_version": "1.2.0",
            "_view_name": "StyleView",
            "button_width": "",
            "description_width": "initial",
            "font_weight": ""
          }
        },
        "898db5c87f704a76b901cccb519ca651": {
          "model_module": "@jupyter-widgets/base",
          "model_name": "LayoutModel",
          "model_module_version": "1.2.0",
          "state": {
            "_model_module": "@jupyter-widgets/base",
            "_model_module_version": "1.2.0",
            "_model_name": "LayoutModel",
            "_view_count": null,
            "_view_module": "@jupyter-widgets/base",
            "_view_module_version": "1.2.0",
            "_view_name": "LayoutView",
            "align_content": null,
            "align_items": null,
            "align_self": null,
            "border": null,
            "bottom": null,
            "display": null,
            "flex": null,
            "flex_flow": null,
            "grid_area": null,
            "grid_auto_columns": null,
            "grid_auto_flow": null,
            "grid_auto_rows": null,
            "grid_column": null,
            "grid_gap": null,
            "grid_row": null,
            "grid_template_areas": null,
            "grid_template_columns": null,
            "grid_template_rows": null,
            "height": null,
            "justify_content": null,
            "justify_items": null,
            "left": null,
            "margin": null,
            "max_height": null,
            "max_width": null,
            "min_height": null,
            "min_width": null,
            "object_fit": null,
            "object_position": null,
            "order": null,
            "overflow": null,
            "overflow_x": null,
            "overflow_y": null,
            "padding": null,
            "right": null,
            "top": null,
            "visibility": null,
            "width": null
          }
        },
        "2a7b199f0f6d451ab1eec63ff49c3f3b": {
          "model_module": "@jupyter-widgets/controls",
          "model_name": "ToggleButtonsStyleModel",
          "model_module_version": "1.5.0",
          "state": {
            "_model_module": "@jupyter-widgets/controls",
            "_model_module_version": "1.5.0",
            "_model_name": "ToggleButtonsStyleModel",
            "_view_count": null,
            "_view_module": "@jupyter-widgets/base",
            "_view_module_version": "1.2.0",
            "_view_name": "StyleView",
            "button_width": "",
            "description_width": "initial",
            "font_weight": ""
          }
        },
        "87bd7dcc6da04e40b254345bbe0a19cc": {
          "model_module": "@jupyter-widgets/base",
          "model_name": "LayoutModel",
          "model_module_version": "1.2.0",
          "state": {
            "_model_module": "@jupyter-widgets/base",
            "_model_module_version": "1.2.0",
            "_model_name": "LayoutModel",
            "_view_count": null,
            "_view_module": "@jupyter-widgets/base",
            "_view_module_version": "1.2.0",
            "_view_name": "LayoutView",
            "align_content": null,
            "align_items": null,
            "align_self": null,
            "border": null,
            "bottom": null,
            "display": null,
            "flex": null,
            "flex_flow": null,
            "grid_area": null,
            "grid_auto_columns": null,
            "grid_auto_flow": null,
            "grid_auto_rows": null,
            "grid_column": null,
            "grid_gap": null,
            "grid_row": null,
            "grid_template_areas": null,
            "grid_template_columns": null,
            "grid_template_rows": null,
            "height": null,
            "justify_content": null,
            "justify_items": null,
            "left": null,
            "margin": null,
            "max_height": null,
            "max_width": null,
            "min_height": null,
            "min_width": null,
            "object_fit": null,
            "object_position": null,
            "order": null,
            "overflow": null,
            "overflow_x": null,
            "overflow_y": null,
            "padding": null,
            "right": null,
            "top": null,
            "visibility": null,
            "width": null
          }
        },
        "d368f89045464615b01db9123efc8d7b": {
          "model_module": "@jupyter-widgets/controls",
          "model_name": "ToggleButtonsStyleModel",
          "model_module_version": "1.5.0",
          "state": {
            "_model_module": "@jupyter-widgets/controls",
            "_model_module_version": "1.5.0",
            "_model_name": "ToggleButtonsStyleModel",
            "_view_count": null,
            "_view_module": "@jupyter-widgets/base",
            "_view_module_version": "1.2.0",
            "_view_name": "StyleView",
            "button_width": "",
            "description_width": "initial",
            "font_weight": ""
          }
        },
        "099f624755684a8c882ec4bc6a2700dc": {
          "model_module": "@jupyter-widgets/base",
          "model_name": "LayoutModel",
          "model_module_version": "1.2.0",
          "state": {
            "_model_module": "@jupyter-widgets/base",
            "_model_module_version": "1.2.0",
            "_model_name": "LayoutModel",
            "_view_count": null,
            "_view_module": "@jupyter-widgets/base",
            "_view_module_version": "1.2.0",
            "_view_name": "LayoutView",
            "align_content": null,
            "align_items": null,
            "align_self": null,
            "border": null,
            "bottom": null,
            "display": null,
            "flex": null,
            "flex_flow": null,
            "grid_area": null,
            "grid_auto_columns": null,
            "grid_auto_flow": null,
            "grid_auto_rows": null,
            "grid_column": null,
            "grid_gap": null,
            "grid_row": null,
            "grid_template_areas": null,
            "grid_template_columns": null,
            "grid_template_rows": null,
            "height": null,
            "justify_content": null,
            "justify_items": null,
            "left": null,
            "margin": null,
            "max_height": null,
            "max_width": null,
            "min_height": null,
            "min_width": null,
            "object_fit": null,
            "object_position": null,
            "order": null,
            "overflow": null,
            "overflow_x": null,
            "overflow_y": null,
            "padding": null,
            "right": null,
            "top": null,
            "visibility": null,
            "width": null
          }
        },
        "ebd66df022b84b04811de62cf07922ef": {
          "model_module": "@jupyter-widgets/controls",
          "model_name": "DescriptionStyleModel",
          "model_module_version": "1.5.0",
          "state": {
            "_model_module": "@jupyter-widgets/controls",
            "_model_module_version": "1.5.0",
            "_model_name": "DescriptionStyleModel",
            "_view_count": null,
            "_view_module": "@jupyter-widgets/base",
            "_view_module_version": "1.2.0",
            "_view_name": "StyleView",
            "description_width": "initial"
          }
        },
        "99d0a3ead3e14726bb0d460a81295721": {
          "model_module": "@jupyter-widgets/base",
          "model_name": "LayoutModel",
          "model_module_version": "1.2.0",
          "state": {
            "_model_module": "@jupyter-widgets/base",
            "_model_module_version": "1.2.0",
            "_model_name": "LayoutModel",
            "_view_count": null,
            "_view_module": "@jupyter-widgets/base",
            "_view_module_version": "1.2.0",
            "_view_name": "LayoutView",
            "align_content": null,
            "align_items": null,
            "align_self": null,
            "border": null,
            "bottom": null,
            "display": null,
            "flex": null,
            "flex_flow": null,
            "grid_area": null,
            "grid_auto_columns": null,
            "grid_auto_flow": null,
            "grid_auto_rows": null,
            "grid_column": null,
            "grid_gap": null,
            "grid_row": null,
            "grid_template_areas": null,
            "grid_template_columns": null,
            "grid_template_rows": null,
            "height": null,
            "justify_content": null,
            "justify_items": null,
            "left": null,
            "margin": null,
            "max_height": null,
            "max_width": null,
            "min_height": null,
            "min_width": null,
            "object_fit": null,
            "object_position": null,
            "order": null,
            "overflow": null,
            "overflow_x": null,
            "overflow_y": null,
            "padding": null,
            "right": null,
            "top": null,
            "visibility": null,
            "width": null
          }
        },
        "d1f7e5c98b234a1784ba53af0de88a81": {
          "model_module": "@jupyter-widgets/controls",
          "model_name": "SliderStyleModel",
          "model_module_version": "1.5.0",
          "state": {
            "_model_module": "@jupyter-widgets/controls",
            "_model_module_version": "1.5.0",
            "_model_name": "SliderStyleModel",
            "_view_count": null,
            "_view_module": "@jupyter-widgets/base",
            "_view_module_version": "1.2.0",
            "_view_name": "StyleView",
            "description_width": "initial",
            "handle_color": null
          }
        },
        "0d2ba21afb6d41e48d14cf631ff19fee": {
          "model_module": "@jupyter-widgets/base",
          "model_name": "LayoutModel",
          "model_module_version": "1.2.0",
          "state": {
            "_model_module": "@jupyter-widgets/base",
            "_model_module_version": "1.2.0",
            "_model_name": "LayoutModel",
            "_view_count": null,
            "_view_module": "@jupyter-widgets/base",
            "_view_module_version": "1.2.0",
            "_view_name": "LayoutView",
            "align_content": null,
            "align_items": null,
            "align_self": null,
            "border": null,
            "bottom": null,
            "display": null,
            "flex": null,
            "flex_flow": null,
            "grid_area": null,
            "grid_auto_columns": null,
            "grid_auto_flow": null,
            "grid_auto_rows": null,
            "grid_column": null,
            "grid_gap": null,
            "grid_row": null,
            "grid_template_areas": null,
            "grid_template_columns": null,
            "grid_template_rows": null,
            "height": null,
            "justify_content": null,
            "justify_items": null,
            "left": null,
            "margin": null,
            "max_height": null,
            "max_width": null,
            "min_height": null,
            "min_width": null,
            "object_fit": null,
            "object_position": null,
            "order": null,
            "overflow": null,
            "overflow_x": null,
            "overflow_y": null,
            "padding": null,
            "right": null,
            "top": null,
            "visibility": null,
            "width": null
          }
        },
        "78aea4fb89854d74baaa6c7f412a45c4": {
          "model_module": "@jupyter-widgets/controls",
          "model_name": "SliderStyleModel",
          "model_module_version": "1.5.0",
          "state": {
            "_model_module": "@jupyter-widgets/controls",
            "_model_module_version": "1.5.0",
            "_model_name": "SliderStyleModel",
            "_view_count": null,
            "_view_module": "@jupyter-widgets/base",
            "_view_module_version": "1.2.0",
            "_view_name": "StyleView",
            "description_width": "initial",
            "handle_color": null
          }
        },
        "802702bd017e4858a9d6004e2b62024d": {
          "model_module": "@jupyter-widgets/base",
          "model_name": "LayoutModel",
          "model_module_version": "1.2.0",
          "state": {
            "_model_module": "@jupyter-widgets/base",
            "_model_module_version": "1.2.0",
            "_model_name": "LayoutModel",
            "_view_count": null,
            "_view_module": "@jupyter-widgets/base",
            "_view_module_version": "1.2.0",
            "_view_name": "LayoutView",
            "align_content": null,
            "align_items": null,
            "align_self": null,
            "border": null,
            "bottom": null,
            "display": null,
            "flex": null,
            "flex_flow": null,
            "grid_area": null,
            "grid_auto_columns": null,
            "grid_auto_flow": null,
            "grid_auto_rows": null,
            "grid_column": null,
            "grid_gap": null,
            "grid_row": null,
            "grid_template_areas": null,
            "grid_template_columns": null,
            "grid_template_rows": null,
            "height": null,
            "justify_content": null,
            "justify_items": null,
            "left": null,
            "margin": null,
            "max_height": null,
            "max_width": null,
            "min_height": null,
            "min_width": null,
            "object_fit": null,
            "object_position": null,
            "order": null,
            "overflow": null,
            "overflow_x": null,
            "overflow_y": null,
            "padding": null,
            "right": null,
            "top": null,
            "visibility": null,
            "width": null
          }
        },
        "88f913fea37b435298b28cd079b281d6": {
          "model_module": "@jupyter-widgets/controls",
          "model_name": "DescriptionStyleModel",
          "model_module_version": "1.5.0",
          "state": {
            "_model_module": "@jupyter-widgets/controls",
            "_model_module_version": "1.5.0",
            "_model_name": "DescriptionStyleModel",
            "_view_count": null,
            "_view_module": "@jupyter-widgets/base",
            "_view_module_version": "1.2.0",
            "_view_name": "StyleView",
            "description_width": "initial"
          }
        },
        "5df2cf90a1e34bc898bab5a0031023cf": {
          "model_module": "@jupyter-widgets/base",
          "model_name": "LayoutModel",
          "model_module_version": "1.2.0",
          "state": {
            "_model_module": "@jupyter-widgets/base",
            "_model_module_version": "1.2.0",
            "_model_name": "LayoutModel",
            "_view_count": null,
            "_view_module": "@jupyter-widgets/base",
            "_view_module_version": "1.2.0",
            "_view_name": "LayoutView",
            "align_content": null,
            "align_items": null,
            "align_self": null,
            "border": null,
            "bottom": null,
            "display": null,
            "flex": null,
            "flex_flow": null,
            "grid_area": null,
            "grid_auto_columns": null,
            "grid_auto_flow": null,
            "grid_auto_rows": null,
            "grid_column": null,
            "grid_gap": null,
            "grid_row": null,
            "grid_template_areas": null,
            "grid_template_columns": null,
            "grid_template_rows": null,
            "height": null,
            "justify_content": null,
            "justify_items": null,
            "left": null,
            "margin": null,
            "max_height": null,
            "max_width": null,
            "min_height": null,
            "min_width": null,
            "object_fit": null,
            "object_position": null,
            "order": null,
            "overflow": null,
            "overflow_x": null,
            "overflow_y": null,
            "padding": null,
            "right": null,
            "top": null,
            "visibility": null,
            "width": null
          }
        },
        "57adeea07cf34326b8fc9cfba021d9c9": {
          "model_module": "@jupyter-widgets/controls",
          "model_name": "DescriptionStyleModel",
          "model_module_version": "1.5.0",
          "state": {
            "_model_module": "@jupyter-widgets/controls",
            "_model_module_version": "1.5.0",
            "_model_name": "DescriptionStyleModel",
            "_view_count": null,
            "_view_module": "@jupyter-widgets/base",
            "_view_module_version": "1.2.0",
            "_view_name": "StyleView",
            "description_width": "initial"
          }
        },
        "7a294be6e0824135bc0ee78891ee2bad": {
          "model_module": "@jupyter-widgets/base",
          "model_name": "LayoutModel",
          "model_module_version": "1.2.0",
          "state": {
            "_model_module": "@jupyter-widgets/base",
            "_model_module_version": "1.2.0",
            "_model_name": "LayoutModel",
            "_view_count": null,
            "_view_module": "@jupyter-widgets/base",
            "_view_module_version": "1.2.0",
            "_view_name": "LayoutView",
            "align_content": null,
            "align_items": null,
            "align_self": null,
            "border": null,
            "bottom": null,
            "display": null,
            "flex": null,
            "flex_flow": null,
            "grid_area": null,
            "grid_auto_columns": null,
            "grid_auto_flow": null,
            "grid_auto_rows": null,
            "grid_column": null,
            "grid_gap": null,
            "grid_row": null,
            "grid_template_areas": null,
            "grid_template_columns": null,
            "grid_template_rows": null,
            "height": null,
            "justify_content": null,
            "justify_items": null,
            "left": null,
            "margin": null,
            "max_height": null,
            "max_width": null,
            "min_height": null,
            "min_width": null,
            "object_fit": null,
            "object_position": null,
            "order": null,
            "overflow": null,
            "overflow_x": null,
            "overflow_y": null,
            "padding": null,
            "right": null,
            "top": null,
            "visibility": null,
            "width": null
          }
        },
        "239259d680cb45a88f37111ee688856f": {
          "model_module": "@jupyter-widgets/controls",
          "model_name": "DescriptionStyleModel",
          "model_module_version": "1.5.0",
          "state": {
            "_model_module": "@jupyter-widgets/controls",
            "_model_module_version": "1.5.0",
            "_model_name": "DescriptionStyleModel",
            "_view_count": null,
            "_view_module": "@jupyter-widgets/base",
            "_view_module_version": "1.2.0",
            "_view_name": "StyleView",
            "description_width": "initial"
          }
        },
        "603bc14f5a984519a625c85a74efb62a": {
          "model_module": "@jupyter-widgets/base",
          "model_name": "LayoutModel",
          "model_module_version": "1.2.0",
          "state": {
            "_model_module": "@jupyter-widgets/base",
            "_model_module_version": "1.2.0",
            "_model_name": "LayoutModel",
            "_view_count": null,
            "_view_module": "@jupyter-widgets/base",
            "_view_module_version": "1.2.0",
            "_view_name": "LayoutView",
            "align_content": null,
            "align_items": null,
            "align_self": null,
            "border": null,
            "bottom": null,
            "display": null,
            "flex": null,
            "flex_flow": null,
            "grid_area": null,
            "grid_auto_columns": null,
            "grid_auto_flow": null,
            "grid_auto_rows": null,
            "grid_column": null,
            "grid_gap": null,
            "grid_row": null,
            "grid_template_areas": null,
            "grid_template_columns": null,
            "grid_template_rows": null,
            "height": null,
            "justify_content": null,
            "justify_items": null,
            "left": null,
            "margin": null,
            "max_height": null,
            "max_width": null,
            "min_height": null,
            "min_width": null,
            "object_fit": null,
            "object_position": null,
            "order": null,
            "overflow": null,
            "overflow_x": null,
            "overflow_y": null,
            "padding": null,
            "right": null,
            "top": null,
            "visibility": null,
            "width": null
          }
        },
        "41abd15abed4413fbe3b8e5bdd55e103": {
          "model_module": "@jupyter-widgets/controls",
          "model_name": "DescriptionStyleModel",
          "model_module_version": "1.5.0",
          "state": {
            "_model_module": "@jupyter-widgets/controls",
            "_model_module_version": "1.5.0",
            "_model_name": "DescriptionStyleModel",
            "_view_count": null,
            "_view_module": "@jupyter-widgets/base",
            "_view_module_version": "1.2.0",
            "_view_name": "StyleView",
            "description_width": "initial"
          }
        },
        "afa4f23057344b019ad33f027bba4448": {
          "model_module": "@jupyter-widgets/base",
          "model_name": "LayoutModel",
          "model_module_version": "1.2.0",
          "state": {
            "_model_module": "@jupyter-widgets/base",
            "_model_module_version": "1.2.0",
            "_model_name": "LayoutModel",
            "_view_count": null,
            "_view_module": "@jupyter-widgets/base",
            "_view_module_version": "1.2.0",
            "_view_name": "LayoutView",
            "align_content": null,
            "align_items": null,
            "align_self": null,
            "border": null,
            "bottom": null,
            "display": null,
            "flex": null,
            "flex_flow": null,
            "grid_area": null,
            "grid_auto_columns": null,
            "grid_auto_flow": null,
            "grid_auto_rows": null,
            "grid_column": null,
            "grid_gap": null,
            "grid_row": null,
            "grid_template_areas": null,
            "grid_template_columns": null,
            "grid_template_rows": null,
            "height": null,
            "justify_content": null,
            "justify_items": null,
            "left": null,
            "margin": null,
            "max_height": null,
            "max_width": null,
            "min_height": null,
            "min_width": null,
            "object_fit": null,
            "object_position": null,
            "order": null,
            "overflow": null,
            "overflow_x": null,
            "overflow_y": null,
            "padding": null,
            "right": null,
            "top": null,
            "visibility": null,
            "width": null
          }
        },
        "4e8728f89bb1493cb86c038bb6cbc710": {
          "model_module": "@jupyter-widgets/controls",
          "model_name": "ButtonStyleModel",
          "model_module_version": "1.5.0",
          "state": {
            "_model_module": "@jupyter-widgets/controls",
            "_model_module_version": "1.5.0",
            "_model_name": "ButtonStyleModel",
            "_view_count": null,
            "_view_module": "@jupyter-widgets/base",
            "_view_module_version": "1.2.0",
            "_view_name": "StyleView",
            "button_color": null,
            "font_weight": ""
          }
        },
        "120e25a3e7d2474e9aabdd55b25b143d": {
          "model_module": "@jupyter-widgets/base",
          "model_name": "LayoutModel",
          "model_module_version": "1.2.0",
          "state": {
            "_model_module": "@jupyter-widgets/base",
            "_model_module_version": "1.2.0",
            "_model_name": "LayoutModel",
            "_view_count": null,
            "_view_module": "@jupyter-widgets/base",
            "_view_module_version": "1.2.0",
            "_view_name": "LayoutView",
            "align_content": null,
            "align_items": null,
            "align_self": null,
            "border": null,
            "bottom": null,
            "display": null,
            "flex": null,
            "flex_flow": null,
            "grid_area": null,
            "grid_auto_columns": null,
            "grid_auto_flow": null,
            "grid_auto_rows": null,
            "grid_column": null,
            "grid_gap": null,
            "grid_row": null,
            "grid_template_areas": null,
            "grid_template_columns": null,
            "grid_template_rows": null,
            "height": null,
            "justify_content": null,
            "justify_items": null,
            "left": null,
            "margin": null,
            "max_height": null,
            "max_width": null,
            "min_height": null,
            "min_width": null,
            "object_fit": null,
            "object_position": null,
            "order": null,
            "overflow": null,
            "overflow_x": null,
            "overflow_y": null,
            "padding": null,
            "right": null,
            "top": null,
            "visibility": null,
            "width": null
          }
        }
      }
    }
  },
  "nbformat": 4,
  "nbformat_minor": 0
}
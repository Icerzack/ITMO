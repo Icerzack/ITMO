{
  "nbformat": 4,
  "nbformat_minor": 0,
  "metadata": {
    "colab": {
      "name": "lab2.ipynb",
      "provenance": [],
      "collapsed_sections": []
    },
    "kernelspec": {
      "name": "python3",
      "display_name": "Python 3"
    },
    "language_info": {
      "name": "python"
    }
  },
  "cells": [
    {
      "cell_type": "markdown",
      "source": [
        "Импорт необходимых библиотек."
      ],
      "metadata": {
        "id": "mkkNK80EEKJa"
      }
    },
    {
      "cell_type": "code",
      "execution_count": null,
      "metadata": {
        "id": "Mfj4kudc_-o7"
      },
      "outputs": [],
      "source": [
        "import math\n",
        "import numpy as np\n",
        "import matplotlib\n",
        "import matplotlib.pyplot as plt\n",
        "import matplotlib.lines as mlines\n",
        "from numpy import genfromtxt\n",
        "import sys"
      ]
    },
    {
      "cell_type": "markdown",
      "source": [
        "Раздел с предложенными функциями в программе, которые выбирает пользователь для решения."
      ],
      "metadata": {
        "id": "G5A2A61xENN5"
      }
    },
    {
      "cell_type": "code",
      "source": [
        "def function1(x):\n",
        "    return -1.8 * x ** 3 - 2.94 * x ** 2 + 10.37 * x + 5.38\n",
        "\n",
        "def function1_first_derivative(x):\n",
        "    return -5.4 * x ** 2 - 5.88 * x + 10.37\n",
        "\n",
        "def function1_second_derivative(x):\n",
        "    return -10.8 * x - 5.88\n",
        "\n",
        "def function2(x):\n",
        "    return math.sin(x) + 0.1\n",
        "\n",
        "def function2_first_derivative(x):\n",
        "    return math.cos(x)\n",
        "\n",
        "def function2_second_derivative(x):\n",
        "    return -math.sin(x)\n",
        "\n",
        "def function3(x):\n",
        "    return x ** 3 - x + 4\n",
        "\n",
        "def function3_first_derivative(x):\n",
        "    return 3 * x ** 2\n",
        "\n",
        "def function3_second_derivative(x):\n",
        "    return 6 * x\n",
        "\n",
        "def f1(x1, x2):\n",
        "    return (0.3 - 0.1 * x1 ** 2 - 0.2 * x2 ** 2 - x1)\n",
        "\n",
        "def f1_derivative_a(x1, x2):\n",
        "    return (-0.2 * x1)\n",
        "\n",
        "def f1_derivative_b(x1, x2):\n",
        "    return (-0.4 * x2)\n",
        "\n",
        "def f2(x1, x2):\n",
        "    return (0.7 - 0.2 * x1 ** 2 - 0.1 * x1 * x2 - x2)\n",
        "\n",
        "def f2_derivative_a(x1, x2):\n",
        "    return (-0.4 * x1  + 0.1 * x2)\n",
        "\n",
        "def f2_derivative_b(x1, x2):\n",
        "    return (0.1 * x1)\n",
        "\n",
        "def system(x1, x2):\n",
        "    return (0.3 - 0.1 * x1 ** 2 - 0.2 * x2 ** 2), (0.7 - 0.2 * x1 ** 2 - 0.1 * x1 * x2)"
      ],
      "metadata": {
        "id": "yApkAw7ZAVDP"
      },
      "execution_count": null,
      "outputs": []
    },
    {
      "cell_type": "markdown",
      "source": [
        "Методы для отрисовки графика."
      ],
      "metadata": {
        "id": "rVnlRtD0ES76"
      }
    },
    {
      "cell_type": "code",
      "source": [
        "def newline(p1, p2, color = 'black'):\n",
        "    ax = plt.gca()\n",
        "    xmin, xmax = ax.get_xbound()\n",
        "    if(p2[0] == p1[0]):\n",
        "        xmin = xmax = p1[0]\n",
        "        ymin, ymax = ax.get_ybound()\n",
        "    else:\n",
        "        ymax = p1[1]+(p2[1]-p1[1])/(p2[0]-p1[0])*(xmax-p1[0])\n",
        "        ymin = p1[1]+(p2[1]-p1[1])/(p2[0]-p1[0])*(xmin-p1[0])\n",
        "\n",
        "    l = mlines.Line2D([xmin,xmax], [ymin,ymax], color = color)\n",
        "    ax.add_line(l)\n",
        "    return l\n",
        "\n",
        "def draw(a, b, Xs = [], func=function1):\n",
        "    \n",
        "    x = [a + i*(b-a)/10000 for i in range(10000)]\n",
        "    y = []\n",
        "    for xx in x:\n",
        "        y.append(func(xx))\n",
        "    plt.plot(x, y)\n",
        "    for xx in Xs:\n",
        "        plt.scatter(xx, 0, color = 'red')\n",
        "    p1 = [min(x), 0]\n",
        "    p2 = [max(x), 0]\n",
        "    p3 = [0, min(y)]\n",
        "    p4 = [0, max(y)]\n",
        "    newline(p1,p2, color = 'black')\n",
        "    newline(p3,p4, color = 'black')\n",
        "\n",
        "    plt.show()\n",
        "\n",
        "def draw_system(a, b, Xs = [], Ys = [], fun1=f1, fun2=f2):\n",
        "    \n",
        "    x = [a + i*(b-a)/10000 for i in range(10000)]\n",
        "    y = []\n",
        "    for xx in x:\n",
        "        y.append(fun1(0, xx))\n",
        "    \n",
        "    plt.plot(y, x)\n",
        "\n",
        "    y = [a + i*(b-a)/10000 for i in range(10000)]\n",
        "    x = []\n",
        "    for yy in y:\n",
        "        x.append(fun2(yy, 0))\n",
        "\n",
        "    plt.plot(y, x)\n",
        "    \n",
        "    for i in range(0, len(Xs)):\n",
        "        plt.scatter(Xs[i], Ys[i], color = 'red')\n",
        "    \n",
        "        # draw axes\n",
        "    p1 = [min(x), 0]\n",
        "    p2 = [max(x), 0]\n",
        "    p3 = [0, min(y)]\n",
        "    p4 = [0, max(y)]\n",
        "    newline(p1,p2, color = 'black')\n",
        "    newline(p3,p4, color = 'black')\n",
        "\n",
        "    plt.show()"
      ],
      "metadata": {
        "id": "SiDK5CT4Cqkx"
      },
      "execution_count": null,
      "outputs": []
    },
    {
      "cell_type": "markdown",
      "source": [
        "Функция для проверки смены знака на заданном участке, принимает границы интревала и названия метода."
      ],
      "metadata": {
        "id": "h3ZeY6aKEWYe"
      }
    },
    {
      "cell_type": "code",
      "source": [
        "def check_sign(a, b, method = '', func=function1):\n",
        "    if func(a) * func(b) > 0:\n",
        "        raise ValueError(f'Ошибка вычисления методом {method}:\\nВ веденном интервале должен располагаться ровно 1 корень, и значения на концах должны быть разных знаков!')\n",
        "    start = np.sign(func(a))\n",
        "    changing = 0\n",
        "    for i in range(1, 1001):\n",
        "        x = a + i*(b-a)/1000\n",
        "        f = func(x)\n",
        "        if np.sign(f) != start:\n",
        "            start = np.sign(f)\n",
        "            changing +=1\n",
        "    if changing != 1:\n",
        "        raise ValueError(f'Ошибка вычисления методом {method}:\\nВ введенном интервале смена знака происходит не 1 раз!')"
      ],
      "metadata": {
        "id": "CW_wTIQlEZ-V"
      },
      "execution_count": null,
      "outputs": []
    },
    {
      "cell_type": "markdown",
      "source": [
        "Реализация метода Ньютона."
      ],
      "metadata": {
        "id": "l38AClp7EeGp"
      }
    },
    {
      "cell_type": "code",
      "source": [
        "def newtone(a, b, eps, f=function1, f_first_derivative=function1_first_derivative, f_second_derivative=function1_second_derivative):\n",
        "    if b < a:\n",
        "        a, b = b, a\n",
        "        \n",
        "    check_sign(a, b, 'Ньютона', f)\n",
        "    x = 0\n",
        "    if f(a) * f_second_derivative(a) > 0:\n",
        "        x = a\n",
        "    elif f(b) * f_second_derivative(b) > 0:\n",
        "        x = b\n",
        "    else:\n",
        "        raise ValueError('Ошибка вычисления Ньютона:\\nНе сходится.')\n",
        "    \n",
        "    n = 0\n",
        "    while n<1 or (abs(f(x)/f_first_derivative(x)) > eps or abs(f(x)) > eps):\n",
        "        n += 1\n",
        "        x -= f(x)/f_first_derivative(x)\n",
        "    return x, n"
      ],
      "metadata": {
        "id": "555PZWc_GNJD"
      },
      "execution_count": null,
      "outputs": []
    },
    {
      "cell_type": "markdown",
      "source": [
        "Реализация метода простых итераций."
      ],
      "metadata": {
        "id": "mLCOVi3SEg1E"
      }
    },
    {
      "cell_type": "code",
      "source": [
        "def iterations(a, b, eps, f=function1, f_first_derivative=function1_first_derivative):\n",
        "    try:\n",
        "        if b < a:\n",
        "            a, b = b, a\n",
        "        check_sign(a, b, 'простых итераций', f)\n",
        "        x = 0\n",
        "        for i in range(1, 1001):\n",
        "          x = a + i/1000 * (b-a)\n",
        "  \n",
        "        lambda_value = -1/max(f_first_derivative(a), f_first_derivative(b))\n",
        "        n = 0\n",
        "        x = a if f_first_derivative(a) > f_first_derivative(b) else b\n",
        "        while abs(f(x)) > eps:\n",
        "            n += 1\n",
        "            x_prev = x\n",
        "            x += lambda_value * f(x)\n",
        "        return x, n\n",
        "    except OverflowError:\n",
        "        raise ValueError('Ошибка методом вычисления простой итерации:\\nНе cходится, или необходимо слишком много итераций.')"
      ],
      "metadata": {
        "id": "9wNyDotjKT5X"
      },
      "execution_count": null,
      "outputs": []
    },
    {
      "cell_type": "markdown",
      "source": [
        "Функция для системы:"
      ],
      "metadata": {
        "id": "X3d_1684nX_4"
      }
    },
    {
      "cell_type": "code",
      "source": [
        "def iteration_for_system(eps):\n",
        "    a = f1_derivative_a(1, 1)\n",
        "    b = f1_derivative_b(1, 1)\n",
        "    c = f2_derivative_a(1, 1)\n",
        "    d = f2_derivative_b(1, 1)\n",
        "   \n",
        "    if(abs(a)+abs(b)<1 and abs(c)+abs(d)<1):\n",
        "        print(\"Сходимость есть, решаем...\")\n",
        "    else:\n",
        "        raise ValueError('Ошибка методом вычисления простой итерации:\\nНе cходится.')\n",
        "    iterations = 1\n",
        "    equation_1_previous, equation_2_previous = system(-3, -3)\n",
        "    equation_1_current, equation_2_current = system(equation_1_previous, equation_2_previous)\n",
        "    while (abs(abs(equation_1_current) - abs(equation_1_previous))>eps or abs(abs(equation_2_current) - abs(equation_2_previous))>eps):\n",
        "        iterations += 1\n",
        "        equation_1_previous = equation_1_current\n",
        "        equation_2_previous = equation_2_current\n",
        "        equation_1_current, equation_2_current = system(equation_1_previous, equation_2_previous)\n",
        "    residuals_1 = abs(equation_1_current - equation_1_previous)\n",
        "    residuals_2 = abs(equation_2_current - equation_2_previous)\n",
        "    return equation_1_current, equation_2_current, iterations, residuals_1, residuals_2"
      ],
      "metadata": {
        "id": "WY5A5tM8nE-V"
      },
      "execution_count": null,
      "outputs": []
    },
    {
      "cell_type": "markdown",
      "source": [
        "Функция для считывания данных и преобразования во float."
      ],
      "metadata": {
        "id": "pL9dvSr2Ekm-"
      }
    },
    {
      "cell_type": "code",
      "source": [
        "def in_float(s = ''):\n",
        "    should_continue = True\n",
        "    while should_continue:\n",
        "        should_continue = False\n",
        "        try:\n",
        "            val = float(input('Введите значение ' + s +': '))\n",
        "        except ValueError:\n",
        "            should_continue = True\n",
        "            print('Попробуйте снова!\\n')\n",
        "    return val"
      ],
      "metadata": {
        "id": "vzbVpZB0BsH_"
      },
      "execution_count": null,
      "outputs": []
    },
    {
      "cell_type": "markdown",
      "source": [
        "Функция \"parse\" отвечает за парсинг данных из файла."
      ],
      "metadata": {
        "id": "uataMUOKB9HM"
      }
    },
    {
      "cell_type": "code",
      "source": [
        "def parse():\n",
        "    should_continue = True\n",
        "    while should_continue:\n",
        "        path = input('Введите путь:\\n')\n",
        "        try:\n",
        "            a, b, eps = genfromtxt(path, delimiter=',')\n",
        "            a = float(a)\n",
        "            b = float(b)\n",
        "            eps = float(eps)\n",
        "            return a, b, eps\n",
        "        except ValueError:\n",
        "            print('В файле должно быть 3 числа, все через запятую.\\n')\n",
        "        except OSError:\n",
        "            print('Такого файла нет.\\n')\n",
        "        print('Попробуйте снова!\\n')"
      ],
      "metadata": {
        "id": "jKlZvTN6B6LX"
      },
      "execution_count": null,
      "outputs": []
    },
    {
      "cell_type": "markdown",
      "source": [
        "Функция для подсчета системы:"
      ],
      "metadata": {
        "id": "e5HtKJu6WCIh"
      }
    },
    {
      "cell_type": "code",
      "source": [
        "def calculate_nonlinear_equation():\n",
        "  again = True\n",
        "  f = function1\n",
        "  f_first_derivative = function1_first_derivative\n",
        "  f_second_derivative = function1_second_derivative\n",
        "  while again:\n",
        "        again = False\n",
        "        in_type = input('Выберите уравнение:\\n\\t 1 - -1.8*x^3-2.94*x^2+10.37*x+5.38\\n\\t 2 - sin(x)+0.1\\n\\t 3 - x^3-x+4\\n\\t')\n",
        "        if in_type.strip() == '1':\n",
        "            f = function1\n",
        "            f_first_derivative = function1_first_derivative\n",
        "            f_second_derivative = function1_second_derivative\n",
        "        elif in_type.strip() == '2':\n",
        "            f = function2\n",
        "            f_first_derivative = function2_first_derivative\n",
        "            f_second_derivative = function2_second_derivative\n",
        "        elif in_type.strip() == '3':\n",
        "            f = function3\n",
        "            f_first_derivative = function3_first_derivative\n",
        "            f_second_derivative = function3_second_derivative\n",
        "        else:\n",
        "            print('Введено неверно, попробуйте снова.')\n",
        "            again = True\n",
        "  again = True\n",
        "  draw(-5, 5, [], f)\n",
        "  while again:\n",
        "        again = False\n",
        "        in_type = input('Введите:\\n\\t k - вводить с клавиатуры\\n\\t f - вводить из файла\\n')\n",
        "        if in_type.strip() == 'k':\n",
        "            a = in_float('a')\n",
        "            b = in_float('b')\n",
        "            eps = in_float('eps')\n",
        "        elif in_type.strip() == 'f':\n",
        "            a, b, eps = parse()\n",
        "        else:\n",
        "            print('Введено неверно, попробуйте снова.')\n",
        "            again = True\n",
        "  again = True\n",
        "  while again:\n",
        "        again = False\n",
        "        in_type = input('Выберите способ:\\n\\t n - метод Ньютона\\n\\t i - метод итераций\\n\\t q - выход\\n')\n",
        "        try:\n",
        "            if in_type.strip() == 'n':\n",
        "                x, n = newtone(a, b, eps, f, f_first_derivative, f_second_derivative)\n",
        "            elif in_type.strip() == 'i':\n",
        "                x, n = iterations(a, b, eps, f, f_first_derivative)\n",
        "            if in_type.strip() == 'n' or in_type.strip() == 'i':\n",
        "                print(f'Решено за {n} итераций\\nX = {x}\\nf(x) = {f(x)}\\n График:\\n')\n",
        "                draw(-5, 5, [x], f)\n",
        "            elif in_type.strip() == 'q':\n",
        "                break\n",
        "            else:\n",
        "                raise ValueError('Введено неверно, попробуй снова.')\n",
        "        except ValueError as err:\n",
        "            print(err)\n",
        "            again = True"
      ],
      "metadata": {
        "id": "CjEBV62c4MVF"
      },
      "execution_count": null,
      "outputs": []
    },
    {
      "cell_type": "markdown",
      "source": [
        "Функция для взаимодействия с системой"
      ],
      "metadata": {
        "id": "psgaUGNYXP3_"
      }
    },
    {
      "cell_type": "code",
      "source": [
        "def calculate_nonlinear_system():\n",
        "    again = True\n",
        "    draw_system(-3, 3, [], [], f1, f2)\n",
        "    while again:\n",
        "        again = False\n",
        "        in_type = input('Введите:\\n\\t k - вводить с клавиатуры\\n\\t f - вводить из файла\\n')\n",
        "        if in_type.strip() == 'k':\n",
        "            eps = in_float('eps')\n",
        "        elif in_type.strip() == 'f':\n",
        "            eps = parse()\n",
        "        else:\n",
        "            print('Введено неверно, попробуйте снова.')\n",
        "            again = True\n",
        "    x1, x2, n, res1, res2 = iteration_for_system(eps)\n",
        "    print(f'Решено за {n} итераций\\nX1 = {x1}\\nX2 = {x2}\\n Погрешности: {res1}, {res2} \\n График:\\n')\n",
        "    draw_system(-3, 3, [x1], [x2], f1, f2)"
      ],
      "metadata": {
        "id": "s92DG-pl5WDC"
      },
      "execution_count": null,
      "outputs": []
    },
    {
      "cell_type": "markdown",
      "source": [
        "Метод, запускающий программу."
      ],
      "metadata": {
        "id": "wma7t5uPE2vM"
      }
    },
    {
      "cell_type": "code",
      "source": [
        "def run():\n",
        "    again = True\n",
        "    while again:\n",
        "        again = False\n",
        "        in_type = input('Что считаем:\\n\\t 1 - уравнение\\n\\t 2 - систему\\n')\n",
        "        if in_type.strip() == '1':\n",
        "            calculate_nonlinear_equation()\n",
        "        elif in_type.strip() == '2':\n",
        "            calculate_nonlinear_system()\n",
        "        else:\n",
        "            print('Введено неверно, попробуйте снова.')\n",
        "            again = True\n",
        "    again = True"
      ],
      "metadata": {
        "id": "M17jOH-cCdOC"
      },
      "execution_count": null,
      "outputs": []
    },
    {
      "cell_type": "code",
      "source": [
        "run()"
      ],
      "metadata": {
        "colab": {
          "base_uri": "https://localhost:8080/",
          "height": 799
        },
        "id": "Pge6yW1vDbHp",
        "outputId": "51fc8195-2a05-4e99-d683-a9e4cea3d4fc"
      },
      "execution_count": null,
      "outputs": [
        {
          "name": "stdout",
          "output_type": "stream",
          "text": [
            "Что считаем:\n",
            "\t 1 - уравнение\n",
            "\t 2 - систему\n",
            "2\n"
          ]
        },
        {
          "output_type": "display_data",
          "data": {
            "text/plain": [
              "<Figure size 432x288 with 1 Axes>"
            ],
            "image/png": "[encoded data removed]"
          },
          "metadata": {
            "needs_background": "light"
          }
        },
        {
          "output_type": "stream",
          "name": "stdout",
          "text": [
            "Введите:\n",
            "\t k - вводить с клавиатуры\n",
            "\t f - вводить из файла\n",
            "k\n",
            "Введите значение eps: 0.01\n",
            "Сходимость есть, решаем...\n",
            "Решено за 6 итераций\n",
            "X1 = 0.20336259305918464\n",
            "X2 = 0.6772908348386247\n",
            " Погрешности: 0.004132174510114273, 0.0021648262752982372 \n",
            " График:\n",
            "\n"
          ]
        },
        {
          "output_type": "display_data",
          "data": {
            "text/plain": [
              "<Figure size 432x288 with 1 Axes>"
            ],
            "image/png": "[encoded data removed]"
          },
          "metadata": {
            "needs_background": "light"
          }
        }
      ]
    }
  ]
}
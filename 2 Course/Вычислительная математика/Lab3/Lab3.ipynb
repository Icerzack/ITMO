{
  "nbformat": 4,
  "nbformat_minor": 0,
  "metadata": {
    "colab": {
      "name": "Lab3.ipynb",
      "provenance": [],
      "collapsed_sections": []
    },
    "kernelspec": {
      "name": "python3",
      "display_name": "Python 3"
    },
    "language_info": {
      "name": "python"
    }
  },
  "cells": [
    {
      "cell_type": "code",
      "source": [
        "import math\n",
        "n = 0\n",
        "x_current = 0\n",
        "def f1(x):\n",
        "    return x*x\n",
        "def f2(x):\n",
        "    return 2*x/5\n",
        "def f3(x):\n",
        "    return math.cos(x)/(x-3)"
      ],
      "metadata": {
        "id": "OHDtJvzWZix1"
      },
      "execution_count": null,
      "outputs": []
    },
    {
      "cell_type": "code",
      "source": [
        "def left_rectangle_method(a, b, eps, f):\n",
        "    global n\n",
        "    global x_current\n",
        "    s = 0\n",
        "    n = 4\n",
        "    while(True):\n",
        "          sum = 0\n",
        "          h = (b - a)/n\n",
        "          for i in range(0, n):\n",
        "            x = a + i * h\n",
        "            x_current = x\n",
        "            sum += f(x)\n",
        "          sum *= h\n",
        "          if (abs(s - sum) < eps):\n",
        "            return sum\n",
        "          else:\n",
        "            n *= 2\n",
        "            s = sum"
      ],
      "metadata": {
        "id": "ildLf5qUeDck"
      },
      "execution_count": null,
      "outputs": []
    },
    {
      "cell_type": "code",
      "source": [
        "def right_rectangle_method(a, b, eps, f):\n",
        "    global n\n",
        "    global x_current\n",
        "    s = 0\n",
        "    n = 4\n",
        "    while(True):\n",
        "        sum = 0\n",
        "        h = (b - a)/n\n",
        "        for i in range(1, n+1):\n",
        "            x = a + i * h\n",
        "            x_current = x\n",
        "            sum += f(x)\n",
        "        sum *= h\n",
        "        if (abs(s - sum) < eps):\n",
        "            return sum\n",
        "        else:\n",
        "            n *= 2\n",
        "            s = sum"
      ],
      "metadata": {
        "id": "q1o6B4iteG0p"
      },
      "execution_count": null,
      "outputs": []
    },
    {
      "cell_type": "code",
      "source": [
        "def medium_rectangle_method(a, b, eps, f):\n",
        "    global n\n",
        "    global x_current\n",
        "    s = 0\n",
        "    n = 4\n",
        "    while(True):\n",
        "        sum = 0\n",
        "        h = (b - a)/n\n",
        "        for i in range(0, n):\n",
        "            x = a + i * h + h/2\n",
        "            x_current = x\n",
        "            sum += f(x)\n",
        "        sum *= h\n",
        "        if (abs(s - sum) < eps):\n",
        "            return sum\n",
        "        else:\n",
        "            n *= 2\n",
        "            s = sum"
      ],
      "metadata": {
        "id": "dwfFAbhjeTlJ"
      },
      "execution_count": null,
      "outputs": []
    },
    {
      "cell_type": "code",
      "source": [
        "def simpson_method(a, b, eps, f):\n",
        "    global n\n",
        "    global x_current\n",
        "    s = 0\n",
        "    n = 4\n",
        "    while(True):\n",
        "        sum = 0\n",
        "        h = (b - a)/n\n",
        "        for i in range(1, n):\n",
        "            x = a + i * h\n",
        "            x_current = x\n",
        "            if (i % 2 == 1):\n",
        "                sum += 4*f(x)\n",
        "            else:\n",
        "                sum += 2*f(x)\n",
        "        sum += f(a) + f(b)\n",
        "        sum *= h/3\n",
        "        if (abs(s - sum) < eps):\n",
        "            return sum\n",
        "        else:\n",
        "            n *= 2\n",
        "            s = sum"
      ],
      "metadata": {
        "id": "030_lRVGbAP0"
      },
      "execution_count": null,
      "outputs": []
    },
    {
      "cell_type": "code",
      "source": [
        "print(\"\\nВведите номер функции для интегрирования:\\n\"+\n",
        "     \"1. y = x^2\\n\" +\n",
        "     \"2. y = 2x/5\\n\" +\n",
        "     \"3. y = cos(x)/x\\n\")\n",
        "while(True):\n",
        "    fun = float(input())\n",
        "    if (fun == 1):\n",
        "      f = f1\n",
        "      break\n",
        "    elif (fun == 2):\n",
        "      f = f2\n",
        "      break\n",
        "    elif (fun == 3):\n",
        "      f = f3\n",
        "      break\n",
        "    else:\n",
        "      print(\"Ввееден неверный номер функции.\\n\" +\n",
        "          \"Попробуйте еще раз:\")\n",
        "    \n",
        "print(\"\\nВведите левый и правый пределы интегрирования:\\n\")\n",
        "while(True):\n",
        "    try:\n",
        "        a = float(input())\n",
        "        b = float(input())\n",
        "        if (a > b): \n",
        "            raise \n",
        "        break\n",
        "    except :\n",
        "        print(\"Введен неверные предел интегрирования.\\n\" +\n",
        "             \"Попробуйте еще раз\")\n",
        "\n",
        "print(\"\\nВведите точность:\\n\")\n",
        "while(True):\n",
        "      eps = float(input())\n",
        "      if (eps > 0): \n",
        "          break \n",
        "      print(\"Введенное значение точности (должно быть < 0).\\n\" +\n",
        "          \"Попробуйте еще раз:\")\n",
        "        \n",
        "print(\"\\nВведите метод для интегрирования:\\n\"+\n",
        "     \"1. метод прямоугольников\\n\" +\n",
        "     \"2. метод Симпсона\\n\")\n",
        "while(True):\n",
        "    method = float(input())\n",
        "    if (method >= 1) and (method <= 2):\n",
        "        break\n",
        "    print(\"Введен неверный номер метода.\\n\" +\n",
        "          \"Попробуйте еще раз:\")\n",
        "    \n",
        "if(method == 1):\n",
        "  try:\n",
        "    print(f'\\nМетодом левых прямоугольников: {left_rectangle_method(a, b, eps, f)} (Количество интервалов - {n})\\n' + \n",
        "      f'Методом правых прямоугольников: {right_rectangle_method(a, b, eps, f)} (Количество интервалов - {n})\\n' +\n",
        "      f'Методом средних прямоугольников: {medium_rectangle_method(a, b, eps, f)} (Количество интервалов - {n})\\n')\n",
        "  except ZeroDivisionError:\n",
        "    print(f'На данном интервале находиться точка разрыва: x={x_current}')\n",
        "    \n",
        "\n",
        "if(method == 2):\n",
        "  try:\n",
        "    print(f'\\nМетодом Симпсона: {simpson_method(a, b, eps, f)} (Количество интервалов - {n})')\n",
        "  except:\n",
        "     print(f'На данном интервале находиться точка разрыва: x={x_current}')"
      ],
      "metadata": {
        "id": "7n2WyMjBgbHE",
        "colab": {
          "base_uri": "https://localhost:8080/"
        },
        "outputId": "6c324b4f-054e-4b41-e5de-7d467c89c854"
      },
      "execution_count": null,
      "outputs": [
        {
          "output_type": "stream",
          "name": "stdout",
          "text": [
            "\n",
            "Введите номер функции для интегрирования:\n",
            "1. y = x^2\n",
            "2. y = 2x/5\n",
            "3. y = cos(x)/x\n",
            "\n",
            "1\n",
            "\n",
            "Введите левый и правый пределы интегрирования:\n",
            "\n",
            "-2\n",
            "2\n",
            "\n",
            "Введите точность:\n",
            "\n",
            "0.001\n",
            "\n",
            "Введите метод для интегрирования:\n",
            "1. метод прямоугольников\n",
            "2. метод Симпсона\n",
            "\n",
            "1\n",
            "\n",
            "Методом левых прямоугольников: 5.33349609375 (Количество интервалов - 256)\n",
            "Методом правых прямоугольников: 5.33349609375 (Количество интервалов - 256)\n",
            "Методом средних прямоугольников: 5.3330078125 (Количество интервалов - 128)\n",
            "\n"
          ]
        }
      ]
    }
  ]
}
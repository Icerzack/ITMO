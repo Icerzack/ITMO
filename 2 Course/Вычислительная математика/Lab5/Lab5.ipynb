{
  "nbformat": 4,
  "nbformat_minor": 0,
  "metadata": {
    "colab": {
      "name": "Lab5.ipynb",
      "provenance": [],
      "collapsed_sections": []
    },
    "kernelspec": {
      "name": "python3",
      "display_name": "Python 3"
    },
    "language_info": {
      "name": "python"
    }
  },
  "cells": [
    {
      "cell_type": "markdown",
      "source": [
        ""
      ],
      "metadata": {
        "id": "7EbJLLb19oQP"
      }
    },
    {
      "cell_type": "code",
      "execution_count": 1,
      "metadata": {
        "id": "AUYdEU65XLaj"
      },
      "outputs": [],
      "source": [
        "import numpy as np\n",
        "from numpy import genfromtxt\n",
        "import matplotlib\n",
        "import matplotlib.pyplot as plt\n",
        "import matplotlib.lines as mlines\n",
        "from matplotlib.pyplot import figure\n",
        "import sys\n",
        "import math\n",
        "import pandas as pd\n",
        "from math import factorial as fc"
      ]
    },
    {
      "cell_type": "code",
      "source": [
        "def in_float(s = 'Введите число', integer = False, check = [False, 0, 0]):\n",
        "    flag = True\n",
        "    while flag:\n",
        "        flag = False\n",
        "        try:\n",
        "            if integer:\n",
        "                val = int(input(s +': '))\n",
        "            else:\n",
        "                val = float(input(s +': '))\n",
        "            if check[0] and (val < check[1] or val > check[2]):\n",
        "                raise ValueError\n",
        "        except ValueError:\n",
        "            flag = True\n",
        "            if check[0]:\n",
        "                print(f'Попробуйте снова! Введенное число должно принадлежать интервалу [{check[1]}; {check[2]}]\\n')\n",
        "            else:\n",
        "                print(f'Попробуйте снова!\\n')\n",
        "    return val\n",
        "\n",
        "def parse():\n",
        "    flag = True\n",
        "    while flag:\n",
        "        path = input('Путь:\\n').strip()\n",
        "        try:\n",
        "            a = genfromtxt(path, delimiter=',')\n",
        "            if True in np.isnan(a) or a.shape[0] != 2:\n",
        "                raise ValueError\n",
        "            return a   \n",
        "        except ValueError:\n",
        "            print('В файле должно быть 2 строчки, в каждой одинаковое количество чисел\\n')\n",
        "        except OSError:\n",
        "            print('Такого файла нет.\\n')\n",
        "        print('Попробуйте снова!\\n')\n",
        "\n",
        "def input_vals():\n",
        "    n = in_float(s = 'Введите количество точек', integer = True)\n",
        "    print()\n",
        "    a = []\n",
        "    for i in range(int(n)):\n",
        "        a.append([in_float('x'), in_float('y')])\n",
        "        print()\n",
        "    return np.array(a).transpose()\n",
        "\n",
        "def to_df(array, f, eps, f_type = 'f'):\n",
        "    np_arr = np.concatenate((array, [f], [eps]), axis=0)\n",
        "    return pd.DataFrame(data=np_arr, index=[\"X\", \"Y\", f_type, 'eps'])\n",
        "\n",
        "\n",
        "def newline(p1, p2, color = 'black'):\n",
        "    ax = plt.gca()\n",
        "    xmin, xmax = ax.get_xbound()\n",
        "\n",
        "    if(p2[0] == p1[0]):\n",
        "        xmin = xmax = p1[0]\n",
        "        ymin, ymax = ax.get_ybound()\n",
        "    else:\n",
        "        ymax = p1[1]+(p2[1]-p1[1])/(p2[0]-p1[0])*(xmax-p1[0])\n",
        "        ymin = p1[1]+(p2[1]-p1[1])/(p2[0]-p1[0])*(xmin-p1[0])\n",
        "\n",
        "    l = mlines.Line2D([xmin,xmax], [ymin,ymax], color = color)\n",
        "    ax.add_line(l)\n",
        "    return l\n",
        "\n",
        "def check_and_draw(x, y, approximate_function, point):\n",
        "    fig, ax = plt.subplots()   \n",
        "    xnew=np.linspace(np.min(x),np.max(x),100)\n",
        "    ynew=[approximate_function(x,y,i) for i in xnew]\n",
        "    plt.plot(x,y,'o', label = 'Входные точки')\n",
        "    plt.plot(xnew,ynew, label = 'Функция аппр.')\n",
        "    plt.plot(point[0], point[1], '.', markersize=12, label = 'Аппроксимация')\n",
        "    plt.title(approximate_function)\n",
        "    ax.legend() \n",
        "    plt.grid(True)\n",
        "    plt.show()"
      ],
      "metadata": {
        "id": "WQ2B7bjo4Cmr"
      },
      "execution_count": 2,
      "outputs": []
    },
    {
      "cell_type": "code",
      "source": [
        "def interpolate_lagrange(x, y, x_cur) :\n",
        "    res = 0.0\n",
        "    for i in range (0, len(x)):\n",
        "        p = 1.0\n",
        "        for j in range (0, len(x)):\n",
        "            if(i != j):\n",
        "                p *= (x_cur - x[j])/(x[i]-x[j])\n",
        "        res += p*y[i]\n",
        "    return res\n",
        "\n",
        "def coef(y, n, i):\n",
        "    if n == 0:\n",
        "        return (y[i + 1] - y[i])\n",
        "    return (coef(y, n - 1, i + 1) - coef(y, n - 1, i))\n",
        "\n",
        "def newton_forward_interpolation(x, y, x_cur):\n",
        "    i = 0\n",
        "    n = len(x) - 1\n",
        "    t = (x_cur - x[i]) / (x[1] - x[0])\n",
        "    return y[i] + sum(np.prod([t - j for j in range(k)]) / math.factorial(k) * coef(y, k - 1, i) for k in range(1, n - i + 1))\n",
        "\n",
        "def newton_backward_interpolation(x, y, x_cur):\n",
        "    n = len(x) - 1\n",
        "    t = (x_cur - x[n]) / (x[1] - x[0])\n",
        "    return y[n] + sum(np.prod([t + j for j in range(k)]) / math.factorial(k) * coef(y, k - 1, n - k) for k in range(1, n + 1))\n",
        "    \n",
        "def interpolate_newton(x, y, x_cur):\n",
        "    if x_cur > x[int((x[-1]+x[0])/2)]:\n",
        "      return newton_backward_interpolation(x, y, x_cur)\n",
        "    else:\n",
        "      return newton_forward_interpolation(x, y, x_cur)"
      ],
      "metadata": {
        "id": "pSOClPo84Ise"
      },
      "execution_count": 3,
      "outputs": []
    },
    {
      "cell_type": "code",
      "source": [
        "def run():\n",
        "    again = True\n",
        "    while again:\n",
        "        again = False\n",
        "        in_type = input('Введите:\\n\\t* k - если вводить с клавиатуры\\n\\t* f - если вводить из файла\\n')\n",
        "        if in_type.strip() == 'k':\n",
        "            data = input_vals()\n",
        "        elif in_type.strip() == 'f':\n",
        "            data = parse()\n",
        "        else:\n",
        "            print('Введено неверно, попробуйте снова.')\n",
        "            again = True\n",
        "    print(f'Итоговый сет данных:\\n{data[0]}\\n{data[1]}')\n",
        "\n",
        "    cur_x = in_float('Число, для которого интерполировать значение: ', check = [True, min(data[0]), max(data[0])])\n",
        "    \n",
        "    lagrange_result = interpolate_lagrange(data[0],data[1],cur_x)\n",
        "    print(f'Lagrange\\nОтвет методом Лагранжа: {lagrange_result}')\n",
        "    check_and_draw(data[0], data[1], interpolate_lagrange, [cur_x, lagrange_result])\n",
        "    print()\n",
        "\n",
        "    newtone_result = interpolate_newton(data[0],data[1],cur_x)\n",
        "    print(f'Newtone\\nОтвет методом Ньютона: {newtone_result}')\n",
        "    check_and_draw(data[0], data[1], interpolate_newton, [cur_x, newtone_result])"
      ],
      "metadata": {
        "id": "7qGhxQrf4qcI"
      },
      "execution_count": 4,
      "outputs": []
    },
    {
      "cell_type": "code",
      "source": [
        "run()"
      ],
      "metadata": {
        "colab": {
          "base_uri": "https://localhost:8080/",
          "height": 813
        },
        "id": "Ve6CByws4sMo",
        "outputId": "ab59e4d3-92b5-44e0-b31a-a18037adc9a7"
      },
      "execution_count": 5,
      "outputs": [
        {
          "output_type": "stream",
          "name": "stdout",
          "text": [
            "Введите:\n",
            "\t* k - если вводить с клавиатуры\n",
            "\t* f - если вводить из файла\n",
            "f\n",
            "Путь:\n",
            "data.txt\n",
            "Итоговый сет данных:\n",
            "[0.1 0.2 0.3 0.4 0.5]\n",
            "[1.25 2.38 3.79 5.44 7.14]\n",
            "Число, для которого интерполировать значение: : 0.15\n",
            "Lagrange\n",
            "Ответ методом Лагранжа: 1.783359375\n"
          ]
        },
        {
          "output_type": "display_data",
          "data": {
            "text/plain": [
              "<Figure size 432x288 with 1 Axes>"
            ],
            "image/png": "[encoded data removed]"
          },
          "metadata": {
            "needs_background": "light"
          }
        },
        {
          "output_type": "stream",
          "name": "stdout",
          "text": [
            "\n",
            "Newtone\n",
            "Ответ методом Ньютона: 1.7833593750000007\n"
          ]
        },
        {
          "output_type": "display_data",
          "data": {
            "text/plain": [
              "<Figure size 432x288 with 1 Axes>"
            ],
            "image/png": "[encoded data removed]"
          },
          "metadata": {
            "needs_background": "light"
          }
        }
      ]
    }
  ]
}